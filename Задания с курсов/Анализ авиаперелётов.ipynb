{
 "cells": [
  {
   "cell_type": "markdown",
   "metadata": {},
   "source": [
    "## **<font color=\"green\">Комментарий наставника</font>**\n",
    "\n",
    "Привет! Меня зовут Наталья, я теперь буду наставницей в твоей группе. Спасибо за вовремя сданную работу :)\n",
    "    \n",
    "В файле ты найдешь комментарии к проекту, они будут в отдельных ячейках Markdown с заголовком «Комментарий наставника», пожалуйста, не удаляй их. Так мне будет проще проверять твою работу в следующий раз. Наиболее критиченые комментарии, которые влияют на то будет ли зачтены работа, будут отмечены <font color=\"red\">красным </font>."
   ]
  },
  {
   "cell_type": "markdown",
   "metadata": {},
   "source": [
    "# Шаг №1. Импортируем файлы и необходимые библиотеки."
   ]
  },
  {
   "cell_type": "code",
   "execution_count": 1,
   "metadata": {},
   "outputs": [],
   "source": [
    "import pandas as pd\n",
    "import numpy as np\n",
    "from pymystem3 import Mystem\n",
    "import matplotlib.pyplot as plt\n",
    "import math\n",
    "from scipy import stats as st"
   ]
  },
  {
   "cell_type": "code",
   "execution_count": 2,
   "metadata": {},
   "outputs": [
    {
     "name": "stdout",
     "output_type": "stream",
     "text": [
      "                 model  flights_amount\n",
      "0      Airbus A319-100             607\n",
      "1      Airbus A321-200             960\n",
      "2       Boeing 737-300             630\n",
      "3       Boeing 767-300             600\n",
      "4       Boeing 777-300             300\n",
      "5   Bombardier CRJ-200            4446\n",
      "6   Cessna 208 Caravan            4557\n",
      "7  Sukhoi SuperJet-100            4185\n",
      "<class 'pandas.core.frame.DataFrame'>\n",
      "RangeIndex: 8 entries, 0 to 7\n",
      "Data columns (total 2 columns):\n",
      "model             8 non-null object\n",
      "flights_amount    8 non-null int64\n",
      "dtypes: int64(1), object(1)\n",
      "memory usage: 208.0+ bytes\n"
     ]
    }
   ],
   "source": [
    "query_1 = pd.read_csv('/datasets/query_1.csv')\n",
    "print(query_1)\n",
    "query_1.info()"
   ]
  },
  {
   "cell_type": "code",
   "execution_count": 3,
   "metadata": {},
   "outputs": [
    {
     "name": "stdout",
     "output_type": "stream",
     "text": [
      "<class 'pandas.core.frame.DataFrame'>\n",
      "RangeIndex: 101 entries, 0 to 100\n",
      "Data columns (total 2 columns):\n",
      "city               101 non-null object\n",
      "average_flights    101 non-null float64\n",
      "dtypes: float64(1), object(1)\n",
      "memory usage: 1.7+ KB\n"
     ]
    }
   ],
   "source": [
    "query_3 = pd.read_csv('/datasets/query_3.csv')\n",
    "query_3.info()"
   ]
  },
  {
   "cell_type": "markdown",
   "metadata": {},
   "source": [
    "## Топ - 10 городов по количеству рейсов."
   ]
  },
  {
   "cell_type": "code",
   "execution_count": 4,
   "metadata": {},
   "outputs": [
    {
     "name": "stdout",
     "output_type": "stream",
     "text": [
      "               city  average_flights\n",
      "43           Москва       129.774194\n",
      "70  Санкт-Петербург        31.161290\n",
      "54      Новосибирск        17.322581\n",
      "33       Красноярск        11.580645\n",
      "20     Екатеринбург        11.322581\n",
      "67   Ростов-на-Дону        10.193548\n",
      "63            Пермь        10.129032\n",
      "10           Брянск        10.000000\n",
      "74             Сочи         9.612903\n",
      "84        Ульяновск         9.580645\n"
     ]
    },
    {
     "data": {
      "text/plain": [
       "<matplotlib.axes._subplots.AxesSubplot at 0x7f8de5896898>"
      ]
     },
     "execution_count": 4,
     "metadata": {},
     "output_type": "execute_result"
    },
    {
     "data": {
      "image/png": "[encoded data removed]",
      "text/plain": [
       "<Figure size 432x288 with 1 Axes>"
      ]
     },
     "metadata": {
      "needs_background": "light"
     },
     "output_type": "display_data"
    }
   ],
   "source": [
    "print(query_3.sort_values(by='average_flights', ascending = False).head(10))\n",
    "query_3.sort_values(by='average_flights', ascending = False).head(10).plot(x='city',y='average_flights',kind='bar')"
   ]
  },
  {
   "cell_type": "markdown",
   "metadata": {},
   "source": [
    "<b>Вывод:</b> В абсолютных лидерах по количеству рейсов в день - Москва, второе место - Петербург, третье - Новосибирск. Дальше разница между 4-ым и 10-ым местом составляет всего 2 рейса в день и распределение по местам идет за счет десятых долей рейсов."
   ]
  },
  {
   "cell_type": "markdown",
   "metadata": {},
   "source": [
    "## Модели самолетов и количество рейсов."
   ]
  },
  {
   "cell_type": "code",
   "execution_count": 5,
   "metadata": {},
   "outputs": [
    {
     "data": {
      "text/plain": [
       "<matplotlib.axes._subplots.AxesSubplot at 0x7f8de53f2f60>"
      ]
     },
     "execution_count": 5,
     "metadata": {},
     "output_type": "execute_result"
    },
    {
     "data": {
      "image/png": "[encoded data removed]",
      "text/plain": [
       "<Figure size 432x288 with 1 Axes>"
      ]
     },
     "metadata": {
      "needs_background": "light"
     },
     "output_type": "display_data"
    }
   ],
   "source": [
    "query_1.sort_values(by='flights_amount', ascending = False).head(10).plot(x='model',y='flights_amount',kind='bar')"
   ]
  },
  {
   "cell_type": "markdown",
   "metadata": {},
   "source": [
    "<b>В моделях самолетов преимущество захватили три модели - Bombardier CRJ-200, Cessna 208 Caravan, Sukhoi SuperJet-100 c количеством рейсов <font color='blue'>более 4-х тысяч</font>, у остальных моделей <font color='blue'>меньше тысячи рейсов</font> на каждую.</b>"
   ]
  },
  {
   "cell_type": "markdown",
   "metadata": {},
   "source": [
    "## Города и количество рейсов."
   ]
  },
  {
   "cell_type": "code",
   "execution_count": 6,
   "metadata": {},
   "outputs": [
    {
     "data": {
      "text/plain": [
       "<matplotlib.axes._subplots.AxesSubplot at 0x7f8de4d2e400>"
      ]
     },
     "execution_count": 6,
     "metadata": {},
     "output_type": "execute_result"
    },
    {
     "data": {
      "image/png": "[encoded data removed]",
      "text/plain": [
       "<Figure size 1080x288 with 1 Axes>"
      ]
     },
     "metadata": {
      "needs_background": "light"
     },
     "output_type": "display_data"
    }
   ],
   "source": [
    "query_3.query('average_flights<17').sort_values(by='average_flights', ascending = False).head(30).plot(x='city',y='average_flights', kind='bar', figsize=(15, 4), grid=True)"
   ]
  },
  {
   "cell_type": "markdown",
   "metadata": {},
   "source": [
    "<b>Количество рейсов в городах ниже первой тройки значительно меньше и находится в пределах 4-12 рейсов</b>"
   ]
  },
  {
   "cell_type": "markdown",
   "metadata": {},
   "source": [
    "## **<font color=\"green\">Комментарий наставника</font>**\n",
    "\n",
    "Можно еще построить график без первой тройки, тогда 4 место начнет отличаться от последнего хотя бы в два раза."
   ]
  },
  {
   "cell_type": "markdown",
   "metadata": {},
   "source": [
    "# Проверка гипотезы средствами Python."
   ]
  },
  {
   "cell_type": "code",
   "execution_count": 7,
   "metadata": {},
   "outputs": [
    {
     "name": "stdout",
     "output_type": "stream",
     "text": [
      "   week_number  ticket_amount  festival_week festival_name\n",
      "0           30          43568           30.0     Park Live\n",
      "1           31          51034           31.0  Пикник Афиши\n",
      "2           32          51675            NaN           NaN\n",
      "3           33          51378            NaN           NaN\n",
      "4           34          51492            NaN           NaN\n",
      "5           35          51360            NaN           NaN\n",
      "6           36          51386           36.0       Видфест\n",
      "7           37          51670            NaN           NaN\n",
      "8           38          51518            NaN           NaN\n",
      "9           39          51623            NaN           NaN\n",
      "<class 'pandas.core.frame.DataFrame'>\n",
      "RangeIndex: 10 entries, 0 to 9\n",
      "Data columns (total 4 columns):\n",
      "week_number      10 non-null int64\n",
      "ticket_amount    10 non-null int64\n",
      "festival_week    3 non-null float64\n",
      "festival_name    3 non-null object\n",
      "dtypes: float64(1), int64(2), object(1)\n",
      "memory usage: 400.0+ bytes\n"
     ]
    }
   ],
   "source": [
    "query_last = pd.read_csv('/datasets/query_last.csv')\n",
    "print(query_last)\n",
    "query_last.info()"
   ]
  },
  {
   "cell_type": "markdown",
   "metadata": {},
   "source": [
    "### «Средний спрос на билеты во время фестивалей не отличается от среднего спроса на билеты в обычное время»"
   ]
  },
  {
   "cell_type": "markdown",
   "metadata": {},
   "source": [
    "<ol type= «1″>\n",
    "<li><b>Нулевая гипотеза - Средний спрос на билеты во время фестивалей <font color='blue'>не отличается</font> от среднего спроса на билеты в обычное время</b></li>\n",
    "<li><b>Альтернативная гипотеза - Средний спрос на билеты во время фестивалей <font color='blue'>отличается</font> от среднего спроса на билеты в обычное время</b></li>      \n",
    "</ol>"
   ]
  },
  {
   "cell_type": "markdown",
   "metadata": {},
   "source": [
    "Формируем наши датасеты. Проводим срезы по неделям."
   ]
  },
  {
   "cell_type": "code",
   "execution_count": 8,
   "metadata": {},
   "outputs": [],
   "source": [
    "sample_1 = query_last[query_last['festival_name'].isna()].loc[:,'ticket_amount']\n",
    "sample_2 = query_last[~query_last['festival_name'].isna()].loc[:,'ticket_amount']"
   ]
  },
  {
   "cell_type": "markdown",
   "metadata": {},
   "source": [
    "Задаем уровень критической важности, если р-value окажется меньше него - отвергаем нулевую гипотезу и принимаем альтернативную."
   ]
  },
  {
   "cell_type": "code",
   "execution_count": 9,
   "metadata": {},
   "outputs": [],
   "source": [
    "alpha = .05"
   ]
  },
  {
   "cell_type": "markdown",
   "metadata": {},
   "source": [
    "Проверяем гипотезу о равенстве средних двух независимых совокупностей."
   ]
  },
  {
   "cell_type": "code",
   "execution_count": 10,
   "metadata": {},
   "outputs": [
    {
     "name": "stdout",
     "output_type": "stream",
     "text": [
      "p-значение: 0.09688869045922928\n",
      "Не получилось отвергнуть нулевую гипотезу\n"
     ]
    }
   ],
   "source": [
    "results = st.ttest_ind(\n",
    "    sample_2, \n",
    "    sample_1)\n",
    "\n",
    "print('p-значение:', results.pvalue)\n",
    "\n",
    "if (results.pvalue < alpha):\n",
    "    print(\"Отвергаем нулевую гипотезу\")\n",
    "else:\n",
    "    print(\"Не получилось отвергнуть нулевую гипотезу\")"
   ]
  },
  {
   "cell_type": "code",
   "execution_count": 11,
   "metadata": {},
   "outputs": [
    {
     "name": "stdout",
     "output_type": "stream",
     "text": [
      " Средний спрос на билеты во время фестивалей не отличается от среднего спроса на билеты в обычное время и с вероятностью 9.688869% это будет случайно.\n"
     ]
    }
   ],
   "source": [
    "print(' Средний спрос на билеты во время фестивалей не отличается от среднего спроса на билеты в обычное время и с вероятностью {:%} это будет случайно.'.format(results.pvalue))"
   ]
  },
  {
   "cell_type": "markdown",
   "metadata": {},
   "source": [
    "<b>Средний спрос во время фестивалей не отличается от среднего спроса в обычное время, что может говорить о том, что добираться на самолете не выгодно или большая часть посетителей фестивалей - москвичи</b>"
   ]
  },
  {
   "cell_type": "markdown",
   "metadata": {},
   "source": [
    "## **<font color=\"green\">Комментарий наставника</font>**\n",
    "\n",
    "У тебя получилось p-value равное 0.097, это означает, что в 9,7% случаев различия между выборками получились случайно, если бы выборки на самом деле были одинакомыми. 9,7% это достаточно большая вероятность, поэтому ей нельзя принебречь и отвергнуть нулевую гипотизу не получится. Но и утверждать, что выборки не отличаются тоже нельзя. Тут скорее вывод, что по этим данным мы не сможем с уверенностью сказать отличаются ли недели с фестивалями от недель без фестивалей или нет."
   ]
  },
  {
   "cell_type": "markdown",
   "metadata": {},
   "source": [
    "## **<font color=\"green\">Комментарий наставника</font>**\n",
    "\n",
    "Все хорошо, только общего вывода не хватает.."
   ]
  },
  {
   "cell_type": "markdown",
   "metadata": {},
   "source": [
    "## Общий вывод"
   ]
  },
  {
   "cell_type": "markdown",
   "metadata": {},
   "source": [
    "<ol type= «1″>\n",
    "<li><b>Среди моделей самолетов совершающих перелеты по России есть три лидера - <font color='blue'>Bombardier CRJ-200, Cessna 208 Caravan, Sukhoi SuperJet-100</font> c количеством рейсов около <font color='blue'>4-х тысяч</font> на каждую модель, остальные модели отстают по количеству соверешнных рейсов более чем в <font color='blue'>4-ре раза</font></b></li>\n",
    "<li><b>Среди городов по количеству рейсов в день абсолютным лидером является <font color='blue'>Москва</font> с 129 рейсами в день, города ниже топ-3 имеют 4-12 рейсов в день</b></li>\n",
    "<li><b>После проверки гипотезы о разнице спроса на авиабилеты во время фестивалей и в обычные недели мы не может с уверенностю сказать, что спрос отличается или нет.</b></li>\n",
    "</ol>"
   ]
  },
  {
   "cell_type": "code",
   "execution_count": null,
   "metadata": {},
   "outputs": [],
   "source": []
  }
 ],
 "metadata": {
  "kernelspec": {
   "display_name": "Python 3",
   "language": "python",
   "name": "python3"
  },
  "language_info": {
   "codemirror_mode": {
    "name": "ipython",
    "version": 3
   },
   "file_extension": ".py",
   "mimetype": "text/x-python",
   "name": "python",
   "nbconvert_exporter": "python",
   "pygments_lexer": "ipython3",
   "version": "3.8.8"
  }
 },
 "nbformat": 4,
 "nbformat_minor": 2
}
