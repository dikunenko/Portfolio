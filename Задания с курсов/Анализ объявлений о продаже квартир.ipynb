{
 "cells": [
  {
   "cell_type": "markdown",
   "metadata": {},
   "source": [
    "# Исследование объявлений о продаже квартир\n",
    "\n",
    "В вашем распоряжении данные сервиса Яндекс.Недвижимость — архив объявлений о продаже квартир в Санкт-Петербурге и соседних населённых пунктов за несколько лет. Нужно научиться определять рыночную стоимость объектов недвижимости. Ваша задача — установить параметры. Это позволит построить автоматизированную систему: она отследит аномалии и мошенническую деятельность. \n",
    "\n",
    "По каждой квартире на продажу доступны два вида данных. Первые вписаны пользователем, вторые — получены автоматически на основе картографических данных. Например, расстояние до центра, аэропорта, ближайшего парка и водоёма. "
   ]
  },
  {
   "cell_type": "markdown",
   "metadata": {},
   "source": [
    "<font color='magenta'><b>Комментарий наставника:</b> Привет! Спасибо, что сдал работу так быстро. К сожалению, я пока не могу ее принять, т.к.:\n",
    "    - не уделенно достаточного внимания этапу предобработки данных, и даже к уже сделанному на этом этапе есть вопросы;\n",
    "    - ты не используешь библиотеку matplotlib, что сильно ограничивает тебя в выборе графиков, а это, в свою очередь, влияет на твои выводы;\n",
    "    - центр города опредлен слишком широко;\n",
    "    - как следствие всего этого - есть неверные выводы.\n",
    "    \n",
    "И при этом не могу не отметить твои заслуги:\n",
    "    - ты работаешь с ценой квадратного метра - и это очень правильный выбор;\n",
    "    - есть ряд отличных и при этом не очевидных предположений;\n",
    "    - ты используешь конструкцию try except.\n",
    "Жду улучшенную версию этого проекта. Удачи!\n",
    "</font>"
   ]
  },
  {
   "cell_type": "markdown",
   "metadata": {},
   "source": [
    "<font color='magenta'><b>Комментарий наставника 2:</b> Проект стал лучше, причем намного. В частности, качество предобаботки данных сильно выросло (хотя этот датасет, как и любой другой, можно еще чистить и чистить). Однако в проекте все еще есть ряд серьезных недоработок. В первую очередь, это работа с графиками. Хотя теперь ты выбираешь более удачные варианты, они все равно не вполне подходят под решаемые нами задачи. Например, зависимость от времени чаще всего стоит отображать самым простым графиком (вроде того, не котором ты искал центр). Где-то лучше всего сработают гистограммы, а где-то box-plot. Удели этим трем видам графиков больше внимания. Попробуй увеличить площадь графиков так, что бы подписи данных не сливались (как при изучении 10 населенных пунктов). Добавь автоматизацию графиков. И еще момент - пересмотри свой подход к анализу зависимости цены от этажа квартиры. Попробуй лучше структурировать завершающий вывод.\n",
    " \n",
    "Удачи!\n",
    "</font>"
   ]
  },
  {
   "cell_type": "markdown",
   "metadata": {},
   "source": [
    "<font color='magenta'><b>Комментарий наставника 3:</b> Вижу, что ты взял на вооружение многие приемы с консультации. Отлично! Проект стал действительно лучше, особенно порадовал вывод в конце и чистка данных. \n",
    "Осталось сделать самую малость - таки найти зависимость от дня недели и месяца. Попробуй сделать pivot_table по медианной цене в зависимости от дня недели. То же самое с месяцем, а потом вывести полученные значения на график (простой график в виде линии). Потом снова отправляй на проверку - дожно сработать. \n",
    "</font>"
   ]
  },
  {
   "cell_type": "markdown",
   "metadata": {},
   "source": [
    "<font color='magenta'><b>Комментарий наставника 4:</b> Принято! Отличная работа с месяцами и днями недели. </font>"
   ]
  },
  {
   "cell_type": "markdown",
   "metadata": {},
   "source": [
    "### Шаг 1. Откройте файл с данными и изучите общую информацию. "
   ]
  },
  {
   "cell_type": "code",
   "execution_count": 1,
   "metadata": {},
   "outputs": [
    {
     "name": "stdout",
     "output_type": "stream",
     "text": [
      "<class 'pandas.core.frame.DataFrame'>\n",
      "RangeIndex: 23699 entries, 0 to 23698\n",
      "Data columns (total 22 columns):\n",
      "total_images            23699 non-null int64\n",
      "last_price              23699 non-null float64\n",
      "total_area              23699 non-null float64\n",
      "first_day_exposition    23699 non-null object\n",
      "rooms                   23699 non-null int64\n",
      "ceiling_height          14504 non-null float64\n",
      "floors_total            23613 non-null float64\n",
      "living_area             21796 non-null float64\n",
      "floor                   23699 non-null int64\n",
      "is_apartment            2775 non-null object\n",
      "studio                  23699 non-null bool\n",
      "open_plan               23699 non-null bool\n",
      "kitchen_area            21421 non-null float64\n",
      "balcony                 12180 non-null float64\n",
      "locality_name           23650 non-null object\n",
      "airports_nearest        18157 non-null float64\n",
      "cityCenters_nearest     18180 non-null float64\n",
      "parks_around3000        18181 non-null float64\n",
      "parks_nearest           8079 non-null float64\n",
      "ponds_around3000        18181 non-null float64\n",
      "ponds_nearest           9110 non-null float64\n",
      "days_exposition         20518 non-null float64\n",
      "dtypes: bool(2), float64(14), int64(3), object(3)\n",
      "memory usage: 3.7+ MB\n"
     ]
    }
   ],
   "source": [
    "import pandas as pd\n",
    "import matplotlib.pyplot as plt\n",
    "data = pd.read_csv('/datasets/real_estate_data.csv', '\\t')\n",
    "data.info()"
   ]
  },
  {
   "cell_type": "markdown",
   "metadata": {},
   "source": [
    "### Вывод"
   ]
  },
  {
   "cell_type": "markdown",
   "metadata": {},
   "source": [
    "При первом прочтении файла видим, что данные разделены разделителем \\t, поэтому откроем файл с передачей соответствующего значения."
   ]
  },
  {
   "cell_type": "markdown",
   "metadata": {},
   "source": [
    "### Шаг 2. Предобработка данных"
   ]
  },
  {
   "cell_type": "markdown",
   "metadata": {},
   "source": [
    "Как было видно из информации о датасете есть пустые значения в ceiling_height, living_area, kitchen_area - эти значения не заполнены скорее всего из-за того, что арендодатели не знают сами этих цифр или решили не вносить."
   ]
  },
  {
   "cell_type": "markdown",
   "metadata": {},
   "source": [
    "В столбце balcony пропущенные значения связаны с отстуствием балконов. А в столбце is_apartment - неверно выбранный тип объекта и много пропущенных значений, удалим этот столбец.<font color='blue'> Заполним пропуски False, принимая их за то, что люди не заполняли это поле, так как квартира не была аппартаментами</font>"
   ]
  },
  {
   "cell_type": "markdown",
   "metadata": {},
   "source": [
    "<font color='magenta'><b>Комментарий наставника:</b> Это точно стоит делать? Нет ли логичного объяснения пропускам в данных?</font>"
   ]
  },
  {
   "cell_type": "markdown",
   "metadata": {},
   "source": [
    "<font color='magenta'><b>Комментарий наставника 2:</b> Так гораздо лучше ;-)</font>"
   ]
  },
  {
   "cell_type": "code",
   "execution_count": 2,
   "metadata": {},
   "outputs": [
    {
     "data": {
      "text/plain": [
       "0    False\n",
       "1    False\n",
       "2    False\n",
       "3    False\n",
       "4    False\n",
       "Name: is_apartment, dtype: bool"
      ]
     },
     "execution_count": 2,
     "metadata": {},
     "output_type": "execute_result"
    }
   ],
   "source": [
    "data['is_apartment']=data['is_apartment'].fillna(False).astype(bool)\n",
    "data['is_apartment'].value_counts()\n",
    "data['is_apartment'].head()"
   ]
  },
  {
   "cell_type": "code",
   "execution_count": 3,
   "metadata": {},
   "outputs": [],
   "source": [
    "data['floors_total']=data['floors_total'].fillna(0)\n",
    "data['floors_total']=data['floors_total'].astype('int')"
   ]
  },
  {
   "cell_type": "code",
   "execution_count": 4,
   "metadata": {},
   "outputs": [],
   "source": [
    "data['balcony']=data['balcony'].fillna(0)\n",
    "data['balcony']=data['balcony'].astype('int')"
   ]
  },
  {
   "cell_type": "code",
   "execution_count": 5,
   "metadata": {},
   "outputs": [],
   "source": [
    "data['parks_around3000']=data['parks_around3000'].fillna(0)\n",
    "data['parks_around3000']=data['parks_around3000'].astype('int')"
   ]
  },
  {
   "cell_type": "code",
   "execution_count": 6,
   "metadata": {},
   "outputs": [],
   "source": [
    "data['ponds_around3000']=data['ponds_around3000'].fillna(0)\n",
    "data['ponds_around3000']=data['ponds_around3000'].astype('int')"
   ]
  },
  {
   "cell_type": "code",
   "execution_count": 7,
   "metadata": {},
   "outputs": [],
   "source": [
    "data['days_exposition']=data['days_exposition'].fillna(data['days_exposition'].median())"
   ]
  },
  {
   "cell_type": "code",
   "execution_count": 8,
   "metadata": {},
   "outputs": [
    {
     "name": "stdout",
     "output_type": "stream",
     "text": [
      "0\n"
     ]
    }
   ],
   "source": [
    "print(data.duplicated().sum())"
   ]
  },
  {
   "cell_type": "code",
   "execution_count": 9,
   "metadata": {},
   "outputs": [
    {
     "name": "stdout",
     "output_type": "stream",
     "text": [
      "<class 'pandas.core.frame.DataFrame'>\n",
      "RangeIndex: 23699 entries, 0 to 23698\n",
      "Data columns (total 22 columns):\n",
      "total_images            23699 non-null int64\n",
      "last_price              23699 non-null float64\n",
      "total_area              23699 non-null float64\n",
      "first_day_exposition    23699 non-null object\n",
      "rooms                   23699 non-null int64\n",
      "ceiling_height          14504 non-null float64\n",
      "floors_total            23699 non-null int64\n",
      "living_area             21796 non-null float64\n",
      "floor                   23699 non-null int64\n",
      "is_apartment            23699 non-null bool\n",
      "studio                  23699 non-null bool\n",
      "open_plan               23699 non-null bool\n",
      "kitchen_area            21421 non-null float64\n",
      "balcony                 23699 non-null int64\n",
      "locality_name           23650 non-null object\n",
      "airports_nearest        18157 non-null float64\n",
      "cityCenters_nearest     18180 non-null float64\n",
      "parks_around3000        23699 non-null int64\n",
      "parks_nearest           8079 non-null float64\n",
      "ponds_around3000        23699 non-null int64\n",
      "ponds_nearest           9110 non-null float64\n",
      "days_exposition         23699 non-null float64\n",
      "dtypes: bool(3), float64(10), int64(7), object(2)\n",
      "memory usage: 3.5+ MB\n"
     ]
    }
   ],
   "source": [
    "data.info()"
   ]
  },
  {
   "cell_type": "markdown",
   "metadata": {},
   "source": [
    "<font color='blue'>Изменили</font> дефективный столбец Is_apartment и изменили тип столбца floors_total на Int., <font color='blue'>заполнили столбец с балконами, ближайшими парками и водоемами. Дубликатов не обнаружено</font>"
   ]
  },
  {
   "cell_type": "markdown",
   "metadata": {},
   "source": [
    "<font color='magenta'><b>Комментарий наставника:</b> Ты обработал не все пропуски и не до конца выполнил преобразование типов (хотя ниже ты работаешь с типом datetime, так что пробразование типов можно считать сделанным). Также не проверил таблицу на дубликаты. Возможно, это требование не достаточно ясно было прописанно в задании, но я прошу тебя уделить этому этапу больше времени. </font>"
   ]
  },
  {
   "cell_type": "markdown",
   "metadata": {},
   "source": [
    "<font color='magenta'><b>Комментарий наставника 2:</b> Стало гораздо лучше.</font>"
   ]
  },
  {
   "cell_type": "markdown",
   "metadata": {},
   "source": [
    "### Шаг 3. Посчитайте и добавьте в таблицу"
   ]
  },
  {
   "cell_type": "markdown",
   "metadata": {},
   "source": [
    "Добавим цену квадратного метра."
   ]
  },
  {
   "cell_type": "code",
   "execution_count": 10,
   "metadata": {},
   "outputs": [],
   "source": [
    "data['price_squade_meter']=data['last_price']/data['total_area']"
   ]
  },
  {
   "cell_type": "markdown",
   "metadata": {},
   "source": [
    "Добавим день недели, месяц и год публикации объявления"
   ]
  },
  {
   "cell_type": "code",
   "execution_count": 11,
   "metadata": {},
   "outputs": [],
   "source": [
    "data['first_day_exposition']=pd.to_datetime(data['first_day_exposition'], format='%Y-%m-%dT%H:%M:%S')\n",
    "data['weekday']=data['first_day_exposition'].dt.weekday\n",
    "data['month']=data['first_day_exposition'].dt.month\n",
    "data['year']=data['first_day_exposition'].dt.year"
   ]
  },
  {
   "cell_type": "markdown",
   "metadata": {},
   "source": [
    "Добавим столбец - этаж, на котором расположена квартира с вариантами \"Первый\"=0, \"Последний\"=1, \"Другой\"=2"
   ]
  },
  {
   "cell_type": "code",
   "execution_count": 12,
   "metadata": {},
   "outputs": [],
   "source": [
    "def floors(row):\n",
    "    if row['floor']==1:\n",
    "        return 'Первый'\n",
    "    elif row['floor']==row['floors_total']:\n",
    "        return 'Последний'\n",
    "    else:\n",
    "        return 'Другой'"
   ]
  },
  {
   "cell_type": "code",
   "execution_count": 13,
   "metadata": {},
   "outputs": [],
   "source": [
    "data['floor_new']=data.apply(floors, axis=1)"
   ]
  },
  {
   "cell_type": "code",
   "execution_count": 14,
   "metadata": {},
   "outputs": [
    {
     "data": {
      "text/plain": [
       "Другой       17446\n",
       "Последний     3336\n",
       "Первый        2917\n",
       "Name: floor_new, dtype: int64"
      ]
     },
     "execution_count": 14,
     "metadata": {},
     "output_type": "execute_result"
    }
   ],
   "source": [
    "data['floor_new'].value_counts()"
   ]
  },
  {
   "cell_type": "markdown",
   "metadata": {},
   "source": [
    "Добавим столбец с соотношением жилой и общей площади, а так же отношение площади кухни к общей"
   ]
  },
  {
   "cell_type": "code",
   "execution_count": 15,
   "metadata": {},
   "outputs": [],
   "source": [
    "try:\n",
    "    data['ratio_kitchen_area']=data['kitchen_area']/data['total_area']\n",
    "except:\n",
    "    data['ratio_kitchen_area']\n",
    "    print('Ошибка')"
   ]
  },
  {
   "cell_type": "code",
   "execution_count": 16,
   "metadata": {},
   "outputs": [],
   "source": [
    "try:\n",
    "    data['ratio_living_area']=data['living_area']/data['total_area']\n",
    "except:\n",
    "    data['ratio_living_area']\n",
    "    print('Ошибка')"
   ]
  },
  {
   "cell_type": "markdown",
   "metadata": {},
   "source": [
    "### Шаг 4. Проведите исследовательский анализ данных и выполните инструкции:"
   ]
  },
  {
   "cell_type": "markdown",
   "metadata": {},
   "source": [
    "Найдем типичные параметры продаваемых квартир. Площадь, цена, количество комнат."
   ]
  },
  {
   "cell_type": "code",
   "execution_count": 17,
   "metadata": {},
   "outputs": [
    {
     "name": "stdout",
     "output_type": "stream",
     "text": [
      "count    2.369900e+04\n",
      "mean     9.942166e+04\n",
      "std      5.030680e+04\n",
      "min      1.118349e+02\n",
      "25%      7.658547e+04\n",
      "50%      9.500000e+04\n",
      "75%      1.142563e+05\n",
      "max      1.907500e+06\n",
      "Name: price_squade_meter, dtype: float64\n"
     ]
    },
    {
     "data": {
      "text/plain": [
       "array([[<matplotlib.axes._subplots.AxesSubplot object at 0x7efd5c4e7390>]],\n",
       "      dtype=object)"
      ]
     },
     "execution_count": 17,
     "metadata": {},
     "output_type": "execute_result"
    },
    {
     "data": {
      "image/png": "[encoded data removed]",
      "text/plain": [
       "<Figure size 432x288 with 1 Axes>"
      ]
     },
     "metadata": {
      "needs_background": "light"
     },
     "output_type": "display_data"
    }
   ],
   "source": [
    "print(data['price_squade_meter'].describe())\n",
    "data.hist('price_squade_meter', range=(0,250000))\n",
    "#"
   ]
  },
  {
   "cell_type": "code",
   "execution_count": 18,
   "metadata": {},
   "outputs": [
    {
     "name": "stdout",
     "output_type": "stream",
     "text": [
      "count    23699.000000\n",
      "mean        60.348651\n",
      "std         35.654083\n",
      "min         12.000000\n",
      "25%         40.000000\n",
      "50%         52.000000\n",
      "75%         69.900000\n",
      "max        900.000000\n",
      "Name: total_area, dtype: float64\n"
     ]
    },
    {
     "data": {
      "text/plain": [
       "array([[<matplotlib.axes._subplots.AxesSubplot object at 0x7efd542cdb70>]],\n",
       "      dtype=object)"
      ]
     },
     "execution_count": 18,
     "metadata": {},
     "output_type": "execute_result"
    },
    {
     "data": {
      "image/png": "[encoded data removed]",
      "text/plain": [
       "<Figure size 432x288 with 1 Axes>"
      ]
     },
     "metadata": {
      "needs_background": "light"
     },
     "output_type": "display_data"
    }
   ],
   "source": [
    "print(data['total_area'].describe())\n",
    "data.hist('total_area', bins=20, range=(0, 900))"
   ]
  },
  {
   "cell_type": "code",
   "execution_count": 19,
   "metadata": {},
   "outputs": [
    {
     "name": "stdout",
     "output_type": "stream",
     "text": [
      "count    23699.000000\n",
      "mean         2.070636\n",
      "std          1.078405\n",
      "min          0.000000\n",
      "25%          1.000000\n",
      "50%          2.000000\n",
      "75%          3.000000\n",
      "max         19.000000\n",
      "Name: rooms, dtype: float64\n"
     ]
    },
    {
     "data": {
      "text/plain": [
       "array([[<matplotlib.axes._subplots.AxesSubplot object at 0x7efd54252b70>]],\n",
       "      dtype=object)"
      ]
     },
     "execution_count": 19,
     "metadata": {},
     "output_type": "execute_result"
    },
    {
     "data": {
      "image/png": "[encoded data removed]",
      "text/plain": [
       "<Figure size 432x288 with 1 Axes>"
      ]
     },
     "metadata": {
      "needs_background": "light"
     },
     "output_type": "display_data"
    }
   ],
   "source": [
    "print(data['rooms'].describe())\n",
    "data.hist('rooms', bins=data['rooms'].max(), range=(0, data['rooms'].max()/2))"
   ]
  },
  {
   "cell_type": "markdown",
   "metadata": {},
   "source": [
    "<font color='magenta'><b>Комментарий наставника 2:</b> Какое число корзин тут подошло бы идеально?</font>"
   ]
  },
  {
   "cell_type": "markdown",
   "metadata": {},
   "source": [
    "### Доп.вывод\n",
    "Использовал автоматизацию графика из консультации."
   ]
  },
  {
   "cell_type": "markdown",
   "metadata": {},
   "source": [
    "<font color='magenta'><b>Комментарий наставника 3:</b> это не совсем про автоматизацию графиков, хотя прием использвоан хорошо.</font>"
   ]
  },
  {
   "cell_type": "code",
   "execution_count": 20,
   "metadata": {},
   "outputs": [
    {
     "name": "stdout",
     "output_type": "stream",
     "text": [
      "count    23699.000000\n",
      "mean       169.360226\n",
      "std        206.535633\n",
      "min          1.000000\n",
      "25%         45.000000\n",
      "50%         95.000000\n",
      "75%        199.000000\n",
      "max       1580.000000\n",
      "Name: days_exposition, dtype: float64\n"
     ]
    },
    {
     "data": {
      "text/plain": [
       "array([[<matplotlib.axes._subplots.AxesSubplot object at 0x7efd54267e10>]],\n",
       "      dtype=object)"
      ]
     },
     "execution_count": 20,
     "metadata": {},
     "output_type": "execute_result"
    },
    {
     "data": {
      "image/png": "[encoded data removed]",
      "text/plain": [
       "<Figure size 432x288 with 1 Axes>"
      ]
     },
     "metadata": {
      "needs_background": "light"
     },
     "output_type": "display_data"
    }
   ],
   "source": [
    "print(data['days_exposition'].describe())\n",
    "data.hist('days_exposition', bins=180)\n",
    "#"
   ]
  },
  {
   "cell_type": "markdown",
   "metadata": {},
   "source": [
    "## Обнаруженные особенности: \n",
    "распределение стоимости квадратного метра квартир неравномерно, есть выбросы, отрежем все квартиры с ценой превышающей 200000 р за квм."
   ]
  },
  {
   "cell_type": "markdown",
   "metadata": {},
   "source": [
    "в количестве комнат тоже есть квартиры с большим количеством - больше 8-ми. Ограничим наше распределение 8-мью"
   ]
  },
  {
   "cell_type": "markdown",
   "metadata": {},
   "source": [
    "по общей площади ограничим наши данные 100 кв.м."
   ]
  },
  {
   "cell_type": "markdown",
   "metadata": {},
   "source": [
    "по длительности продажи квартиры: ограничим 1200 дней и так же есть странные выбросы около 50 дней и 100. На графике тонкие длинные столбцы. Скорее всего это снятия объявлений с продажи после окончания оплаченного или бесплатного периодов. Не будем убирать их."
   ]
  },
  {
   "cell_type": "markdown",
   "metadata": {},
   "source": [
    "<font color='magenta'><b>Комментарий наставника:</b> Отличный вывод о причинах выборосов на 50 и на 100 дней. Но убирать эти данные не нужно. </font>"
   ]
  },
  {
   "cell_type": "code",
   "execution_count": 21,
   "metadata": {},
   "outputs": [],
   "source": [
    "new_data = data.query('10000<price_squade_meter<250000').copy()\n",
    "new_data = new_data.query('total_area<200').copy()\n",
    "new_data = new_data.query('rooms<8').copy()\n",
    "new_data = new_data.query('days_exposition<1200').copy()\n",
    "#"
   ]
  },
  {
   "cell_type": "code",
   "execution_count": 22,
   "metadata": {},
   "outputs": [
    {
     "data": {
      "text/plain": [
       "(23150, 29)"
      ]
     },
     "execution_count": 22,
     "metadata": {},
     "output_type": "execute_result"
    }
   ],
   "source": [
    "data.shape\n",
    "new_data.shape\n",
    "#new_data.hist('last_price')"
   ]
  },
  {
   "cell_type": "markdown",
   "metadata": {},
   "source": [
    "<font color='magenta'><b>Комментарий наставника:</b> Сколько процентов данных ты удалил?</font>"
   ]
  },
  {
   "cell_type": "code",
   "execution_count": 23,
   "metadata": {},
   "outputs": [
    {
     "name": "stdout",
     "output_type": "stream",
     "text": [
      "Удалено около 2.316553% данных\n"
     ]
    }
   ],
   "source": [
    "print('Удалено около {:%} данных'.format(1 - new_data.shape[0]/data.shape[0]))"
   ]
  },
  {
   "cell_type": "markdown",
   "metadata": {},
   "source": [
    "### Доп.вывод.\n",
    "Добавили предобрабоку в столбец \"days_exposition\" заполнив медианным значением пропущенные данные и тем самым сократили количество удаленных данных."
   ]
  },
  {
   "cell_type": "markdown",
   "metadata": {},
   "source": [
    "<font color='magenta'><b>Комментарий наставника 2:</b> Ты уверен, что нужно удалять так много данных? Возможно, стоит быть чуть деликатней с данными. Удаление более 10% данных - плохой признак (хотя иногда без этого никак). </font>"
   ]
  },
  {
   "cell_type": "markdown",
   "metadata": {},
   "source": [
    "<font color='magenta'><b>Комментарий наставника 3:</b> Так гораздо лучше </font>"
   ]
  },
  {
   "cell_type": "markdown",
   "metadata": {},
   "source": [
    "## Какие факторы больше всего влияют на стоимость квартиры?"
   ]
  },
  {
   "cell_type": "markdown",
   "metadata": {},
   "source": [
    "### Зависимость от числа комнат"
   ]
  },
  {
   "cell_type": "code",
   "execution_count": 24,
   "metadata": {},
   "outputs": [
    {
     "data": {
      "text/plain": [
       "<matplotlib.axes._subplots.AxesSubplot at 0x7efd3d692fd0>"
      ]
     },
     "execution_count": 24,
     "metadata": {},
     "output_type": "execute_result"
    },
    {
     "data": {
      "image/png": "[encoded data removed]",
      "text/plain": [
       "<Figure size 432x288 with 1 Axes>"
      ]
     },
     "metadata": {
      "needs_background": "light"
     },
     "output_type": "display_data"
    }
   ],
   "source": [
    "#new_data.plot(x='rooms', y='price_squade_meter', kind='scatter', grid=True)\n",
    "new_data.boxplot(column='price_squade_meter', by='rooms')\n",
    "\n",
    "#.plot(x='rooms', y='price_squade_meter', kind='hexbin', gridsize=20, figsize=(8, 6), sharex=False, grid=True)\n"
   ]
  },
  {
   "cell_type": "code",
   "execution_count": 25,
   "metadata": {},
   "outputs": [
    {
     "name": "stdout",
     "output_type": "stream",
     "text": [
      "-0.06180655148431745\n"
     ]
    }
   ],
   "source": [
    "print(new_data['rooms'].corr(new_data['price_squade_meter']))"
   ]
  },
  {
   "cell_type": "markdown",
   "metadata": {},
   "source": [
    "### Вывод\n",
    "Наблюдается слабая обратная связь между количеством комнат и стоимостью, квадратный метр в 1-2-3 комнатных квартирах немного дороже, чем в многокомнатных."
   ]
  },
  {
   "cell_type": "markdown",
   "metadata": {},
   "source": [
    "<font color='magenta'><b>Комментарий наставника:</b> Вывод правильный, и мне нравится, что ты работаешь со стоимостью квадратного метра. Но вот выбор типа графика не очень удачный. </font>"
   ]
  },
  {
   "cell_type": "markdown",
   "metadata": {},
   "source": [
    "### Зависимость от этажа (первого или последнего)\n",
    "Для начала изменим добавим столбец оставив только 0 если это первый этаж и 1 если последний."
   ]
  },
  {
   "cell_type": "code",
   "execution_count": 26,
   "metadata": {},
   "outputs": [
    {
     "data": {
      "text/plain": [
       "<matplotlib.axes._subplots.AxesSubplot at 0x7efd3d56e710>"
      ]
     },
     "execution_count": 26,
     "metadata": {},
     "output_type": "execute_result"
    },
    {
     "data": {
      "image/png": "[encoded data removed]",
      "text/plain": [
       "<Figure size 432x288 with 1 Axes>"
      ]
     },
     "metadata": {
      "needs_background": "light"
     },
     "output_type": "display_data"
    }
   ],
   "source": [
    "floors_data=new_data.pivot_table(index='floor_new', values='price_squade_meter', aggfunc='mean').sort_values(by='price_squade_meter', ascending = False)\n",
    "floors_data.plot(grid=True)\n",
    "#.plot(x='floor_new', y='price_squade_meter', kind='hexbin', gridsize=20, figsize=(8, 6), sharex=False, grid=True)"
   ]
  },
  {
   "cell_type": "code",
   "execution_count": 27,
   "metadata": {},
   "outputs": [],
   "source": [
    "#print(new_data.query('floor_new<2').loc[:,'floor_new'].corr(new_data['price_squade_meter']))"
   ]
  },
  {
   "cell_type": "markdown",
   "metadata": {},
   "source": [
    "### Вывод\n",
    "Слабовыраженная прямая зависимость от этажа. Квадратный метр квартиры на первом этаже немного дешевле в среднем, чем в квартире на последнем\n",
    "#### Доп вывод.\n",
    "На первом этаже можно найти квартиры дешевле 50тр за квм и выше 175тр за квм не так много предложенийна первом этаже как на последнем."
   ]
  },
  {
   "cell_type": "markdown",
   "metadata": {},
   "source": [
    "## Доп.вывод\n",
    "Цены на \"Других\" этажах в среднем выше чем на \"Последних\" и на \"Первых\", где самые дешевые квартиры."
   ]
  },
  {
   "cell_type": "markdown",
   "metadata": {},
   "source": [
    "<font color='magenta'><b>Комментарий наставника:</b> В данном случае график не иллюстрирует практически ничего. Корреляция Пирсона в данном случае тоже не самый удачный метод исследования. Попробуй подобрать более удачный график.</font>"
   ]
  },
  {
   "cell_type": "markdown",
   "metadata": {},
   "source": [
    "<font color='magenta'><b>Комментарий наставника 2:</b> Зачем ты удаяешь здесь средние этажи? Ты удаляешь самое важное. </font>"
   ]
  },
  {
   "cell_type": "markdown",
   "metadata": {},
   "source": [
    "<font color='magenta'><b>Комментарий наставника 3:</b> Вот теперь все правильно. </font>"
   ]
  },
  {
   "cell_type": "markdown",
   "metadata": {},
   "source": [
    "### Зависимость от удаленности от центра"
   ]
  },
  {
   "cell_type": "code",
   "execution_count": 28,
   "metadata": {},
   "outputs": [
    {
     "data": {
      "text/plain": [
       "<matplotlib.axes._subplots.AxesSubplot at 0x7efd3d4a3cc0>"
      ]
     },
     "execution_count": 28,
     "metadata": {},
     "output_type": "execute_result"
    },
    {
     "data": {
      "image/png": "[encoded data removed]",
      "text/plain": [
       "<Figure size 576x432 with 2 Axes>"
      ]
     },
     "metadata": {
      "needs_background": "light"
     },
     "output_type": "display_data"
    }
   ],
   "source": [
    "new_data.query('cityCenters_nearest<20000').plot(x='cityCenters_nearest', y='price_squade_meter', kind='hexbin', gridsize=20, figsize=(8, 6), sharex=False, grid=True)"
   ]
  },
  {
   "cell_type": "code",
   "execution_count": 29,
   "metadata": {},
   "outputs": [
    {
     "name": "stdout",
     "output_type": "stream",
     "text": [
      "-0.34168849531157225\n"
     ]
    }
   ],
   "source": [
    "print(new_data.query('cityCenters_nearest<20000').loc[:,'cityCenters_nearest'].corr(new_data['price_squade_meter']))"
   ]
  },
  {
   "cell_type": "markdown",
   "metadata": {},
   "source": [
    "### Вывод\n",
    "Прослеживается легкая отрицательная обратная связь, что связано с уменьшением цены при удаленности от центра, что логично"
   ]
  },
  {
   "cell_type": "markdown",
   "metadata": {},
   "source": [
    "<font color='magenta'><b>Комментарий наставника:</b> вывод верен </font>"
   ]
  },
  {
   "cell_type": "markdown",
   "metadata": {},
   "source": [
    "### Зависимость от даты размещения."
   ]
  },
  {
   "cell_type": "code",
   "execution_count": 53,
   "metadata": {},
   "outputs": [
    {
     "data": {
      "text/plain": [
       "<matplotlib.axes._subplots.AxesSubplot at 0x7efd2307b630>"
      ]
     },
     "execution_count": 53,
     "metadata": {},
     "output_type": "execute_result"
    },
    {
     "data": {
      "image/png": "[encoded data removed]",
      "text/plain": [
       "<Figure size 1080x360 with 1 Axes>"
      ]
     },
     "metadata": {
      "needs_background": "light"
     },
     "output_type": "display_data"
    }
   ],
   "source": [
    "weekday_data=new_data.pivot_table(index='weekday', values='price_squade_meter', aggfunc='count')\n",
    "weekday_data.plot(kind='bar',grid=True, figsize=(15,5))"
   ]
  },
  {
   "cell_type": "code",
   "execution_count": 57,
   "metadata": {},
   "outputs": [
    {
     "data": {
      "text/plain": [
       "<matplotlib.axes._subplots.AxesSubplot at 0x7efd22f78b38>"
      ]
     },
     "execution_count": 57,
     "metadata": {},
     "output_type": "execute_result"
    },
    {
     "data": {
      "image/png": "[encoded data removed]",
      "text/plain": [
       "<Figure size 1080x360 with 1 Axes>"
      ]
     },
     "metadata": {
      "needs_background": "light"
     },
     "output_type": "display_data"
    }
   ],
   "source": [
    "weekday_data=new_data.pivot_table(index='weekday', values='price_squade_meter', aggfunc='median')\n",
    "#.sort_values(by='price_squade_meter', ascending = Т)\n",
    "weekday_data.plot(kind='bar',grid=True, figsize=(15,5),ylim=(weekday_data['price_squade_meter'].min()-1000,weekday_data['price_squade_meter'].max()+1000))\n",
    "#boxplot(column='price_squade_meter', by='weekday')"
   ]
  },
  {
   "cell_type": "code",
   "execution_count": 58,
   "metadata": {},
   "outputs": [
    {
     "data": {
      "text/plain": [
       "<matplotlib.axes._subplots.AxesSubplot at 0x7efd22f00e10>"
      ]
     },
     "execution_count": 58,
     "metadata": {},
     "output_type": "execute_result"
    },
    {
     "data": {
      "image/png": "[encoded data removed]",
      "text/plain": [
       "<Figure size 1080x360 with 1 Axes>"
      ]
     },
     "metadata": {
      "needs_background": "light"
     },
     "output_type": "display_data"
    }
   ],
   "source": [
    "month_data=new_data.pivot_table(index='month', values='price_squade_meter', aggfunc='count')\n",
    "month_data.plot(kind='bar',grid=True, figsize=(15,5))"
   ]
  },
  {
   "cell_type": "code",
   "execution_count": 62,
   "metadata": {},
   "outputs": [
    {
     "data": {
      "text/plain": [
       "<matplotlib.axes._subplots.AxesSubplot at 0x7efd22d06cc0>"
      ]
     },
     "execution_count": 62,
     "metadata": {},
     "output_type": "execute_result"
    },
    {
     "data": {
      "image/png": "[encoded data removed]",
      "text/plain": [
       "<Figure size 1080x360 with 1 Axes>"
      ]
     },
     "metadata": {
      "needs_background": "light"
     },
     "output_type": "display_data"
    }
   ],
   "source": [
    "month_data=new_data.pivot_table(index='month', values='price_squade_meter', aggfunc='median')\n",
    "month_data.plot(kind='bar',grid=True, figsize=(15,5),ylim=(weekday_data['price_squade_meter'].min()-3000,weekday_data['price_squade_meter'].max()+3000))"
   ]
  },
  {
   "cell_type": "code",
   "execution_count": 34,
   "metadata": {},
   "outputs": [
    {
     "data": {
      "text/plain": [
       "<matplotlib.axes._subplots.AxesSubplot at 0x7efd3d35e860>"
      ]
     },
     "execution_count": 34,
     "metadata": {},
     "output_type": "execute_result"
    },
    {
     "data": {
      "image/png": "[encoded data removed]",
      "text/plain": [
       "<Figure size 432x288 with 1 Axes>"
      ]
     },
     "metadata": {
      "needs_background": "light"
     },
     "output_type": "display_data"
    }
   ],
   "source": [
    "#new_data.plot(x='year', y='price_squade_meter', kind='box',grid=True)\n",
    "new_data.boxplot(column='price_squade_meter', by='year')\n",
    "#.plot(x='year', y='price_squade_meter', kind='hexbin', gridsize=20, figsize=(8, 6), sharex=False, grid=True)"
   ]
  },
  {
   "cell_type": "code",
   "execution_count": 35,
   "metadata": {},
   "outputs": [],
   "source": [
    "#print(new_data.loc[:,'year'].corr(new_data['price_squade_meter']))"
   ]
  },
  {
   "cell_type": "markdown",
   "metadata": {},
   "source": [
    "### Вывод\n",
    "Зависимости от даты размещения нет.\n",
    "#### Доп вывод.\n",
    "В 2016 и 2018 годах размещалось больше объявлений с ценами за кв.м. ниже 50тр, что привело к снижению медианной цены, тогда как в 2019 году замечено повышение медианной стоимости квадратного метра.\n",
    "По дням недели в целом наблюдается равенство."
   ]
  },
  {
   "cell_type": "markdown",
   "metadata": {},
   "source": [
    "## Доп.доп.вывод\n",
    "### Дни недели\n",
    "Большая часть объявлений выкладывается в рабочие дни, с понедельника по пятницу. Связано это с тем, что скорее всего работают агенства по продаже недвижимости, а трудовой кодекс РФ никто не отменял.\n",
    "Самая низкая медианная цена продаж по пятницам, <font color='blue'>100т.р за кв.м</font>\n",
    "### Месяца\n",
    "В течении года пик публикации объявлений приходится на февраль и ноябрь, а спад к середине года - май-июнь. Тогда же, в мае, выставляются самые дешевые квартиры, чья медианная цена меньше <font color='blue'>99 т.р за кв.м.</font> Самые дорогие квартиры продаются в апреле и декабре, <font color='blue'>цена около 103т.р за кв.м</font>"
   ]
  },
  {
   "cell_type": "markdown",
   "metadata": {},
   "source": [
    "<font color='magenta'><b>Комментарий наставника:</b> К сожалению, неудачный выбор графика и применение корреляции, которая тут также не подходит, не дают тебе возможности сделать правильный вывод.</font>"
   ]
  },
  {
   "cell_type": "markdown",
   "metadata": {},
   "source": [
    "## 10 населенных пунктов с наибольшим числом объявлений."
   ]
  },
  {
   "cell_type": "code",
   "execution_count": 36,
   "metadata": {},
   "outputs": [
    {
     "data": {
      "text/html": [
       "<div>\n",
       "<style scoped>\n",
       "    .dataframe tbody tr th:only-of-type {\n",
       "        vertical-align: middle;\n",
       "    }\n",
       "\n",
       "    .dataframe tbody tr th {\n",
       "        vertical-align: top;\n",
       "    }\n",
       "\n",
       "    .dataframe thead th {\n",
       "        text-align: right;\n",
       "    }\n",
       "</style>\n",
       "<table border=\"1\" class=\"dataframe\">\n",
       "  <thead>\n",
       "    <tr style=\"text-align: right;\">\n",
       "      <th></th>\n",
       "      <th>price_squade_meter</th>\n",
       "    </tr>\n",
       "    <tr>\n",
       "      <th>locality_name</th>\n",
       "      <th></th>\n",
       "    </tr>\n",
       "  </thead>\n",
       "  <tbody>\n",
       "    <tr>\n",
       "      <th>Санкт-Петербург</th>\n",
       "      <td>15212</td>\n",
       "    </tr>\n",
       "    <tr>\n",
       "      <th>посёлок Мурино</th>\n",
       "      <td>522</td>\n",
       "    </tr>\n",
       "    <tr>\n",
       "      <th>посёлок Шушары</th>\n",
       "      <td>440</td>\n",
       "    </tr>\n",
       "    <tr>\n",
       "      <th>Всеволожск</th>\n",
       "      <td>396</td>\n",
       "    </tr>\n",
       "    <tr>\n",
       "      <th>Пушкин</th>\n",
       "      <td>361</td>\n",
       "    </tr>\n",
       "    <tr>\n",
       "      <th>Колпино</th>\n",
       "      <td>337</td>\n",
       "    </tr>\n",
       "    <tr>\n",
       "      <th>посёлок Парголово</th>\n",
       "      <td>325</td>\n",
       "    </tr>\n",
       "    <tr>\n",
       "      <th>Гатчина</th>\n",
       "      <td>307</td>\n",
       "    </tr>\n",
       "    <tr>\n",
       "      <th>деревня Кудрово</th>\n",
       "      <td>299</td>\n",
       "    </tr>\n",
       "    <tr>\n",
       "      <th>Выборг</th>\n",
       "      <td>237</td>\n",
       "    </tr>\n",
       "  </tbody>\n",
       "</table>\n",
       "</div>"
      ],
      "text/plain": [
       "                   price_squade_meter\n",
       "locality_name                        \n",
       "Санкт-Петербург                 15212\n",
       "посёлок Мурино                    522\n",
       "посёлок Шушары                    440\n",
       "Всеволожск                        396\n",
       "Пушкин                            361\n",
       "Колпино                           337\n",
       "посёлок Парголово                 325\n",
       "Гатчина                           307\n",
       "деревня Кудрово                   299\n",
       "Выборг                            237"
      ]
     },
     "execution_count": 36,
     "metadata": {},
     "output_type": "execute_result"
    }
   ],
   "source": [
    "new_data.pivot_table(index='locality_name', values='price_squade_meter', aggfunc='count').sort_values(by='price_squade_meter', ascending = False).head(10)"
   ]
  },
  {
   "cell_type": "markdown",
   "metadata": {},
   "source": [
    "Населенные пункты с максимальным количеством объявлений: Санкт-Петербург, посёлок Мурино, посёлок Шушары, Всеволожск, Пушкин, Колпино, посёлок Парголово, Гатчина, деревня Кудрово, Выборг"
   ]
  },
  {
   "cell_type": "markdown",
   "metadata": {},
   "source": [
    "### Найдем для этих пунктов следующие данные:\n",
    "Посчитаем среднюю цену квадратного метра в этих населённых пунктах и выделите населённые пункты с самой высокой и низкой стоимостью жилья."
   ]
  },
  {
   "cell_type": "code",
   "execution_count": 37,
   "metadata": {},
   "outputs": [],
   "source": [
    "list_citys = ['Санкт-Петербург','посёлок Мурино','посёлок Шушары','Всеволожск','Пушкин','Колпино','посёлок Парголово','Гатчина','деревня Кудрово','Выборг']"
   ]
  },
  {
   "cell_type": "code",
   "execution_count": 38,
   "metadata": {},
   "outputs": [
    {
     "data": {
      "text/plain": [
       "<matplotlib.axes._subplots.AxesSubplot at 0x7efd3b1d6ba8>"
      ]
     },
     "execution_count": 38,
     "metadata": {},
     "output_type": "execute_result"
    },
    {
     "data": {
      "image/png": "[encoded data removed]",
      "text/plain": [
       "<Figure size 1080x360 with 1 Axes>"
      ]
     },
     "metadata": {
      "needs_background": "light"
     },
     "output_type": "display_data"
    }
   ],
   "source": [
    "import matplotlib.pyplot as plt\n",
    "#new_data.query('locality_name == @list_citys').pivot_table(index='locality_name', values='price_squade_meter', aggfunc='mean').sort_values(by='price_squade_meter', ascending = False).head(10)\n",
    "citys_data=new_data.query('locality_name == @list_citys').pivot_table(index='locality_name', values='price_squade_meter', aggfunc='mean').sort_values(by='price_squade_meter', ascending = False)\n",
    "citys_data.plot(grid=True, rot=15, figsize=(15,5))\n",
    "#citys_data.boxplot(column='price_squade_meter', by='locality_name')\n",
    "#x='locality_name', y='price_squade_meter', kind='pie',grid=True"
   ]
  },
  {
   "cell_type": "markdown",
   "metadata": {},
   "source": [
    "### Вывод\n",
    "Ожидаемо самая высокая стоимость жилья в Санкт-Петербурге - около 100 т.р за квм обойдется квартира в северной столице и около 56 т.р за квм будет стоить квартира в Выборге."
   ]
  },
  {
   "cell_type": "markdown",
   "metadata": {},
   "source": [
    "<font color='magenta'><b>Комментарий наставника:</b> Вывод верен, но хотелось бы увидеть графическое отображение связи цены и населенного пункта. </font>"
   ]
  },
  {
   "cell_type": "markdown",
   "metadata": {},
   "source": [
    "## Определяем центр Санкт-Петербурга"
   ]
  },
  {
   "cell_type": "markdown",
   "metadata": {},
   "source": [
    "выполнено задание: \"Изучите предложения квартир: для каждой квартиры есть информация о расстоянии до центра. Выделите квартиры в Санкт-Петербурге ('locality_name'). Ваша задача — выяснить, какая область входит в центр. Создайте столбец с расстоянием до центра в километрах: округлите до целых значений. После этого посчитайте среднюю цену для каждого километра. Постройте график: он должен показывать, как цена зависит от удалённости от центра. Определите границу, где график сильно меняется — это и будет центральная зона. \""
   ]
  },
  {
   "cell_type": "markdown",
   "metadata": {},
   "source": [
    "Создаем столбец с расстоянием до центра в километрах."
   ]
  },
  {
   "cell_type": "code",
   "execution_count": 39,
   "metadata": {},
   "outputs": [
    {
     "data": {
      "text/plain": [
       "0    16\n",
       "1    18\n",
       "2    13\n",
       "4     8\n",
       "6    19\n",
       "Name: cityCentres_km, dtype: int64"
      ]
     },
     "execution_count": 39,
     "metadata": {},
     "output_type": "execute_result"
    }
   ],
   "source": [
    "new_data.dropna(subset=['cityCenters_nearest'], inplace = True)\n",
    "def km(row):\n",
    "    km = row/1000\n",
    "    return km\n",
    "new_data['cityCentres_km']=new_data['cityCenters_nearest'].apply(km)\n",
    "new_data['cityCentres_km']=new_data['cityCentres_km'].astype('int')\n",
    "new_data['cityCentres_km'].head()"
   ]
  },
  {
   "cell_type": "code",
   "execution_count": 40,
   "metadata": {},
   "outputs": [
    {
     "data": {
      "text/plain": [
       "<matplotlib.axes._subplots.AxesSubplot at 0x7efd3b065e48>"
      ]
     },
     "execution_count": 40,
     "metadata": {},
     "output_type": "execute_result"
    },
    {
     "data": {
      "image/png": "[encoded data removed]",
      "text/plain": [
       "<Figure size 864x360 with 1 Axes>"
      ]
     },
     "metadata": {
      "needs_background": "light"
     },
     "output_type": "display_data"
    }
   ],
   "source": [
    "new_data.query('locality_name == \"Санкт-Петербург\"').pivot_table(index='cityCentres_km', values='price_squade_meter', aggfunc='mean').sort_values(by='cityCentres_km', ascending = False).plot(grid=True, figsize=(12, 5))"
   ]
  },
  {
   "cell_type": "markdown",
   "metadata": {},
   "source": [
    "График сильно меняется на 25-ом километре. Будем считать это центральной зоной.\n",
    "#### Новая центральная зона в пределах 13 км"
   ]
  },
  {
   "cell_type": "markdown",
   "metadata": {},
   "source": [
    "<font color='magenta'><b>Комментарий наставника:</b> Мне кажется, что ты несколько \"захватил лишнее\" при определении центра. </font>"
   ]
  },
  {
   "cell_type": "markdown",
   "metadata": {},
   "source": [
    "<font color='magenta'><b>Комментарий наставника 2:</b> А вот это горадо более удачное предполоежние. </font>"
   ]
  },
  {
   "cell_type": "markdown",
   "metadata": {},
   "source": [
    "## Анализ данных квартир в центре"
   ]
  },
  {
   "cell_type": "code",
   "execution_count": 41,
   "metadata": {},
   "outputs": [
    {
     "name": "stdout",
     "output_type": "stream",
     "text": [
      "count      8450.000000\n",
      "mean     116206.971482\n",
      "std       31489.798072\n",
      "min       15345.268542\n",
      "25%       94322.903764\n",
      "50%      109354.838710\n",
      "75%      131427.800062\n",
      "max      249375.000000\n",
      "Name: price_squade_meter, dtype: float64\n"
     ]
    },
    {
     "data": {
      "text/plain": [
       "array([[<matplotlib.axes._subplots.AxesSubplot object at 0x7efd3afdf0b8>]],\n",
       "      dtype=object)"
      ]
     },
     "execution_count": 41,
     "metadata": {},
     "output_type": "execute_result"
    },
    {
     "data": {
      "image/png": "[encoded data removed]",
      "text/plain": [
       "<Figure size 432x288 with 1 Axes>"
      ]
     },
     "metadata": {
      "needs_background": "light"
     },
     "output_type": "display_data"
    }
   ],
   "source": [
    "print(new_data.query('locality_name == \"Санкт-Петербург\" and cityCentres_km<13').loc[:,'price_squade_meter'].describe())\n",
    "new_data.query('locality_name == \"Санкт-Петербург\" and cityCentres_km<13').hist('price_squade_meter', range=(0, 200000))"
   ]
  },
  {
   "cell_type": "markdown",
   "metadata": {},
   "source": [
    "### Сравнение со всем городом\n",
    "Средняя цена в городе больше <font color='blue'>111тр</font> за квм к 99тр за квм\n",
    "<font color='blue'>так же видно, что совсем мало квартир со стоимостью ниже 60тр.за кв.м</font>"
   ]
  },
  {
   "cell_type": "code",
   "execution_count": 42,
   "metadata": {},
   "outputs": [
    {
     "name": "stdout",
     "output_type": "stream",
     "text": [
      "count    8450.000000\n",
      "mean       65.758402\n",
      "std        31.296813\n",
      "min        12.000000\n",
      "25%        43.000000\n",
      "50%        57.800000\n",
      "75%        80.000000\n",
      "max       198.900000\n",
      "Name: total_area, dtype: float64\n"
     ]
    },
    {
     "data": {
      "text/plain": [
       "array([[<matplotlib.axes._subplots.AxesSubplot object at 0x7efd3af65358>]],\n",
       "      dtype=object)"
      ]
     },
     "execution_count": 42,
     "metadata": {},
     "output_type": "execute_result"
    },
    {
     "data": {
      "image/png": "[encoded data removed]",
      "text/plain": [
       "<Figure size 432x288 with 1 Axes>"
      ]
     },
     "metadata": {
      "needs_background": "light"
     },
     "output_type": "display_data"
    }
   ],
   "source": [
    "print(new_data.query('locality_name == \"Санкт-Петербург\" and cityCentres_km<13').loc[:,'total_area'].describe())\n",
    "new_data.query('locality_name == \"Санкт-Петербург\" and cityCentres_km<13').hist('total_area', bins=20, range=(0, 900))"
   ]
  },
  {
   "cell_type": "markdown",
   "metadata": {},
   "source": [
    "### Сравнение со всем городом\n",
    "Средняя площадь квартир в центре меньше, чем во всем городе."
   ]
  },
  {
   "cell_type": "code",
   "execution_count": 43,
   "metadata": {},
   "outputs": [
    {
     "name": "stdout",
     "output_type": "stream",
     "text": [
      "count    8450.000000\n",
      "mean        2.251953\n",
      "std         1.083156\n",
      "min         0.000000\n",
      "25%         1.000000\n",
      "50%         2.000000\n",
      "75%         3.000000\n",
      "max         7.000000\n",
      "Name: rooms, dtype: float64\n"
     ]
    },
    {
     "data": {
      "text/plain": [
       "array([[<matplotlib.axes._subplots.AxesSubplot object at 0x7efd3aed3128>]],\n",
       "      dtype=object)"
      ]
     },
     "execution_count": 43,
     "metadata": {},
     "output_type": "execute_result"
    },
    {
     "data": {
      "image/png": "[encoded data removed]",
      "text/plain": [
       "<Figure size 432x288 with 1 Axes>"
      ]
     },
     "metadata": {
      "needs_background": "light"
     },
     "output_type": "display_data"
    }
   ],
   "source": [
    "print(new_data.query('locality_name == \"Санкт-Петербург\" and cityCentres_km<13').loc[:,'rooms'].describe())\n",
    "new_data.query('locality_name == \"Санкт-Петербург\" and cityCentres_km<13').hist('rooms', bins=10, range=(0, 10))"
   ]
  },
  {
   "cell_type": "markdown",
   "metadata": {},
   "source": [
    "### Сравнение со всем городом\n",
    "Общее число комнат в квартирах в центре города в среднем меньше, чем во всем городе"
   ]
  },
  {
   "cell_type": "code",
   "execution_count": 44,
   "metadata": {},
   "outputs": [
    {
     "name": "stdout",
     "output_type": "stream",
     "text": [
      "count    8450.000000\n",
      "mean      175.535976\n",
      "std       206.457793\n",
      "min         2.000000\n",
      "25%        52.000000\n",
      "50%        95.000000\n",
      "75%       211.000000\n",
      "max      1194.000000\n",
      "Name: days_exposition, dtype: float64\n"
     ]
    },
    {
     "data": {
      "text/plain": [
       "array([[<matplotlib.axes._subplots.AxesSubplot object at 0x7efd3adf0c88>]],\n",
       "      dtype=object)"
      ]
     },
     "execution_count": 44,
     "metadata": {},
     "output_type": "execute_result"
    },
    {
     "data": {
      "image/png": "[encoded data removed]",
      "text/plain": [
       "<Figure size 432x288 with 1 Axes>"
      ]
     },
     "metadata": {
      "needs_background": "light"
     },
     "output_type": "display_data"
    }
   ],
   "source": [
    "print(new_data.query('locality_name == \"Санкт-Петербург\" and cityCentres_km<13').loc[:,'days_exposition'].describe())\n",
    "new_data.query('locality_name == \"Санкт-Петербург\" and cityCentres_km<13').hist('days_exposition', bins=180)"
   ]
  },
  {
   "cell_type": "markdown",
   "metadata": {},
   "source": [
    "### Сравнение со всем городом\n",
    "Среднее время продаж такое же как и во всем городе.\n",
    "#### Квартиры в центре продаются быстрее."
   ]
  },
  {
   "cell_type": "markdown",
   "metadata": {},
   "source": [
    "<font color='magenta'><b>Комментарий наставника:</b> Когда ты переопределишь центр, ты сможешь найти больше закономерностей. </font>"
   ]
  },
  {
   "cell_type": "markdown",
   "metadata": {},
   "source": [
    "### Шаг 5. Общий вывод"
   ]
  },
  {
   "cell_type": "markdown",
   "metadata": {},
   "source": [
    "## Новый общий вывод.\n",
    "В Санкт-Петербурге самый насыщенный рынок недвижимости. Больше всего объявлений <font color='blue'>15212</font> со средней ценой за квадратный метр в центре города <font color='blue'>116 т.р</font>. Но в центре практически невозможно найти квартиры дешевле <font color='blue'>60 т.р за кв.м</font>"
   ]
  },
  {
   "cell_type": "markdown",
   "metadata": {},
   "source": [
    "С 2015 по 2019 год наблюдается рост средней стоимости квадратного метра, в 2019 году впервые медианная стоимость поднялась выше <font color='blue'>100 т.р за кв.м</font> и в целом стало продаваться больше дорогих квартир."
   ]
  },
  {
   "cell_type": "markdown",
   "metadata": {},
   "source": [
    "Пригороды Санкт-Петербурга сильно отстают от города в цене, из самых активных рынков недвижимости среди пригородов дешевле всего жить в <font color='blue'>в Выборге со средней стоимостью квадратного метра ниже 60т.р</font> и дороже всего <font color='blue'>в Пушкине, где можно найти квартиру в среднем около 100т.р за кв.м.</font>"
   ]
  },
  {
   "cell_type": "markdown",
   "metadata": {},
   "source": [
    "Выбирая квартиру стоит обратить внимание на разницу в цене между первым этажом, последним и другими этажами. Приобрести свою квартиру на первом этаже обойдется почти на <font color='blue'>20% дешевле</font>"
   ]
  },
  {
   "cell_type": "markdown",
   "metadata": {},
   "source": [
    "При продаже квартиры стоит ориентироваться на <font color='blue'>полугодовой срок продажи</font>"
   ]
  },
  {
   "cell_type": "markdown",
   "metadata": {},
   "source": [
    "### Дни недели\n",
    "Большая часть объявлений выкладывается в рабочие дни, с понедельника по пятницу. Связано это с тем, что скорее всего работают агенства по продаже недвижимости, а трудовой кодекс РФ никто не отменял.\n",
    "Самая низкая медианная цена продаж по пятницам, <font color='blue'>100т.р за кв.м</font>\n",
    "### Месяца\n",
    "В течении года пик публикации объявлений приходится на февраль и ноябрь, а спад к середине года - май-июнь. Тогда же, в мае, выставляются самые дешевые квартиры, чья медианная цена меньше <font color='blue'>99 т.р за кв.м.</font> Самые дорогие квартиры продаются в апреле и декабре, <font color='blue'>цена около 103т.р за кв.м</font>"
   ]
  },
  {
   "cell_type": "markdown",
   "metadata": {},
   "source": []
  },
  {
   "cell_type": "markdown",
   "metadata": {},
   "source": [
    "Исходя из полученных данных можно сделать выводы о сильно зависимости стоимости квартиры от месторасположения, квартиры в Санкт-Петербурге и ближе к центру дороже всего. За квадратный метр в однокомнатной квартире придется платить немного больше.\n",
    "Зависимости стоимость от времени размещения объявления или этажа нет. <font color='blue'>В 2016 и 2018 годах было больше дешевых квартир и в июле на рынок выставляют квартиры со стоимостью ниже 50тр за кв.м., на первом этаже можно найти квартиру дешевле, чем на последнем.</font>\n",
    "В среднем приходится рассчитывать на продажу в течении трех месяцев, быстрой можно назвать продажу в течении месяца, а долгой больше полугода."
   ]
  },
  {
   "cell_type": "markdown",
   "metadata": {},
   "source": [
    "<font color='magenta'><b>Комментарий наставника:</b> твои выводы изменятся, когда ты скорректируешь свои действия на предыдущих этапах. </font>"
   ]
  },
  {
   "cell_type": "markdown",
   "metadata": {},
   "source": []
  },
  {
   "cell_type": "markdown",
   "metadata": {},
   "source": [
    "### Чек-лист готовности проекта\n",
    "\n",
    "Поставьте 'x' в выполненных пунктах. Далее нажмите Shift+Enter."
   ]
  },
  {
   "cell_type": "markdown",
   "metadata": {},
   "source": [
    "- [x]  открыт файл\n",
    "- [x]  файлы изучены (выведены первые строки, метод info())\n",
    "- [x]  определены пропущенные значения\n",
    "- [x]  заполнены пропущенные значения\n",
    "- [x]  есть пояснение какие пропущенные значения обнаружены\n",
    "- [x]  изменены типы данных\n",
    "- [x]  есть пояснение в каких столбцах изменены типы и почему\n",
    "- [x]  посчитано и добавлено в таблицу: цена квадратного метра\n",
    "- [x]  посчитано и добавлено в таблицу: день недели, месяц и год публикации объявления\n",
    "- [x]  посчитано и добавлено в таблицу: этаж квартиры; варианты — первый, последний, другой\n",
    "- [x]  посчитано и добавлено в таблицу: соотношение жилой и общей площади, а также отношение площади кухни к общей\n",
    "- [x]  изучены следующие параметры: площадь, цена, число комнат, высота потолков\n",
    "- [x]  построены гистограммы для каждого параметра\n",
    "- [x]  выполнено задание: \"Изучите время продажи квартиры. Постройте гистограмму. Посчитайте среднее и медиану. Опишите, сколько обычно занимает продажа. Когда можно считать, что продажи прошли очень быстро, а когда необычно долго?\"\n",
    "- [x]  выполнено задание: \"Уберите редкие и выбивающиеся значения. Опишите, какие особенности обнаружили.\"\n",
    "- [x]  выполнено задание: \"Какие факторы больше всего влияют на стоимость квартиры? Изучите, зависит ли цена от квадратного метра, числа комнат, этажа (первого или последнего), удалённости от центра. Также изучите зависимость от даты размещения: дня недели, месяца и года. \"Выберите 10 населённых пунктов с наибольшим числом объявлений. Посчитайте среднюю цену квадратного метра в этих населённых пунктах. Выделите населённые пункты с самой высокой и низкой стоимостью жилья. Эти данные можно найти по имени в столбце '*locality_name'*. \"\n",
    "- [x]  выполнено задание: \"Изучите предложения квартир: для каждой квартиры есть информация о расстоянии до центра. Выделите квартиры в Санкт-Петербурге (*'locality_name'*). Ваша задача — выяснить, какая область входит в центр. Создайте столбец с расстоянием до центра в километрах: округлите до целых значений. После этого посчитайте среднюю цену для каждого километра. Постройте график: он должен показывать, как цена зависит от удалённости от центра. Определите границу, где график сильно меняется — это и будет центральная зона. \"\n",
    "- [x]  выполнено задание: \"Выделите сегмент квартир в центре. Проанализируйте эту территорию и изучите следующие параметры: площадь, цена, число комнат, высота потолков. Также выделите факторы, которые влияют на стоимость квартиры (число комнат, этаж, удалённость от центра, дата размещения объявления). Сделайте выводы. Отличаются ли они от общих выводов по всему городу?\"\n",
    "- [x]  в каждом этапе есть выводы\n",
    "- [x]  есть общий вывод"
   ]
  },
  {
   "cell_type": "code",
   "execution_count": null,
   "metadata": {},
   "outputs": [],
   "source": []
  }
 ],
 "metadata": {
  "kernelspec": {
   "display_name": "Python 3",
   "language": "python",
   "name": "python3"
  },
  "language_info": {
   "codemirror_mode": {
    "name": "ipython",
    "version": 3
   },
   "file_extension": ".py",
   "mimetype": "text/x-python",
   "name": "python",
   "nbconvert_exporter": "python",
   "pygments_lexer": "ipython3",
   "version": "3.8.8"
  }
 },
 "nbformat": 4,
 "nbformat_minor": 2
}
