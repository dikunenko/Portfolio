{
 "cells": [
  {
   "cell_type": "markdown",
   "metadata": {},
   "source": [
    "## Исследование надёжности заёмщиков\n",
    "\n",
    "Заказчик — кредитный отдел банка. Нужно разобраться, влияет ли семейное положение и количество детей клиента на факт погашения кредита в срок. Входные данные от банка — статистика о платёжеспособности клиентов.\n",
    "\n",
    "Результаты исследования будут учтены при построении модели **кредитного скоринга** — специальной системы, которая оценивает способность потенциального заёмщика вернуть кредит банку."
   ]
  },
  {
   "cell_type": "markdown",
   "metadata": {},
   "source": [
    "## Комментарий наставника\n",
    "Выводы стали гораздо лучше (как и обработка пропусков).Ppivot table ты честно попробовал, пока не очень наглядно, но все приходит с опытом.\n",
    "Поздравляю, ты сдал первый проект! :-)"
   ]
  },
  {
   "cell_type": "markdown",
   "metadata": {},
   "source": [
    "## Комментарий наставника\n",
    "Привет! Спасибо, что быстро сдал задание:) Далее в файле мои комментарии ты сможешь найти в ячейках markdown с пометкой \"комментарий наставника\". Пострайся учесть эти комментарии в ходе выполнения дальнейших проектов. \n",
    "Я пока не могу принять твою работу (хотя многие веди сделанны верно и выводы в целом хорошие, и даже оформление мне в основном нравится). Главные причины такие:\n",
    "\n",
    "1) кое-где нет текстовых пояснений, хотя они должны быть;\n",
    "\n",
    "2) Ты не используешь pivot table, а это прям очень-очень важно. Мне необходимо, что бы ты хотя бы дважды использовал именно его. Я понимаю, что ты и так хорошо оформляешь свои данные. Они понятны и на них приятно посмотреть. Но давай попробуем сделать их еще лучше, хорошо?\n",
    "\n",
    "Я написала тебе еще много всяких пожеланий, но они по факту являются именно пожалениями, а не требованиями. Можешь выполнять, если хочешь, можешь оставить как есть - смотри сам по своим целям и нагрузке. "
   ]
  },
  {
   "cell_type": "markdown",
   "metadata": {},
   "source": [
    "### Шаг 1. Откройте файл с данными и изучите общую информацию. "
   ]
  },
  {
   "cell_type": "code",
   "execution_count": 1,
   "metadata": {},
   "outputs": [
    {
     "name": "stdout",
     "output_type": "stream",
     "text": [
      "<class 'pandas.core.frame.DataFrame'>\n",
      "RangeIndex: 21525 entries, 0 to 21524\n",
      "Data columns (total 12 columns):\n",
      "children            21525 non-null int64\n",
      "days_employed       19351 non-null float64\n",
      "dob_years           21525 non-null int64\n",
      "education           21525 non-null object\n",
      "education_id        21525 non-null int64\n",
      "family_status       21525 non-null object\n",
      "family_status_id    21525 non-null int64\n",
      "gender              21525 non-null object\n",
      "income_type         21525 non-null object\n",
      "debt                21525 non-null int64\n",
      "total_income        19351 non-null float64\n",
      "purpose             21525 non-null object\n",
      "dtypes: float64(2), int64(5), object(5)\n",
      "memory usage: 2.0+ MB\n"
     ]
    }
   ],
   "source": [
    "import pandas as pd\n",
    "data = pd.read_csv('/datasets/data.csv')\n",
    "data.info()"
   ]
  },
  {
   "cell_type": "markdown",
   "metadata": {},
   "source": [
    "### Вывод\n",
    "Импортируем библиотеку \"Pandas\" для работы с данными. Читаем наш искомый файл data.csv и изучаем его общую информацию.\n",
    "В таблице 21525 строк, в столбцах \"days_employed\" и \"total_income\" есть нулевые объекты, их количество одинаково."
   ]
  },
  {
   "cell_type": "markdown",
   "metadata": {},
   "source": []
  },
  {
   "cell_type": "markdown",
   "metadata": {},
   "source": [
    "### Шаг 2. Предобработка данных"
   ]
  },
  {
   "cell_type": "markdown",
   "metadata": {},
   "source": [
    "### Обработка пропусков"
   ]
  },
  {
   "cell_type": "markdown",
   "metadata": {},
   "source": [
    "Пропущенные значения есть в столбцах \"days_employed\" и \"total_income\", так как наша работа связана с исследованием зависимости возврата кредита в срок от наличия детей и семейного положения то не будем удалять строки с пропущенными значениями, а заменим NaN на 0.\n",
    "Пропущенные значения могли появиться из-за неверного заполнения таблицы сотрудниками."
   ]
  },
  {
   "cell_type": "code",
   "execution_count": 2,
   "metadata": {},
   "outputs": [
    {
     "data": {
      "text/plain": [
       "0     253875.639453\n",
       "1     112080.014102\n",
       "2     145885.952297\n",
       "3     267628.550329\n",
       "4     158616.077870\n",
       "5     255763.565419\n",
       "6     240525.971920\n",
       "7     135823.934197\n",
       "8      95856.832424\n",
       "9     144425.938277\n",
       "10    113943.491460\n",
       "11     77069.234271\n",
       "12         0.000000\n",
       "13    130458.228857\n",
       "14    165127.911772\n",
       "Name: total_income, dtype: float64"
      ]
     },
     "execution_count": 2,
     "metadata": {},
     "output_type": "execute_result"
    }
   ],
   "source": [
    "data['days_employed']=data['days_employed'].fillna(0)\n",
    "data['total_income']=data['total_income'].fillna(0)\n",
    "data['total_income'].head(15)"
   ]
  },
  {
   "cell_type": "markdown",
   "metadata": {},
   "source": [
    "### Вывод"
   ]
  },
  {
   "cell_type": "markdown",
   "metadata": {},
   "source": [
    "Методом info() проверяем данные и видим, что нулевых объектов не осталось."
   ]
  },
  {
   "cell_type": "markdown",
   "metadata": {},
   "source": [
    "## Комментарий наставника\n",
    "Пожалуй, в данном случае \"замена на 0\" не является самым лучшим решением. Но это точно не самое плохое решение. Какие варианты еще возможны?"
   ]
  },
  {
   "cell_type": "markdown",
   "metadata": {},
   "source": [
    "## Ответ на комментарий\n",
    "Возможна замена на медианные значения, причем значения каждой группы людей, к которым относится человек. Смотрим по образованию, по должности и семейному положению.\n",
    "Заменим доход в месяц на медианное значение соответствующей группы людей. Количество отработанных дней оставим 0, потому что не влияет на выводы в данной работе."
   ]
  },
  {
   "cell_type": "code",
   "execution_count": 3,
   "metadata": {},
   "outputs": [
    {
     "name": "stdout",
     "output_type": "stream",
     "text": [
      "0     253875.639453\n",
      "1     112080.014102\n",
      "2     145885.952297\n",
      "3     267628.550329\n",
      "4     158616.077870\n",
      "5     255763.565419\n",
      "6     240525.971920\n",
      "7     135823.934197\n",
      "8      95856.832424\n",
      "9     144425.938277\n",
      "10    113943.491460\n",
      "11     77069.234271\n",
      "12    104903.875260\n",
      "13    130458.228857\n",
      "14    165127.911772\n",
      "Name: total_income, dtype: float64\n",
      "<class 'pandas.core.frame.DataFrame'>\n",
      "RangeIndex: 21525 entries, 0 to 21524\n",
      "Data columns (total 12 columns):\n",
      "children            21525 non-null int64\n",
      "days_employed       21525 non-null float64\n",
      "dob_years           21525 non-null int64\n",
      "education           21525 non-null object\n",
      "education_id        21525 non-null int64\n",
      "family_status       21525 non-null object\n",
      "family_status_id    21525 non-null int64\n",
      "gender              21525 non-null object\n",
      "income_type         21525 non-null object\n",
      "debt                21525 non-null int64\n",
      "total_income        21525 non-null float64\n",
      "purpose             21525 non-null object\n",
      "dtypes: float64(2), int64(5), object(5)\n",
      "memory usage: 2.0+ MB\n"
     ]
    }
   ],
   "source": [
    "def function(row):\n",
    "    try:\n",
    "        if row['total_income']==0:\n",
    "            return data[(data['education_id']==row['education_id']) & (data['income_type']==row['income_type']) &(data['family_status_id']==row['family_status_id'])]['total_income'].median()\n",
    "        else: return row['total_income']\n",
    "    except:\n",
    "        print('Ошибка где-то')\n",
    "data['total_income'] = data.apply(function, axis=1)\n",
    "print(data['total_income'].head(15))\n",
    "data.info()"
   ]
  },
  {
   "cell_type": "markdown",
   "metadata": {},
   "source": [
    "## Комментарий наставника\n",
    "Реешение стало существенно более корректным)"
   ]
  },
  {
   "cell_type": "markdown",
   "metadata": {},
   "source": [
    "### Замена типа данных"
   ]
  },
  {
   "cell_type": "markdown",
   "metadata": {},
   "source": [
    "В столбцах \"days_employed\" и \"total_income\" стоит тип данных - float64. Что вероятно получилось от деления общего дохода, на месяцы.\n",
    "Заменим на int, так как отработанных дней не может быть дробное количество как и рублей."
   ]
  },
  {
   "cell_type": "code",
   "execution_count": 4,
   "metadata": {},
   "outputs": [
    {
     "name": "stdout",
     "output_type": "stream",
     "text": [
      "<class 'pandas.core.frame.DataFrame'>\n",
      "RangeIndex: 21525 entries, 0 to 21524\n",
      "Data columns (total 12 columns):\n",
      "children            21525 non-null int64\n",
      "days_employed       21525 non-null int64\n",
      "dob_years           21525 non-null int64\n",
      "education           21525 non-null object\n",
      "education_id        21525 non-null int64\n",
      "family_status       21525 non-null object\n",
      "family_status_id    21525 non-null int64\n",
      "gender              21525 non-null object\n",
      "income_type         21525 non-null object\n",
      "debt                21525 non-null int64\n",
      "total_income        21525 non-null int64\n",
      "purpose             21525 non-null object\n",
      "dtypes: int64(7), object(5)\n",
      "memory usage: 2.0+ MB\n"
     ]
    }
   ],
   "source": [
    "data['days_employed']=data['days_employed'].astype('int')\n",
    "data['total_income']=data['total_income'].astype('int')\n",
    "data.info()"
   ]
  },
  {
   "cell_type": "markdown",
   "metadata": {},
   "source": [
    "### Вывод"
   ]
  },
  {
   "cell_type": "markdown",
   "metadata": {},
   "source": [
    "Методом info() проверяем данные и видим, что заменен вещественный тип данных на целочисленный.\n",
    "Для изменения типа данных используем метод astype()."
   ]
  },
  {
   "cell_type": "markdown",
   "metadata": {},
   "source": [
    "## Комментарий наставника\n",
    "Здесь все правильно)"
   ]
  },
  {
   "cell_type": "markdown",
   "metadata": {},
   "source": [
    "### Обработка дубликатов"
   ]
  },
  {
   "cell_type": "markdown",
   "metadata": {},
   "source": [
    "Для начала найдем, сколько дубликатов есть. Приведем строковые значения к нижнему регистру."
   ]
  },
  {
   "cell_type": "code",
   "execution_count": 5,
   "metadata": {},
   "outputs": [
    {
     "data": {
      "text/plain": [
       "71"
      ]
     },
     "execution_count": 5,
     "metadata": {},
     "output_type": "execute_result"
    }
   ],
   "source": [
    "data['education'] = data['education'].str.lower()\n",
    "data['family_status'] = data['family_status'].str.lower()\n",
    "data['gender'] = data['gender'].str.lower()\n",
    "data['income_type'] = data['income_type'].str.lower()\n",
    "data.duplicated().sum()"
   ]
  },
  {
   "cell_type": "markdown",
   "metadata": {},
   "source": [
    "Удалим повторяющиеся значения."
   ]
  },
  {
   "cell_type": "code",
   "execution_count": 6,
   "metadata": {},
   "outputs": [
    {
     "data": {
      "text/plain": [
       "0"
      ]
     },
     "execution_count": 6,
     "metadata": {},
     "output_type": "execute_result"
    }
   ],
   "source": [
    "data = data.drop_duplicates().reset_index(drop = True)\n",
    "data.duplicated().sum()"
   ]
  },
  {
   "cell_type": "markdown",
   "metadata": {},
   "source": [
    "### Вывод"
   ]
  },
  {
   "cell_type": "markdown",
   "metadata": {},
   "source": [
    "### Исправлено\n",
    "Так как дубликатов всего 71 значений, что незначительно по сравнению с 21525, то удаляем повторяющиеся строки методом drop_duplicates() с восстановлением индексов reset_index()"
   ]
  },
  {
   "cell_type": "markdown",
   "metadata": {},
   "source": [
    "## Комментарий наставника\n",
    "Здесь все правильно сделанно и объясненно. Тллько дубликатов 71, а не 17 - но это совсем не критичная опечатка."
   ]
  },
  {
   "cell_type": "markdown",
   "metadata": {},
   "source": [
    "### Лемматизация"
   ]
  },
  {
   "cell_type": "code",
   "execution_count": 7,
   "metadata": {},
   "outputs": [
    {
     "data": {
      "text/html": [
       "<div>\n",
       "<style scoped>\n",
       "    .dataframe tbody tr th:only-of-type {\n",
       "        vertical-align: middle;\n",
       "    }\n",
       "\n",
       "    .dataframe tbody tr th {\n",
       "        vertical-align: top;\n",
       "    }\n",
       "\n",
       "    .dataframe thead th {\n",
       "        text-align: right;\n",
       "    }\n",
       "</style>\n",
       "<table border=\"1\" class=\"dataframe\">\n",
       "  <thead>\n",
       "    <tr style=\"text-align: right;\">\n",
       "      <th></th>\n",
       "      <th>lemma</th>\n",
       "      <th>purpose</th>\n",
       "    </tr>\n",
       "  </thead>\n",
       "  <tbody>\n",
       "    <tr>\n",
       "      <th>0</th>\n",
       "      <td>покупка   жилье \\n</td>\n",
       "      <td>покупка жилья</td>\n",
       "    </tr>\n",
       "    <tr>\n",
       "      <th>1</th>\n",
       "      <td>приобретение   автомобиль \\n</td>\n",
       "      <td>приобретение автомобиля</td>\n",
       "    </tr>\n",
       "    <tr>\n",
       "      <th>2</th>\n",
       "      <td>покупка   жилье \\n</td>\n",
       "      <td>покупка жилья</td>\n",
       "    </tr>\n",
       "    <tr>\n",
       "      <th>3</th>\n",
       "      <td>дополнительный   образование \\n</td>\n",
       "      <td>дополнительное образование</td>\n",
       "    </tr>\n",
       "    <tr>\n",
       "      <th>4</th>\n",
       "      <td>сыграть   свадьба \\n</td>\n",
       "      <td>сыграть свадьбу</td>\n",
       "    </tr>\n",
       "  </tbody>\n",
       "</table>\n",
       "</div>"
      ],
      "text/plain": [
       "                             lemma                     purpose\n",
       "0               покупка   жилье \\n               покупка жилья\n",
       "1     приобретение   автомобиль \\n     приобретение автомобиля\n",
       "2               покупка   жилье \\n               покупка жилья\n",
       "3  дополнительный   образование \\n  дополнительное образование\n",
       "4             сыграть   свадьба \\n             сыграть свадьбу"
      ]
     },
     "execution_count": 7,
     "metadata": {},
     "output_type": "execute_result"
    }
   ],
   "source": [
    "from pymystem3 import Mystem\n",
    "m = Mystem()\n",
    "lemmas = []\n",
    "def lemma_data(row):\n",
    "    lemma = ' '.join(m.lemmatize(row))\n",
    "    return lemma\n",
    "data['lemma'] = data['purpose'].apply(lemma_data)\n",
    "data[['lemma','purpose']].head(5)"
   ]
  },
  {
   "cell_type": "markdown",
   "metadata": {},
   "source": [
    "### Вывод"
   ]
  },
  {
   "cell_type": "markdown",
   "metadata": {},
   "source": [
    "Для обработки данных введем еще один столбец с списком лемматизированных слов, путем применения нашей функции 'lemma_data', которая возвращает лемматизированный вид слов, к столбцу \"purpose\". Видим, что отработало корректно."
   ]
  },
  {
   "cell_type": "markdown",
   "metadata": {},
   "source": [
    "## Комментарий наставника\n",
    "Тут проблема - слетел вывод. Будь внимательней, хорошо?"
   ]
  },
  {
   "cell_type": "markdown",
   "metadata": {},
   "source": [
    "### Категоризация данных"
   ]
  },
  {
   "cell_type": "markdown",
   "metadata": {},
   "source": [
    "Категоризируем данные по типу наличия детей. Будут категории - \"Нет детей\", \"Один ребенок\", \"Два ребенка\", \"Многодетные\". Так как в таблице есть данные с -1 ребенком в семье, то удалим эти строки."
   ]
  },
  {
   "cell_type": "code",
   "execution_count": 8,
   "metadata": {},
   "outputs": [
    {
     "data": {
      "text/plain": [
       "0    Один ребенок\n",
       "1    Один ребенок\n",
       "2       Нет детей\n",
       "3     Многодетные\n",
       "4       Нет детей\n",
       "Name: childrens, dtype: object"
      ]
     },
     "execution_count": 8,
     "metadata": {},
     "output_type": "execute_result"
    }
   ],
   "source": [
    "data = data.loc[data['children'] != -1]\n",
    "def childrens(row):\n",
    "    if row == 1:\n",
    "        return 'Один ребенок'\n",
    "    if row == 2:\n",
    "        return 'Два ребенка'\n",
    "    if row > 2:\n",
    "        return 'Многодетные'\n",
    "    if row == 0:\n",
    "        return 'Нет детей'\n",
    "data_childrens = data.loc[:,['children','debt']]\n",
    "data_childrens['childrens'] = data_childrens['children'].apply(childrens)\n",
    "data_childrens['childrens'].head()"
   ]
  },
  {
   "cell_type": "markdown",
   "metadata": {},
   "source": [
    "Категоризируем данные по уровням дохода. \"До 50 тысяч в месяц\" \"От 50 до 100\" и \"От 100 до 200 тысяч\" и \"От 200 до 300 тысяч\" и \"От 300 тысяч\". Убираем все строки с доходом отрицательным и равным 0."
   ]
  },
  {
   "cell_type": "code",
   "execution_count": 9,
   "metadata": {},
   "outputs": [
    {
     "data": {
      "text/plain": [
       "От 100 до 150 тысяч    7117\n",
       "От 150 до 200 тысяч    4771\n",
       "От 50 до 100           4087\n",
       "Больше 250 тысяч       2807\n",
       "От 200 до 250 тысяч    2251\n",
       "До 50 тысяч в месяц     372\n",
       "Name: total_income_new, dtype: int64"
      ]
     },
     "execution_count": 9,
     "metadata": {},
     "output_type": "execute_result"
    }
   ],
   "source": [
    "data = data.loc[data['total_income'] >0]\n",
    "def finance(row):\n",
    "    if row <= 50000:\n",
    "        return 'До 50 тысяч в месяц'\n",
    "    elif 50000<row<=100000:\n",
    "        return 'От 50 до 100'\n",
    "    elif 150000>row >=100000:\n",
    "        return 'От 100 до 150 тысяч'\n",
    "    elif 200000>row >=150000:\n",
    "        return 'От 150 до 200 тысяч'\n",
    "    elif 250000>row >=200000:\n",
    "        return 'От 200 до 250 тысяч'\n",
    "    elif row >=250000:\n",
    "        return 'Больше 250 тысяч'\n",
    "data_finance = data.loc[:,['total_income','debt']]\n",
    "data_finance['total_income_new'] = data_finance['total_income'].apply(finance)\n",
    "data_finance['total_income_new'].value_counts().head(15)"
   ]
  },
  {
   "cell_type": "markdown",
   "metadata": {},
   "source": [
    "Категоризируем данные по целям кредита. Просмотрим и проанализируем список уникальных значений и выделим из него основные цели кредита. Это будут - автомобиль, свадьба, недвижимость, образование."
   ]
  },
  {
   "cell_type": "code",
   "execution_count": 10,
   "metadata": {},
   "outputs": [],
   "source": [
    "from collections import Counter\n",
    "#print(Counter(data['lemma']))\n",
    "def purposing(row):\n",
    "    if 'автомобиль' in row:\n",
    "        return 'Приобретение автомобиля'\n",
    "    elif 'свадьба' in row:\n",
    "        return 'На свадьбу'\n",
    "    elif 'недвижимость' in row:\n",
    "        return 'Приобретение недвижимости'\n",
    "    elif 'жилье' in row:\n",
    "        return 'Приобретение недвижимости'\n",
    "    elif 'образование' in row:\n",
    "        return 'На образование'\n",
    "data_purpose = data.loc[:,['lemma','debt']]\n",
    "data_purpose['purpose'] = data_purpose['lemma'].apply(purposing)"
   ]
  },
  {
   "cell_type": "markdown",
   "metadata": {},
   "source": [
    "### Вывод"
   ]
  },
  {
   "cell_type": "markdown",
   "metadata": {},
   "source": [
    "Категоризируем данные по типу наличия детей. Будут категории - \"Нет детей\", \"Один ребенок\", \"Два ребенка\", \"Многодетные\". Так как в таблице есть данные с -1 ребенком в семье, то удалим эти строки.¶"
   ]
  },
  {
   "cell_type": "markdown",
   "metadata": {},
   "source": [
    "Категоризируем данные по уровням дохода. \"До 50 тысяч в месяц\" \"От 50 до 100\" и \"От 100 до 150 тысяч\" и \"От 150 до 200 тысяч\" и \"От 200 до 300 тысяч\" и \"От 300 тысяч\". Убираем все строки с доходом отрицательным и равным 0.¶\n"
   ]
  },
  {
   "cell_type": "markdown",
   "metadata": {},
   "source": [
    "Категоризируем данные по целям кредита. Просмотрим и проанализируем список уникальных значений и выделим из него основные цели кредита. Это будут - автомобиль, свадьба, недвижимость, образование."
   ]
  },
  {
   "cell_type": "markdown",
   "metadata": {},
   "source": [
    "## Комментарий наставника\n",
    "Тут тоже нет вывода (точнее, он улетел выше), а он мне необходим. Пожалуйста, пиши их в нужном месте, а то я могу и проглядать (все мы люди, а люди ошибаются). \n",
    "\n",
    "На мой взгляд, не стоит делить так грубо \"есть дети/нет детей\". Бизнесу интересно еще и есть ли связь между \"качеством\" заемщика и количеством его детей. Но твой вариант тоже имеет право на жизнь.\n",
    "\n",
    "Щаг разбиения дохода ты выбрал весьма не плохо, хотя я бы продолжила разбиение и после достиженяи дохода в 100 тыс.\n",
    "\n",
    "Разбиение по целям кредита сделанно просто образцово-показательно. Цели выделены верно."
   ]
  },
  {
   "cell_type": "markdown",
   "metadata": {},
   "source": [
    "### Шаг 3. Ответьте на вопросы"
   ]
  },
  {
   "cell_type": "markdown",
   "metadata": {},
   "source": [
    "- Есть ли зависимость между наличием детей и возвратом кредита в срок?"
   ]
  },
  {
   "cell_type": "code",
   "execution_count": 11,
   "metadata": {},
   "outputs": [
    {
     "name": "stdout",
     "output_type": "stream",
     "text": [
      "children  debt\n",
      "0         0       13028\n",
      "          1        1063\n",
      "1         0        4364\n",
      "          1         444\n",
      "2         0        1858\n",
      "          1         194\n",
      "3         0         303\n",
      "          1          27\n",
      "4         0          37\n",
      "          1           4\n",
      "5         0           9\n",
      "20        0          68\n",
      "          1           8\n",
      "Name: debt, dtype: int64\n"
     ]
    }
   ],
   "source": [
    "#print(data_childrens.groupby(['children', 'debt'])['debt'].count())"
   ]
  },
  {
   "cell_type": "code",
   "execution_count": 12,
   "metadata": {},
   "outputs": [
    {
     "name": "stdout",
     "output_type": "stream",
     "text": [
      "Процент невернувших долг людей с детьми = 10.197319%\n",
      "Процент невернувших долг людей без детей = 8.159349%\n"
     ]
    }
   ],
   "source": [
    "#print('Процент невернувших долг людей с детьми = {:%}'.format(677/6639))\n",
    "#print('Процент невернувших долг людей без детей = {:%}'.format(1063/13028))"
   ]
  },
  {
   "cell_type": "code",
   "execution_count": 13,
   "metadata": {},
   "outputs": [
    {
     "name": "stdout",
     "output_type": "stream",
     "text": [
      "childrens  Два ребенка  Многодетные  Нет детей  Один ребенок\n",
      "debt                                                        \n",
      "0                 1858          417      13028          4364\n",
      "1                  194           39       1063           444\n",
      "Процент невернувших долг людей без детей = 8.159349%\n",
      "Процент невернувших долг людей с одним ребенком = 10.174152%\n",
      "Процент невернувших долг людей с двумя детьми = 10.441335%\n",
      "Процент невернувших долг многодетных = 9.352518%\n"
     ]
    }
   ],
   "source": [
    "\n",
    "data_pivot = data_childrens.pivot_table(index=['debt'], columns='childrens', values='children', aggfunc='count')\n",
    "print(data_pivot.head(10))\n",
    "print('Процент невернувших долг людей без детей = {:%}'.format(data_pivot.loc[1,'Нет детей']/data_pivot.loc[0,'Нет детей']))\n",
    "print('Процент невернувших долг людей с одним ребенком = {:%}'.format(data_pivot.loc[1,'Один ребенок']/data_pivot.loc[0,'Один ребенок']))\n",
    "print('Процент невернувших долг людей с двумя детьми = {:%}'.format(data_pivot.loc[1,'Два ребенка']/data_pivot.loc[0,'Два ребенка']))\n",
    "print('Процент невернувших долг многодетных = {:%}'.format(data_pivot.loc[1,'Многодетные']/data_pivot.loc[0,'Многодетные']))\n"
   ]
  },
  {
   "cell_type": "markdown",
   "metadata": {},
   "source": [
    "### Старый вывод\n",
    "Нельзя сказать, что есть зависимость, между наличием детей и возвратом кредита в срок. Скорее наоборот, люди необремененные чадом, возвращают кредиты на 2% чаще."
   ]
  },
  {
   "cell_type": "markdown",
   "metadata": {},
   "source": [
    "### Новый вывод\n",
    "Многодетные семьи возвращают долги исправнее на 1%, чем люди с одним ребенком или двумя (10.17% и 10.44% должников соотвественно). Люди необремененные чадом, всё еще возвращают кредиты на 2% чаще."
   ]
  },
  {
   "cell_type": "markdown",
   "metadata": {},
   "source": [
    "## Комментарий наставника\n",
    "Вывод верен. Сюда бы еще информацию о том, как количество детей влияет на возврат долга."
   ]
  },
  {
   "cell_type": "markdown",
   "metadata": {},
   "source": []
  },
  {
   "cell_type": "markdown",
   "metadata": {},
   "source": [
    "- Есть ли зависимость между семейным положением и возвратом кредита в срок?"
   ]
  },
  {
   "cell_type": "code",
   "execution_count": 14,
   "metadata": {},
   "outputs": [
    {
     "name": "stdout",
     "output_type": "stream",
     "text": [
      "family_status          debt\n",
      "в разводе              0        1105\n",
      "                       1          85\n",
      "вдовец / вдова         0         892\n",
      "                       1          63\n",
      "гражданский брак       0        3758\n",
      "                       1         388\n",
      "женат / замужем        0       11379\n",
      "                       1         930\n",
      "не женат / не замужем  0        2531\n",
      "                       1         274\n",
      "Name: debt, dtype: int64\n"
     ]
    }
   ],
   "source": [
    "print(data.groupby(['family_status', 'debt'])['debt'].count())"
   ]
  },
  {
   "cell_type": "code",
   "execution_count": 15,
   "metadata": {},
   "outputs": [
    {
     "name": "stdout",
     "output_type": "stream",
     "text": [
      "Процент невернувших долг людей в разводе = 7.692308%\n",
      "Процент невернувших долг людей потерявших супруга = 7.062780%\n",
      "Процент невернувших долг людей в гражданском браке = 10.324641%\n",
      "Процент невернувших долг людей в браке = 8.172950%\n",
      "Процент невернувших долг холостых людей = 10.825761%\n"
     ]
    }
   ],
   "source": [
    "print('Процент невернувших долг людей в разводе = {:%}'.format(85/1105))\n",
    "print('Процент невернувших долг людей потерявших супруга = {:%}'.format(63/892))\n",
    "print('Процент невернувших долг людей в гражданском браке = {:%}'.format(388/3758))\n",
    "print('Процент невернувших долг людей в браке = {:%}'.format(930/11379))\n",
    "print('Процент невернувших долг холостых людей = {:%}'.format(274/2531))"
   ]
  },
  {
   "cell_type": "markdown",
   "metadata": {},
   "source": [
    "### Вывод\n",
    "Холостые люди самые безответственные и невозвращают кредит в 11% случаев. Тогда как потерявшие супруга и люди в разводе склонны возвращать кредиты в 7% случаев."
   ]
  },
  {
   "cell_type": "markdown",
   "metadata": {},
   "source": []
  },
  {
   "cell_type": "markdown",
   "metadata": {},
   "source": [
    "## Комментарий наставника\n",
    "Вывод корректен."
   ]
  },
  {
   "cell_type": "markdown",
   "metadata": {},
   "source": [
    "- Есть ли зависимость между уровнем дохода и возвратом кредита в срок?"
   ]
  },
  {
   "cell_type": "code",
   "execution_count": 16,
   "metadata": {},
   "outputs": [
    {
     "name": "stdout",
     "output_type": "stream",
     "text": [
      "total_income_new     debt\n",
      "Больше 250 тысяч     0       2613\n",
      "                     1        194\n",
      "До 50 тысяч в месяц  0        349\n",
      "                     1         23\n",
      "От 100 до 150 тысяч  0       6488\n",
      "                     1        629\n",
      "От 150 до 200 тысяч  0       4372\n",
      "                     1        399\n",
      "От 200 до 250 тысяч  0       2087\n",
      "                     1        164\n",
      "От 50 до 100         0       3756\n",
      "                     1        331\n",
      "Name: debt, dtype: int64\n"
     ]
    }
   ],
   "source": [
    "#print(data_finance.groupby(['total_income_new', 'debt'])['debt'].count())"
   ]
  },
  {
   "cell_type": "code",
   "execution_count": 17,
   "metadata": {},
   "outputs": [
    {
     "name": "stdout",
     "output_type": "stream",
     "text": [
      "Процент невернувших долг людей с доходом большее 100 тысяч = 8.602915%\n",
      "Процент невернувших долг людей с доходом до 50 тысяч = 6.609195%\n",
      "Процент невернувших долг людей с доходом от 50 до 100 тысяч = 9.173184%\n"
     ]
    }
   ],
   "source": [
    "#print('Процент невернувших долг людей с доходом большее 100 тысяч = {:%}'.format(726/8439))\n",
    "#print('Процент невернувших долг людей с доходом до 50 тысяч = {:%}'.format(23/348))\n",
    "#print('Процент невернувших долг людей с доходом от 50 до 100 тысяч = {:%}'.format(821/8950))"
   ]
  },
  {
   "cell_type": "code",
   "execution_count": 18,
   "metadata": {},
   "outputs": [
    {
     "name": "stdout",
     "output_type": "stream",
     "text": [
      "total_income_new  Больше 250 тысяч  До 50 тысяч в месяц  От 100 до 150 тысяч  \\\n",
      "debt                                                                           \n",
      "0                             2613                  349                 6488   \n",
      "1                              194                   23                  629   \n",
      "\n",
      "total_income_new  От 150 до 200 тысяч  От 200 до 250 тысяч  От 50 до 100  \n",
      "debt                                                                      \n",
      "0                                4372                 2087          3756  \n",
      "1                                 399                  164           331  \n",
      "Процент невернувших долг людей с доходом до 50 тысяч = 6.590258%\n",
      "Процент невернувших долг людей с доходом от 50 до 100 тысяч = 8.812567%\n",
      "Процент невернувших долг людей с доходом от 100 до 150 тысяч = 9.694821%\n",
      "Процент невернувших долг людей с доходом от 150 до 200 тысяч = 9.126258%\n",
      "Процент невернувших долг людей с доходом от 200 до 250 тысяч = 7.858170%\n",
      "Процент невернувших долг людей c доходом больше 250 тысяч = 7.424416%\n"
     ]
    }
   ],
   "source": [
    "data_pivot = data_finance.pivot_table(index=['debt'], columns='total_income_new', values='total_income', aggfunc='count')\n",
    "print(data_pivot.head(10))\n",
    "print('Процент невернувших долг людей с доходом до 50 тысяч = {:%}'.format(data_pivot.loc[1,'До 50 тысяч в месяц']/data_pivot.loc[0,'До 50 тысяч в месяц']))\n",
    "print('Процент невернувших долг людей с доходом от 50 до 100 тысяч = {:%}'.format(data_pivot.loc[1,'От 50 до 100']/data_pivot.loc[0,'От 50 до 100']))\n",
    "print('Процент невернувших долг людей с доходом от 100 до 150 тысяч = {:%}'.format(data_pivot.loc[1,'От 100 до 150 тысяч']/data_pivot.loc[0,'От 100 до 150 тысяч']))\n",
    "print('Процент невернувших долг людей с доходом от 150 до 200 тысяч = {:%}'.format(data_pivot.loc[1,'От 150 до 200 тысяч']/data_pivot.loc[0,'От 150 до 200 тысяч']))\n",
    "print('Процент невернувших долг людей с доходом от 200 до 250 тысяч = {:%}'.format(data_pivot.loc[1,'От 200 до 250 тысяч']/data_pivot.loc[0,'От 200 до 250 тысяч']))\n",
    "print('Процент невернувших долг людей c доходом больше 250 тысяч = {:%}'.format(data_pivot.loc[1,'Больше 250 тысяч']/data_pivot.loc[0,'Больше 250 тысяч']))"
   ]
  },
  {
   "cell_type": "markdown",
   "metadata": {},
   "source": [
    "### Старый вывод\n",
    "Самые ответственные люди с наименьшим доходом, до 50 тысяч. Люди с доходом от 50 до 100 не возвращают долги в 9% случаев. Возможна корреляция с суммами кредитов, так как богатые люди берут большие кредиты."
   ]
  },
  {
   "cell_type": "markdown",
   "metadata": {},
   "source": [
    "### Новый вывод\n",
    "С увеличением доходов до 150 тысяч количество должников растет. После 150 тысяч в месяц падает. Самые ответственные люди - с доходом до 50 тысяч и больше 250 тысяч в месяц. "
   ]
  },
  {
   "cell_type": "markdown",
   "metadata": {},
   "source": [
    "## Комментарий наставника\n",
    "Вот тут тебя сильно подвело, что ты не вывел следующие разбиения - от 100 до 150 тыс, от 150 до 200 тыс и далее. Вывод мог получится иным."
   ]
  },
  {
   "cell_type": "markdown",
   "metadata": {},
   "source": []
  },
  {
   "cell_type": "markdown",
   "metadata": {},
   "source": [
    "- Как разные цели кредита влияют на его возврат в срок?"
   ]
  },
  {
   "cell_type": "markdown",
   "metadata": {},
   "source": [
    "### Вывод"
   ]
  },
  {
   "cell_type": "code",
   "execution_count": 19,
   "metadata": {},
   "outputs": [
    {
     "name": "stdout",
     "output_type": "stream",
     "text": [
      "purpose                    debt\n",
      "На образование             0        3632\n",
      "                           1         370\n",
      "На свадьбу                 0        2136\n",
      "                           1         186\n",
      "Приобретение автомобиля    0        3893\n",
      "                           1         402\n",
      "Приобретение недвижимости  0       10004\n",
      "                           1         782\n",
      "Name: debt, dtype: int64\n"
     ]
    }
   ],
   "source": [
    "print(data_purpose.groupby(['purpose', 'debt'])['debt'].count())"
   ]
  },
  {
   "cell_type": "code",
   "execution_count": 20,
   "metadata": {},
   "outputs": [
    {
     "name": "stdout",
     "output_type": "stream",
     "text": [
      "Процент невернувших долг людей бравших кредит на образование = 10.187225%\n",
      "Процент невернувших долг людей бравших кредит на свадьбу = 8.707865%\n",
      "Процент невернувших долг людей бравших кредит на автомобиль = 10.326227%\n",
      "Процент невернувших долг людей бравших кредит на недвижимость = 7.816873%\n"
     ]
    }
   ],
   "source": [
    "print('Процент невернувших долг людей бравших кредит на образование = {:%}'.format(370/3632))\n",
    "print('Процент невернувших долг людей бравших кредит на свадьбу = {:%}'.format(186/2136))\n",
    "print('Процент невернувших долг людей бравших кредит на автомобиль = {:%}'.format(402/3893))\n",
    "print('Процент невернувших долг людей бравших кредит на недвижимость = {:%}'.format(782/10004))"
   ]
  },
  {
   "cell_type": "markdown",
   "metadata": {},
   "source": [
    "## Вывод\n",
    "Люди берущие заемные средства на приобретение недвижимости самые ответсвенные. Тогда как автомобилисты чаще просрачивают возврат денег.\n",
    "##### Дополнение\n",
    "Вместе с приобретающими автомобиль часто не возвращают догли люди берущие кредиты на образование."
   ]
  },
  {
   "cell_type": "markdown",
   "metadata": {},
   "source": [
    "## Комментарий наставника\n",
    "Какая еще группа кредитов очень близка по своей рискованности к кредиту на автомобиль? Разница ведь почти не существенная (десятые доли процентов). "
   ]
  },
  {
   "cell_type": "markdown",
   "metadata": {},
   "source": [
    "### Шаг 4. Общий вывод"
   ]
  },
  {
   "cell_type": "markdown",
   "metadata": {},
   "source": [
    "Меньше всего банкам стоит доверять человеку с ребенком, холостому, берущему кредит на автомобиль и имеющему доход от 100 до 150 тысяч.\n",
    "\n",
    "Самая надежная категория - берущий средства на приобретение недвижимости, с доходом от 50 тысяч (либо от 250), в разводе или вдова/вдовец, без детей."
   ]
  },
  {
   "cell_type": "markdown",
   "metadata": {},
   "source": [
    "## Комментарий наставника\n",
    "Вывод в целом верен. Он скорее поможет банку, чем нет. Но хорошо бы еще указать самых лучших клиентов (это тоже оооочень интересно). Задачка на \"подумать, елси есть время\" - будут ли пожелния к изменению занесения информации для сотрудников? Что нужно изменить в программе, какие ограниченяи стоит поставить?"
   ]
  },
  {
   "cell_type": "markdown",
   "metadata": {},
   "source": [
    "### Чек-лист готовности проекта\n",
    "\n",
    "Поставьте 'x' в выполненных пунктах. Далее нажмите Shift+Enter."
   ]
  },
  {
   "cell_type": "markdown",
   "metadata": {},
   "source": [
    "- [x]  открыт файл;\n",
    "- [x]  файл изучен;\n",
    "- [x]  определены пропущенные значения;\n",
    "- [x]  заполнены пропущенные значения;\n",
    "- [x]  есть пояснение какие пропущенные значения обнаружены;\n",
    "- [x]  описаны возможные причины появления пропусков в данных;\n",
    "- [x]  объяснено по какому принципу заполнены пропуски;\n",
    "- [x]  заменен вещественный тип данных на целочисленный;\n",
    "- [x]  есть пояснение какой метод используется для изменения типа данных и почему;\n",
    "- [x]  удалены дубликаты;\n",
    "- [x]  есть пояснение какой метод используется для поиска и удаления дубликатов;\n",
    "- [x]  описаны возможные причины появления дубликатов в данных;\n",
    "- [x]  выделены леммы в значениях столбца с целями получения кредита;\n",
    "- [x]  описан процесс лемматизации;\n",
    "- [x]  данные категоризированы;\n",
    "- [x]  есть объяснение принципа категоризации данных;\n",
    "- [x]  есть ответ на вопрос \"Есть ли зависимость между наличием детей и возвратом кредита в срок?\";\n",
    "- [x]  есть ответ на вопрос \"Есть ли зависимость между семейным положением и возвратом кредита в срок?\";\n",
    "- [x]  есть ответ на вопрос \"Есть ли зависимость между уровнем дохода и возвратом кредита в срок?\";\n",
    "- [x]  есть ответ на вопрос \"Как разные цели кредита влияют на его возврат в срок?\";\n",
    "- [x]  в каждом этапе есть выводы;\n",
    "- [x]  есть общий вывод."
   ]
  },
  {
   "cell_type": "code",
   "execution_count": null,
   "metadata": {},
   "outputs": [],
   "source": []
  }
 ],
 "metadata": {
  "kernelspec": {
   "display_name": "Python 3",
   "language": "python",
   "name": "python3"
  },
  "language_info": {
   "codemirror_mode": {
    "name": "ipython",
    "version": 3
   },
   "file_extension": ".py",
   "mimetype": "text/x-python",
   "name": "python",
   "nbconvert_exporter": "python",
   "pygments_lexer": "ipython3",
   "version": "3.8.8"
  }
 },
 "nbformat": 4,
 "nbformat_minor": 2
}
