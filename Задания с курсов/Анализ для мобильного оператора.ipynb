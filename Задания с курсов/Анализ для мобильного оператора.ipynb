{
 "cells": [
  {
   "cell_type": "markdown",
   "metadata": {},
   "source": [
    "## Шаг №1. Предобработка данных."
   ]
  },
  {
   "cell_type": "markdown",
   "metadata": {},
   "source": [
    "<font color='magenta'> <b>Комментарий наставника:</b> Привет! Лучше все же оставлять описание проекта. И проверять проще, и потом самому вспоминать - \"что это тут такое интересное\". И можно отправить как пример своей работы.\n",
    "    \n",
    "По проекту - очень хорошо сделанно. Просто и правильно объединены таблицы, отлично посчитана выручка. Экономный хорошо работающий код. Отлично проверяешь гипотезы.\n",
    "\n",
    "Но! есть недочеты и на этапе предобработки данных, и на этапе выводов. Еще нужно вывести статистические показатели распределений - медиану, среднее, стандартное отклонение. И понять, как меняются наши данные по месяцам. \n",
    "</font>"
   ]
  },
  {
   "cell_type": "markdown",
   "metadata": {},
   "source": [
    "<font color='magenta'> <b>Комментарий наставника 2:</b> Отлично, проект стал еще лучше. Здорово, что теперь ты строишь предположения о том, как именно появились странные нули в данных и дествуешь исходя из этих предположений. Для того, что бы он стал совсем идеальным стоит тип соединения таблиц с left заменить на outer (на всякий случай - мало ли как ты в дальнейшем будешь использовать этот код, хотя в новом варианте ты правильно выстроил порядок соединения таблиц). Ты нашел интересную деталь: данные не по всем 500 пользователям есть в таблицах - хорошо бы изучить, почему. Когда я просила сформировать гипотезы я предлагала написать, в чем именно заключаются нулевая гипотеза и альтернативная - это сильно облегчит работу людям, которые будут использовать твой проект. И еще  - когда у нас есть данные только по одному году мы можем очень осторожно утверждать что-то про \"тренды\". Все изменения вполне могут быть вызваны простой годовой сезонностью. Для вычисления именно трендов нужно иметь хоть немного данных и за предыдущий год тоже, либо выражаться острожней. \n",
    "</font>"
   ]
  },
  {
   "cell_type": "markdown",
   "metadata": {},
   "source": [
    "### Изучим файлы данных."
   ]
  },
  {
   "cell_type": "code",
   "execution_count": 1,
   "metadata": {},
   "outputs": [],
   "source": [
    "import pandas as pd\n",
    "import math\n",
    "from scipy import stats as st\n",
    "import numpy as np\n",
    "import matplotlib.pyplot as plt\n",
    "data_users = pd.read_csv('/datasets/users.csv')"
   ]
  },
  {
   "cell_type": "code",
   "execution_count": 2,
   "metadata": {},
   "outputs": [
    {
     "name": "stdout",
     "output_type": "stream",
     "text": [
      "<class 'pandas.core.frame.DataFrame'>\n",
      "RangeIndex: 500 entries, 0 to 499\n",
      "Data columns (total 8 columns):\n",
      "user_id       500 non-null int64\n",
      "age           500 non-null int64\n",
      "churn_date    38 non-null object\n",
      "city          500 non-null object\n",
      "first_name    500 non-null object\n",
      "last_name     500 non-null object\n",
      "reg_date      500 non-null object\n",
      "tariff        500 non-null object\n",
      "dtypes: int64(2), object(6)\n",
      "memory usage: 31.3+ KB\n"
     ]
    }
   ],
   "source": [
    "data_users.info()"
   ]
  },
  {
   "cell_type": "markdown",
   "metadata": {},
   "source": [
    "<b>В датасете есть пропущенные значения в столбце churn_date, это нормально, так как в него вносится дата ухода пользователей, если значение пропущено, то пользователь еще пользуется тарифом.< /b> "
   ]
  },
  {
   "cell_type": "code",
   "execution_count": 3,
   "metadata": {},
   "outputs": [
    {
     "name": "stdout",
     "output_type": "stream",
     "text": [
      "<class 'pandas.core.frame.DataFrame'>\n",
      "RangeIndex: 202607 entries, 0 to 202606\n",
      "Data columns (total 4 columns):\n",
      "id           202607 non-null object\n",
      "call_date    202607 non-null object\n",
      "duration     202607 non-null float64\n",
      "user_id      202607 non-null int64\n",
      "dtypes: float64(1), int64(1), object(2)\n",
      "memory usage: 6.2+ MB\n"
     ]
    }
   ],
   "source": [
    "data_calls = pd.read_csv('/datasets/calls.csv')\n",
    "data_calls.info()"
   ]
  },
  {
   "cell_type": "code",
   "execution_count": 4,
   "metadata": {},
   "outputs": [
    {
     "data": {
      "text/plain": [
       "0.00    39613\n",
       "4.49      142\n",
       "5.50      142\n",
       "6.15      141\n",
       "6.38      141\n",
       "Name: duration, dtype: int64"
      ]
     },
     "execution_count": 4,
     "metadata": {},
     "output_type": "execute_result"
    }
   ],
   "source": [
    "data_calls['duration'].value_counts().head()"
   ]
  },
  {
   "cell_type": "markdown",
   "metadata": {},
   "source": [
    "<b>Видим, что у нас 39 тысяч звонков с нулевой длительностью. Возможно это вызовы на которые не ответили или люди не брали трубки. Так как это проблема в данных, то удалим их.</b> "
   ]
  },
  {
   "cell_type": "code",
   "execution_count": 5,
   "metadata": {},
   "outputs": [
    {
     "name": "stdout",
     "output_type": "stream",
     "text": [
      "492\n",
      "492\n"
     ]
    }
   ],
   "source": [
    "print(data_calls['user_id'].value_counts().count())\n",
    "data_calls = data_calls.query('duration != 0')\n",
    "data_calls['duration'].value_counts().head()\n",
    "print(data_calls['user_id'].value_counts().count())"
   ]
  },
  {
   "cell_type": "markdown",
   "metadata": {},
   "source": [
    "<b>Как видно нулевой длительности звонков больше нет.</b>"
   ]
  },
  {
   "cell_type": "markdown",
   "metadata": {},
   "source": [
    "<font color='magenta'> <b>Комментарий наставника:</b> Почему именно медиана? Есть предположения, почему возникли пропуски в данных?\n",
    "</font>"
   ]
  },
  {
   "cell_type": "code",
   "execution_count": 6,
   "metadata": {},
   "outputs": [
    {
     "name": "stdout",
     "output_type": "stream",
     "text": [
      "<class 'pandas.core.frame.DataFrame'>\n",
      "RangeIndex: 149396 entries, 0 to 149395\n",
      "Data columns (total 4 columns):\n",
      "id              149396 non-null object\n",
      "mb_used         149396 non-null float64\n",
      "session_date    149396 non-null object\n",
      "user_id         149396 non-null int64\n",
      "dtypes: float64(1), int64(1), object(2)\n",
      "memory usage: 4.6+ MB\n"
     ]
    },
    {
     "data": {
      "text/plain": [
       "0.00      19598\n",
       "197.56        9\n",
       "447.30        9\n",
       "335.91        9\n",
       "108.95        8\n",
       "Name: mb_used, dtype: int64"
      ]
     },
     "execution_count": 6,
     "metadata": {},
     "output_type": "execute_result"
    }
   ],
   "source": [
    "data_internet = pd.read_csv('/datasets/internet.csv')\n",
    "data_internet.info()\n",
    "data_internet['mb_used'].value_counts().head()"
   ]
  },
  {
   "cell_type": "markdown",
   "metadata": {},
   "source": [
    "<b>Видим, что у нас 19 тысяч сессий с нулевой передачей данных. Возможно это сессии в которых была попытка подключения к интернету, но без передачи данных. Так как это проблема в данных, то удалим их.</b> "
   ]
  },
  {
   "cell_type": "code",
   "execution_count": 7,
   "metadata": {},
   "outputs": [
    {
     "name": "stdout",
     "output_type": "stream",
     "text": [
      "497\n",
      "497\n"
     ]
    }
   ],
   "source": [
    "print(data_internet['user_id'].value_counts().count())\n",
    "data_internet = data_internet.query('mb_used != 0')\n",
    "data_internet['mb_used'].value_counts().head()\n",
    "print(data_internet['user_id'].value_counts().count())"
   ]
  },
  {
   "cell_type": "markdown",
   "metadata": {},
   "source": [
    "<b>Как видно нулевых интернет сессий больше нет.</b>"
   ]
  },
  {
   "cell_type": "code",
   "execution_count": 8,
   "metadata": {},
   "outputs": [
    {
     "name": "stdout",
     "output_type": "stream",
     "text": [
      "<class 'pandas.core.frame.DataFrame'>\n",
      "RangeIndex: 123036 entries, 0 to 123035\n",
      "Data columns (total 3 columns):\n",
      "id              123036 non-null object\n",
      "message_date    123036 non-null object\n",
      "user_id         123036 non-null int64\n",
      "dtypes: int64(1), object(2)\n",
      "memory usage: 2.8+ MB\n",
      "426\n"
     ]
    }
   ],
   "source": [
    "data_messages = pd.read_csv('/datasets/messages.csv')\n",
    "data_messages.info()\n",
    "data_messages['message_date'].value_counts().head()\n",
    "print(data_messages['user_id'].value_counts().count())"
   ]
  },
  {
   "cell_type": "code",
   "execution_count": 9,
   "metadata": {},
   "outputs": [
    {
     "name": "stdout",
     "output_type": "stream",
     "text": [
      "<class 'pandas.core.frame.DataFrame'>\n",
      "RangeIndex: 2 entries, 0 to 1\n",
      "Data columns (total 8 columns):\n",
      "messages_included        2 non-null int64\n",
      "mg_per_month_included    2 non-null int64\n",
      "minutes_included         2 non-null int64\n",
      "rub_monthly_fee          2 non-null int64\n",
      "rub_per_gb               2 non-null int64\n",
      "rub_per_message          2 non-null int64\n",
      "rub_per_minute           2 non-null int64\n",
      "tariff_name              2 non-null object\n",
      "dtypes: int64(7), object(1)\n",
      "memory usage: 208.0+ bytes\n"
     ]
    }
   ],
   "source": [
    "data_tariffs = pd.read_csv('/datasets/tariffs.csv')\n",
    "data_tariffs.info()"
   ]
  },
  {
   "cell_type": "markdown",
   "metadata": {},
   "source": [
    "<b>В таблицах с данными по сообщениям и интернет траффику с данными все в порядке.</b>"
   ]
  },
  {
   "cell_type": "markdown",
   "metadata": {},
   "source": [
    "<font color='magenta'> <b>Комментарий наставника:</b> Нужно ли еще где-то заменить нулевые значения?\n",
    "</font>"
   ]
  },
  {
   "cell_type": "markdown",
   "metadata": {},
   "source": [
    "## Шаг №2. Добавим новые данные для каждого пользователя."
   ]
  },
  {
   "cell_type": "markdown",
   "metadata": {},
   "source": [
    "### Количество сделанных звонков и израсходованных минут разговора по месяцам, количество отправленных сообщений и объем израсходованного интернет траффика."
   ]
  },
  {
   "cell_type": "markdown",
   "metadata": {},
   "source": [
    "<b>Для добавления этого столбца нам необходимо для начала привести все столбцы с датами к единому виду.</b>"
   ]
  },
  {
   "cell_type": "code",
   "execution_count": 10,
   "metadata": {},
   "outputs": [],
   "source": [
    "data_calls['month']= pd.DatetimeIndex(pd.to_datetime(data_calls['call_date'], format='%Y-%m-%d')).month"
   ]
  },
  {
   "cell_type": "code",
   "execution_count": 11,
   "metadata": {},
   "outputs": [],
   "source": [
    "data_internet['month']= pd.DatetimeIndex(pd.to_datetime(data_internet['session_date'], format='%Y-%m-%d')).month"
   ]
  },
  {
   "cell_type": "code",
   "execution_count": 12,
   "metadata": {},
   "outputs": [],
   "source": [
    "data_messages['month']= pd.DatetimeIndex(pd.to_datetime(data_messages['message_date'], format='%Y-%m-%d')).month"
   ]
  },
  {
   "cell_type": "code",
   "execution_count": 13,
   "metadata": {},
   "outputs": [],
   "source": [
    "users_month_calls = data_calls.pivot_table(index=['user_id','month'], values='id', aggfunc='count')\n",
    "users_month_calls.rename(columns={'id': 'users_month_calls'}, inplace=True)"
   ]
  },
  {
   "cell_type": "code",
   "execution_count": 14,
   "metadata": {},
   "outputs": [],
   "source": [
    "users_month_calls_duration = data_calls.pivot_table(index=['user_id','month'], values='duration', aggfunc='sum')"
   ]
  },
  {
   "cell_type": "code",
   "execution_count": 15,
   "metadata": {},
   "outputs": [
    {
     "data": {
      "text/plain": [
       "0"
      ]
     },
     "execution_count": 15,
     "metadata": {},
     "output_type": "execute_result"
    }
   ],
   "source": [
    "users_month_messages = data_messages.pivot_table(index=['user_id','month'], values='id', aggfunc='count')\n",
    "users_month_messages.rename(columns={'id': 'messages'}, inplace=True)\n",
    "users_month_messages['messages'].isna().sum()"
   ]
  },
  {
   "cell_type": "code",
   "execution_count": 16,
   "metadata": {},
   "outputs": [
    {
     "data": {
      "text/plain": [
       "0"
      ]
     },
     "execution_count": 16,
     "metadata": {},
     "output_type": "execute_result"
    }
   ],
   "source": [
    "users_month_mb = data_internet.pivot_table(index=['user_id','month'], values='mb_used', aggfunc='sum')\n",
    "users_month_mb['mb_used'].isna().sum()"
   ]
  },
  {
   "cell_type": "code",
   "execution_count": 17,
   "metadata": {},
   "outputs": [],
   "source": [
    "data = users_month_mb.merge(users_month_calls_duration, on=['user_id','month'], how='left')"
   ]
  },
  {
   "cell_type": "code",
   "execution_count": 18,
   "metadata": {},
   "outputs": [],
   "source": [
    "data = data.merge(users_month_calls, on=['user_id','month'], how='left')"
   ]
  },
  {
   "cell_type": "code",
   "execution_count": 19,
   "metadata": {},
   "outputs": [
    {
     "name": "stdout",
     "output_type": "stream",
     "text": [
      "<class 'pandas.core.frame.DataFrame'>\n",
      "MultiIndex: 3201 entries, (1000, 5) to (1499, 12)\n",
      "Data columns (total 4 columns):\n",
      "mb_used              3201 non-null float64\n",
      "duration             3155 non-null float64\n",
      "users_month_calls    3155 non-null float64\n",
      "messages             2704 non-null float64\n",
      "dtypes: float64(4)\n",
      "memory usage: 113.5 KB\n"
     ]
    }
   ],
   "source": [
    "data = data.merge(users_month_messages, on=['user_id','month'], how='left')\n",
    "data.info()"
   ]
  },
  {
   "cell_type": "code",
   "execution_count": 20,
   "metadata": {},
   "outputs": [],
   "source": [
    "data = pd.DataFrame(data.to_records())"
   ]
  },
  {
   "cell_type": "code",
   "execution_count": 21,
   "metadata": {},
   "outputs": [],
   "source": [
    "data_users_id = data_users.loc[:,['user_id','tariff','city']]\n",
    "data = data.merge(data_users_id, on='user_id', how='left')"
   ]
  },
  {
   "cell_type": "markdown",
   "metadata": {},
   "source": [
    "<b>Проверим нашу полученную таблицу</b>"
   ]
  },
  {
   "cell_type": "code",
   "execution_count": 22,
   "metadata": {},
   "outputs": [
    {
     "name": "stdout",
     "output_type": "stream",
     "text": [
      "<class 'pandas.core.frame.DataFrame'>\n",
      "Int64Index: 3201 entries, 0 to 3200\n",
      "Data columns (total 8 columns):\n",
      "user_id              3201 non-null int64\n",
      "month                3201 non-null int64\n",
      "mb_used              3201 non-null float64\n",
      "duration             3155 non-null float64\n",
      "users_month_calls    3155 non-null float64\n",
      "messages             2704 non-null float64\n",
      "tariff               3201 non-null object\n",
      "city                 3201 non-null object\n",
      "dtypes: float64(4), int64(2), object(2)\n",
      "memory usage: 225.1+ KB\n"
     ]
    }
   ],
   "source": [
    "data.info()"
   ]
  },
  {
   "cell_type": "markdown",
   "metadata": {},
   "source": [
    "<b>Заполним пропущенные значения в длине звонков, сообщениях и мегабайтах данных на 0, так как в эти месяцы пользователи могли не отправлять сообщения или уже перестали пользоваться тарифом</b>"
   ]
  },
  {
   "cell_type": "code",
   "execution_count": 23,
   "metadata": {},
   "outputs": [
    {
     "name": "stdout",
     "output_type": "stream",
     "text": [
      "<class 'pandas.core.frame.DataFrame'>\n",
      "Int64Index: 3201 entries, 0 to 3200\n",
      "Data columns (total 8 columns):\n",
      "user_id              3201 non-null int64\n",
      "month                3201 non-null int64\n",
      "mb_used              3201 non-null float64\n",
      "duration             3201 non-null float64\n",
      "users_month_calls    3155 non-null float64\n",
      "messages             3201 non-null float64\n",
      "tariff               3201 non-null object\n",
      "city                 3201 non-null object\n",
      "dtypes: float64(4), int64(2), object(2)\n",
      "memory usage: 225.1+ KB\n",
      "497\n"
     ]
    }
   ],
   "source": [
    "data['messages'] = data['messages'].fillna(0)\n",
    "data['mb_used'] = data['mb_used'].fillna(0)\n",
    "data['duration'] = data['duration'].fillna(0)\n",
    "data.info()\n",
    "print(data['user_id'].value_counts().count())"
   ]
  },
  {
   "cell_type": "markdown",
   "metadata": {},
   "source": [
    "<b> После всех преобразований получаем датафрейм <strong>data</strong> со всеми необходимыми данными, а именно: \n",
    "<ol type= «1″>\n",
    "<li>Израсходованных минут в месяц</li>\n",
    "<li>Количество отправленных сообщений в месяц</li>\n",
    "<li>Объем израсходованного интернет-траффика в месяц</li>\n",
    "<li>Тариф пользователя</li>\n",
    "<li>Город пользователя</li>     \n",
    "</ol>"
   ]
  },
  {
   "cell_type": "markdown",
   "metadata": {},
   "source": [
    "<font color='magenta'> <b>Комментарий наставника 2:</b> В итоге ты получил, что у тебя 497 пользователей в таблице. Должно быть 500. Пожалуй, стоит выяснить, куда провалились еще 3.\n",
    "</font>"
   ]
  },
  {
   "cell_type": "code",
   "execution_count": 24,
   "metadata": {},
   "outputs": [
    {
     "data": {
      "text/html": [
       "<div>\n",
       "<style scoped>\n",
       "    .dataframe tbody tr th:only-of-type {\n",
       "        vertical-align: middle;\n",
       "    }\n",
       "\n",
       "    .dataframe tbody tr th {\n",
       "        vertical-align: top;\n",
       "    }\n",
       "\n",
       "    .dataframe thead th {\n",
       "        text-align: right;\n",
       "    }\n",
       "</style>\n",
       "<table border=\"1\" class=\"dataframe\">\n",
       "  <thead>\n",
       "    <tr style=\"text-align: right;\">\n",
       "      <th></th>\n",
       "      <th>user_id</th>\n",
       "      <th>month</th>\n",
       "      <th>mb_used</th>\n",
       "      <th>duration</th>\n",
       "      <th>users_month_calls</th>\n",
       "      <th>messages</th>\n",
       "      <th>tariff</th>\n",
       "      <th>city</th>\n",
       "    </tr>\n",
       "  </thead>\n",
       "  <tbody>\n",
       "    <tr>\n",
       "      <th>0</th>\n",
       "      <td>1000</td>\n",
       "      <td>5</td>\n",
       "      <td>2253.49</td>\n",
       "      <td>150.06</td>\n",
       "      <td>17.0</td>\n",
       "      <td>22.0</td>\n",
       "      <td>ultra</td>\n",
       "      <td>Краснодар</td>\n",
       "    </tr>\n",
       "    <tr>\n",
       "      <th>1</th>\n",
       "      <td>1000</td>\n",
       "      <td>6</td>\n",
       "      <td>23233.77</td>\n",
       "      <td>158.90</td>\n",
       "      <td>28.0</td>\n",
       "      <td>60.0</td>\n",
       "      <td>ultra</td>\n",
       "      <td>Краснодар</td>\n",
       "    </tr>\n",
       "    <tr>\n",
       "      <th>2</th>\n",
       "      <td>1000</td>\n",
       "      <td>7</td>\n",
       "      <td>14003.64</td>\n",
       "      <td>318.80</td>\n",
       "      <td>41.0</td>\n",
       "      <td>75.0</td>\n",
       "      <td>ultra</td>\n",
       "      <td>Краснодар</td>\n",
       "    </tr>\n",
       "    <tr>\n",
       "      <th>3</th>\n",
       "      <td>1000</td>\n",
       "      <td>8</td>\n",
       "      <td>14055.93</td>\n",
       "      <td>389.87</td>\n",
       "      <td>42.0</td>\n",
       "      <td>81.0</td>\n",
       "      <td>ultra</td>\n",
       "      <td>Краснодар</td>\n",
       "    </tr>\n",
       "    <tr>\n",
       "      <th>4</th>\n",
       "      <td>1000</td>\n",
       "      <td>9</td>\n",
       "      <td>14568.91</td>\n",
       "      <td>440.14</td>\n",
       "      <td>46.0</td>\n",
       "      <td>57.0</td>\n",
       "      <td>ultra</td>\n",
       "      <td>Краснодар</td>\n",
       "    </tr>\n",
       "  </tbody>\n",
       "</table>\n",
       "</div>"
      ],
      "text/plain": [
       "   user_id  month   mb_used  duration  users_month_calls  messages tariff  \\\n",
       "0     1000      5   2253.49    150.06               17.0      22.0  ultra   \n",
       "1     1000      6  23233.77    158.90               28.0      60.0  ultra   \n",
       "2     1000      7  14003.64    318.80               41.0      75.0  ultra   \n",
       "3     1000      8  14055.93    389.87               42.0      81.0  ultra   \n",
       "4     1000      9  14568.91    440.14               46.0      57.0  ultra   \n",
       "\n",
       "        city  \n",
       "0  Краснодар  \n",
       "1  Краснодар  \n",
       "2  Краснодар  \n",
       "3  Краснодар  \n",
       "4  Краснодар  "
      ]
     },
     "execution_count": 24,
     "metadata": {},
     "output_type": "execute_result"
    }
   ],
   "source": [
    "data.head()"
   ]
  },
  {
   "cell_type": "markdown",
   "metadata": {},
   "source": [
    "<font color='magenta'> <b>Комментарий наставника:</b> Отличное объединение таблиц! Просто и правильно. Но стоит исследовать итоговую таблицу - все ли объединения прошли корректно, сколько в ней строк, не забыты ли нужные колонки. И я бы не скзаал, что 34 человека ушли именно \"от оператора\".\n",
    "</font>"
   ]
  },
  {
   "cell_type": "markdown",
   "metadata": {},
   "source": [
    "## Доп.вывод\n",
    "Изменил порядок объединения таблиц, чтобы не потерять некоторых пользователей, которые изначально терялись при объединении с датасетом, где меньше User_id"
   ]
  },
  {
   "cell_type": "markdown",
   "metadata": {},
   "source": [
    "<font color='magenta'> <b>Комментарий наставника 2:</b> А вот это правильно!\n",
    "</font>"
   ]
  },
  {
   "cell_type": "markdown",
   "metadata": {},
   "source": [
    "### Теперь добавим помесячную выручку с каждого пользователя."
   ]
  },
  {
   "cell_type": "code",
   "execution_count": 25,
   "metadata": {},
   "outputs": [
    {
     "name": "stdout",
     "output_type": "stream",
     "text": [
      "<class 'pandas.core.frame.DataFrame'>\n",
      "Int64Index: 3201 entries, 0 to 3200\n",
      "Data columns (total 8 columns):\n",
      "user_id              3201 non-null int64\n",
      "month                3201 non-null int64\n",
      "mb_used              3201 non-null int64\n",
      "duration             3201 non-null int64\n",
      "users_month_calls    3155 non-null float64\n",
      "messages             3201 non-null int64\n",
      "tariff               3201 non-null object\n",
      "city                 3201 non-null object\n",
      "dtypes: float64(1), int64(5), object(2)\n",
      "memory usage: 225.1+ KB\n"
     ]
    }
   ],
   "source": [
    "data['messages']=data['messages'].astype('int')\n",
    "data['duration']=data['duration'].astype('int')\n",
    "data['mb_used']=data['mb_used'].astype('int')\n",
    "data.info()"
   ]
  },
  {
   "cell_type": "code",
   "execution_count": 26,
   "metadata": {},
   "outputs": [
    {
     "data": {
      "text/html": [
       "<div>\n",
       "<style scoped>\n",
       "    .dataframe tbody tr th:only-of-type {\n",
       "        vertical-align: middle;\n",
       "    }\n",
       "\n",
       "    .dataframe tbody tr th {\n",
       "        vertical-align: top;\n",
       "    }\n",
       "\n",
       "    .dataframe thead th {\n",
       "        text-align: right;\n",
       "    }\n",
       "</style>\n",
       "<table border=\"1\" class=\"dataframe\">\n",
       "  <thead>\n",
       "    <tr style=\"text-align: right;\">\n",
       "      <th></th>\n",
       "      <th>messages_included</th>\n",
       "      <th>mg_per_month_included</th>\n",
       "      <th>minutes_included</th>\n",
       "      <th>rub_monthly_fee</th>\n",
       "      <th>rub_per_gb</th>\n",
       "      <th>rub_per_message</th>\n",
       "      <th>rub_per_minute</th>\n",
       "      <th>tariff_name</th>\n",
       "    </tr>\n",
       "  </thead>\n",
       "  <tbody>\n",
       "    <tr>\n",
       "      <th>0</th>\n",
       "      <td>50</td>\n",
       "      <td>15360</td>\n",
       "      <td>500</td>\n",
       "      <td>550</td>\n",
       "      <td>200</td>\n",
       "      <td>3</td>\n",
       "      <td>3</td>\n",
       "      <td>smart</td>\n",
       "    </tr>\n",
       "    <tr>\n",
       "      <th>1</th>\n",
       "      <td>1000</td>\n",
       "      <td>30720</td>\n",
       "      <td>3000</td>\n",
       "      <td>1950</td>\n",
       "      <td>150</td>\n",
       "      <td>1</td>\n",
       "      <td>1</td>\n",
       "      <td>ultra</td>\n",
       "    </tr>\n",
       "  </tbody>\n",
       "</table>\n",
       "</div>"
      ],
      "text/plain": [
       "   messages_included  mg_per_month_included  minutes_included  \\\n",
       "0                 50                  15360               500   \n",
       "1               1000                  30720              3000   \n",
       "\n",
       "   rub_monthly_fee  rub_per_gb  rub_per_message  rub_per_minute tariff_name  \n",
       "0              550         200                3               3       smart  \n",
       "1             1950         150                1               1       ultra  "
      ]
     },
     "execution_count": 26,
     "metadata": {},
     "output_type": "execute_result"
    }
   ],
   "source": [
    "data_tariffs.head()"
   ]
  },
  {
   "cell_type": "code",
   "execution_count": 27,
   "metadata": {},
   "outputs": [
    {
     "data": {
      "text/html": [
       "<div>\n",
       "<style scoped>\n",
       "    .dataframe tbody tr th:only-of-type {\n",
       "        vertical-align: middle;\n",
       "    }\n",
       "\n",
       "    .dataframe tbody tr th {\n",
       "        vertical-align: top;\n",
       "    }\n",
       "\n",
       "    .dataframe thead th {\n",
       "        text-align: right;\n",
       "    }\n",
       "</style>\n",
       "<table border=\"1\" class=\"dataframe\">\n",
       "  <thead>\n",
       "    <tr style=\"text-align: right;\">\n",
       "      <th></th>\n",
       "      <th>user_id</th>\n",
       "      <th>month</th>\n",
       "      <th>mb_used</th>\n",
       "      <th>duration</th>\n",
       "      <th>users_month_calls</th>\n",
       "      <th>messages</th>\n",
       "      <th>tariff</th>\n",
       "      <th>city</th>\n",
       "      <th>revenu</th>\n",
       "    </tr>\n",
       "  </thead>\n",
       "  <tbody>\n",
       "    <tr>\n",
       "      <th>0</th>\n",
       "      <td>1000</td>\n",
       "      <td>5</td>\n",
       "      <td>2253</td>\n",
       "      <td>150</td>\n",
       "      <td>17.0</td>\n",
       "      <td>22</td>\n",
       "      <td>ultra</td>\n",
       "      <td>Краснодар</td>\n",
       "      <td>1950</td>\n",
       "    </tr>\n",
       "    <tr>\n",
       "      <th>1</th>\n",
       "      <td>1000</td>\n",
       "      <td>6</td>\n",
       "      <td>23233</td>\n",
       "      <td>158</td>\n",
       "      <td>28.0</td>\n",
       "      <td>60</td>\n",
       "      <td>ultra</td>\n",
       "      <td>Краснодар</td>\n",
       "      <td>1950</td>\n",
       "    </tr>\n",
       "    <tr>\n",
       "      <th>2</th>\n",
       "      <td>1000</td>\n",
       "      <td>7</td>\n",
       "      <td>14003</td>\n",
       "      <td>318</td>\n",
       "      <td>41.0</td>\n",
       "      <td>75</td>\n",
       "      <td>ultra</td>\n",
       "      <td>Краснодар</td>\n",
       "      <td>1950</td>\n",
       "    </tr>\n",
       "    <tr>\n",
       "      <th>3</th>\n",
       "      <td>1000</td>\n",
       "      <td>8</td>\n",
       "      <td>14055</td>\n",
       "      <td>389</td>\n",
       "      <td>42.0</td>\n",
       "      <td>81</td>\n",
       "      <td>ultra</td>\n",
       "      <td>Краснодар</td>\n",
       "      <td>1950</td>\n",
       "    </tr>\n",
       "    <tr>\n",
       "      <th>4</th>\n",
       "      <td>1000</td>\n",
       "      <td>9</td>\n",
       "      <td>14568</td>\n",
       "      <td>440</td>\n",
       "      <td>46.0</td>\n",
       "      <td>57</td>\n",
       "      <td>ultra</td>\n",
       "      <td>Краснодар</td>\n",
       "      <td>1950</td>\n",
       "    </tr>\n",
       "  </tbody>\n",
       "</table>\n",
       "</div>"
      ],
      "text/plain": [
       "   user_id  month  mb_used  duration  users_month_calls  messages tariff  \\\n",
       "0     1000      5     2253       150               17.0        22  ultra   \n",
       "1     1000      6    23233       158               28.0        60  ultra   \n",
       "2     1000      7    14003       318               41.0        75  ultra   \n",
       "3     1000      8    14055       389               42.0        81  ultra   \n",
       "4     1000      9    14568       440               46.0        57  ultra   \n",
       "\n",
       "        city  revenu  \n",
       "0  Краснодар    1950  \n",
       "1  Краснодар    1950  \n",
       "2  Краснодар    1950  \n",
       "3  Краснодар    1950  \n",
       "4  Краснодар    1950  "
      ]
     },
     "execution_count": 27,
     "metadata": {},
     "output_type": "execute_result"
    }
   ],
   "source": [
    "def month_revenue_by_user (row):\n",
    "    tariff = row['tariff']\n",
    "    if tariff == 'ultra':\n",
    "        index = 1\n",
    "    elif tariff == 'smart':\n",
    "        index = 0\n",
    "        \n",
    "    if data_tariffs.loc[index,'messages_included'] < row['messages']:\n",
    "        message_revenu = (row['messages']-data_tariffs.loc[index,'messages_included'])*data_tariffs.loc[index,'rub_per_message']\n",
    "    else: message_revenu = 0\n",
    "\n",
    "    if data_tariffs.loc[index,'mg_per_month_included'] < row['mb_used']:\n",
    "        mb_revenu = math.ceil((row['mb_used']-data_tariffs.loc[index,'mg_per_month_included'])/1024)*data_tariffs.loc[index,'rub_per_gb']\n",
    "    else: mb_revenu = 0\n",
    "\n",
    "    if data_tariffs.loc[index,'minutes_included'] < row['duration']:\n",
    "        calls_revenu = (row['duration']-data_tariffs.loc[index,'minutes_included'])*data_tariffs.loc[index,'rub_per_minute']\n",
    "    else: calls_revenu = 0\n",
    "\n",
    "    revenu = data_tariffs.loc[index,'rub_monthly_fee'] + message_revenu + mb_revenu + calls_revenu\n",
    "    return revenu\n",
    "        \n",
    "data['revenu'] = data.apply(month_revenue_by_user, axis=1)       \n",
    "data.head()"
   ]
  },
  {
   "cell_type": "markdown",
   "metadata": {},
   "source": [
    "<font color='magenta'> <b>Комментарий наставника:</b> Функция просто супер.</font>"
   ]
  },
  {
   "cell_type": "markdown",
   "metadata": {},
   "source": [
    "## Шаг №3. Проанализируем данные."
   ]
  },
  {
   "cell_type": "markdown",
   "metadata": {},
   "source": [
    "<b> Построим гистограммы и опишем распределения.</b>"
   ]
  },
  {
   "cell_type": "markdown",
   "metadata": {},
   "source": [
    "### Пользователи тарифа Ultra"
   ]
  },
  {
   "cell_type": "markdown",
   "metadata": {},
   "source": [
    "#### Посмотрим распределение количества пользователей тарифа \"Ультра\" по минутам разговоров в месяц."
   ]
  },
  {
   "cell_type": "code",
   "execution_count": 28,
   "metadata": {},
   "outputs": [
    {
     "data": {
      "text/plain": [
       "<matplotlib.axes._subplots.AxesSubplot at 0x7f036bc21438>"
      ]
     },
     "execution_count": 28,
     "metadata": {},
     "output_type": "execute_result"
    },
    {
     "data": {
      "image/png": "[encoded data removed]",
      "text/plain": [
       "<Figure size 432x288 with 1 Axes>"
      ]
     },
     "metadata": {
      "needs_background": "light"
     },
     "output_type": "display_data"
    }
   ],
   "source": [
    "data.query('tariff == \"ultra\"').loc[:,'duration'].hist(bins=range(data['duration'].min(), data['duration'].max(), 100))"
   ]
  },
  {
   "cell_type": "markdown",
   "metadata": {},
   "source": [
    "#### Посмотрим распределение количества пользователей тарифа \"Ультра\" по количеству отправленных сообщений в месяц."
   ]
  },
  {
   "cell_type": "code",
   "execution_count": 29,
   "metadata": {},
   "outputs": [
    {
     "data": {
      "text/plain": [
       "<matplotlib.axes._subplots.AxesSubplot at 0x7f036bb286a0>"
      ]
     },
     "execution_count": 29,
     "metadata": {},
     "output_type": "execute_result"
    },
    {
     "data": {
      "image/png": "[encoded data removed]",
      "text/plain": [
       "<Figure size 432x288 with 1 Axes>"
      ]
     },
     "metadata": {
      "needs_background": "light"
     },
     "output_type": "display_data"
    }
   ],
   "source": [
    "data.query('tariff == \"ultra\"').loc[:,'messages'].hist(bins=range(data['messages'].min(), data['messages'].max(), 10))"
   ]
  },
  {
   "cell_type": "markdown",
   "metadata": {},
   "source": [
    "#### Посмотрим распределение количества пользователей тарифа \"Ультра\" по потраченным мегабайтам в месяц."
   ]
  },
  {
   "cell_type": "code",
   "execution_count": 30,
   "metadata": {},
   "outputs": [
    {
     "data": {
      "text/plain": [
       "<matplotlib.axes._subplots.AxesSubplot at 0x7f036b3e1978>"
      ]
     },
     "execution_count": 30,
     "metadata": {},
     "output_type": "execute_result"
    },
    {
     "data": {
      "image/png": "[encoded data removed]",
      "text/plain": [
       "<Figure size 432x288 with 1 Axes>"
      ]
     },
     "metadata": {
      "needs_background": "light"
     },
     "output_type": "display_data"
    }
   ],
   "source": [
    "data.query('tariff == \"ultra\"').loc[:,'mb_used'].hist(bins=range(data['mb_used'].min(), data['mb_used'].max(), 2500))"
   ]
  },
  {
   "cell_type": "code",
   "execution_count": 31,
   "metadata": {},
   "outputs": [
    {
     "data": {
      "text/plain": [
       "0.8624229979466119"
      ]
     },
     "execution_count": 31,
     "metadata": {},
     "output_type": "execute_result"
    }
   ],
   "source": [
    "data.query('tariff == \"ultra\" and mb_used <= 30720').shape[0]/data.query('tariff == \"ultra\"').shape[0]"
   ]
  },
  {
   "cell_type": "markdown",
   "metadata": {},
   "source": [
    "### Пользователи тарифа Smart"
   ]
  },
  {
   "cell_type": "code",
   "execution_count": 32,
   "metadata": {},
   "outputs": [
    {
     "data": {
      "text/plain": [
       "<matplotlib.axes._subplots.AxesSubplot at 0x7f036b3788d0>"
      ]
     },
     "execution_count": 32,
     "metadata": {},
     "output_type": "execute_result"
    },
    {
     "data": {
      "image/png": "[encoded data removed]",
      "text/plain": [
       "<Figure size 432x288 with 1 Axes>"
      ]
     },
     "metadata": {
      "needs_background": "light"
     },
     "output_type": "display_data"
    }
   ],
   "source": [
    "data.query('tariff == \"smart\"').loc[:,'duration'].hist(bins=range(data['duration'].min(), data['duration'].max(), 100))"
   ]
  },
  {
   "cell_type": "code",
   "execution_count": 34,
   "metadata": {},
   "outputs": [
    {
     "data": {
      "text/plain": [
       "0.7211495285136955"
      ]
     },
     "execution_count": 34,
     "metadata": {},
     "output_type": "execute_result"
    }
   ],
   "source": [
    "data.query('tariff == \"smart\" and duration <= 500').shape[0]/data.query('tariff == \"smart\"').shape[0]"
   ]
  },
  {
   "cell_type": "code",
   "execution_count": 35,
   "metadata": {},
   "outputs": [
    {
     "data": {
      "text/plain": [
       "<matplotlib.axes._subplots.AxesSubplot at 0x7f036b2de5f8>"
      ]
     },
     "execution_count": 35,
     "metadata": {},
     "output_type": "execute_result"
    },
    {
     "data": {
      "image/png": "[encoded data removed]",
      "text/plain": [
       "<Figure size 432x288 with 1 Axes>"
      ]
     },
     "metadata": {
      "needs_background": "light"
     },
     "output_type": "display_data"
    }
   ],
   "source": [
    "data.query('tariff == \"smart\"').loc[:,'messages'].hist(bins=range(data['messages'].min(), data['messages'].max(), 10))"
   ]
  },
  {
   "cell_type": "code",
   "execution_count": 36,
   "metadata": {},
   "outputs": [
    {
     "data": {
      "text/plain": [
       "0.7467444993264482"
      ]
     },
     "execution_count": 36,
     "metadata": {},
     "output_type": "execute_result"
    }
   ],
   "source": [
    "data.query('tariff == \"smart\" and messages <= 50').shape[0]/data.query('tariff == \"smart\"').shape[0]"
   ]
  },
  {
   "cell_type": "markdown",
   "metadata": {},
   "source": [
    "#### Посмотрим распределение количества пользователей тарифа \"Смарт\" по количеству потраченных мб в месяц."
   ]
  },
  {
   "cell_type": "code",
   "execution_count": 37,
   "metadata": {},
   "outputs": [
    {
     "data": {
      "text/plain": [
       "<matplotlib.axes._subplots.AxesSubplot at 0x7f036b3c77f0>"
      ]
     },
     "execution_count": 37,
     "metadata": {},
     "output_type": "execute_result"
    },
    {
     "data": {
      "image/png": "[encoded data removed]",
      "text/plain": [
       "<Figure size 432x288 with 1 Axes>"
      ]
     },
     "metadata": {
      "needs_background": "light"
     },
     "output_type": "display_data"
    }
   ],
   "source": [
    "data.query('tariff == \"smart\"').loc[:,'mb_used'].hist(bins=range(data['mb_used'].min(), data['mb_used'].max(), 2500))"
   ]
  },
  {
   "cell_type": "code",
   "execution_count": 38,
   "metadata": {},
   "outputs": [
    {
     "data": {
      "text/plain": [
       "0.4144589133363269"
      ]
     },
     "execution_count": 38,
     "metadata": {},
     "output_type": "execute_result"
    }
   ],
   "source": [
    "data.query('tariff == \"smart\" and mb_used <= 15360').shape[0]/data.query('tariff == \"smart\"').shape[0]"
   ]
  },
  {
   "cell_type": "markdown",
   "metadata": {},
   "source": [
    "### Пользователи тарифа \"Ультра\"\n",
    "<ol type= «1″>\n",
    "<li>Не договаривают до максимума минут в своем тарифе</li>\n",
    "<li>Не расходуют все свои сообщения</li>\n",
    "<li>Большинсто пользователей использует <b>меньше</b> максимума МБ включенных в тариф, примерно <b>87%</b></li>\n",
    "</ol>"
   ]
  },
  {
   "cell_type": "markdown",
   "metadata": {},
   "source": [
    "### Пользователи тарифа \"Смарт\"\n",
    "<ol type= «1″>\n",
    "<li>Большинство пользователей договариют до максимума минут <b>72%</b>, только <b>28%</b> говорит больше</li>\n",
    "<li>Большинство расходуют все свои сообщения, около <b>74%</b></li>\n",
    "<li>Примерно <b>40%</b> пользователей использует максимуму МБ включенных в тариф, остальные больше максимума</li>\n",
    "</ol>"
   ]
  },
  {
   "cell_type": "markdown",
   "metadata": {},
   "source": [
    "<b>Посчитаем среднее количество, дисперсию и стандартное отклонение минут разговоров, сообщений и объема интернет трафика для пользователей каждого тарифа в месяц.</b>"
   ]
  },
  {
   "cell_type": "markdown",
   "metadata": {},
   "source": [
    "## Посмотрим метрики пользователей тарифа \"Ультра\" по минутам разговоров в месяц."
   ]
  },
  {
   "cell_type": "code",
   "execution_count": 39,
   "metadata": {},
   "outputs": [
    {
     "data": {
      "text/html": [
       "<div>\n",
       "<style scoped>\n",
       "    .dataframe tbody tr th:only-of-type {\n",
       "        vertical-align: middle;\n",
       "    }\n",
       "\n",
       "    .dataframe tbody tr th {\n",
       "        vertical-align: top;\n",
       "    }\n",
       "\n",
       "    .dataframe thead th {\n",
       "        text-align: right;\n",
       "    }\n",
       "</style>\n",
       "<table border=\"1\" class=\"dataframe\">\n",
       "  <thead>\n",
       "    <tr style=\"text-align: right;\">\n",
       "      <th></th>\n",
       "      <th>user_id</th>\n",
       "      <th>month</th>\n",
       "      <th>mb_used</th>\n",
       "      <th>duration</th>\n",
       "      <th>users_month_calls</th>\n",
       "      <th>messages</th>\n",
       "      <th>tariff</th>\n",
       "      <th>city</th>\n",
       "      <th>revenu</th>\n",
       "    </tr>\n",
       "  </thead>\n",
       "  <tbody>\n",
       "    <tr>\n",
       "      <th>0</th>\n",
       "      <td>1000</td>\n",
       "      <td>5</td>\n",
       "      <td>2253</td>\n",
       "      <td>150</td>\n",
       "      <td>17.0</td>\n",
       "      <td>22</td>\n",
       "      <td>ultra</td>\n",
       "      <td>Краснодар</td>\n",
       "      <td>1950</td>\n",
       "    </tr>\n",
       "    <tr>\n",
       "      <th>1</th>\n",
       "      <td>1000</td>\n",
       "      <td>6</td>\n",
       "      <td>23233</td>\n",
       "      <td>158</td>\n",
       "      <td>28.0</td>\n",
       "      <td>60</td>\n",
       "      <td>ultra</td>\n",
       "      <td>Краснодар</td>\n",
       "      <td>1950</td>\n",
       "    </tr>\n",
       "    <tr>\n",
       "      <th>2</th>\n",
       "      <td>1000</td>\n",
       "      <td>7</td>\n",
       "      <td>14003</td>\n",
       "      <td>318</td>\n",
       "      <td>41.0</td>\n",
       "      <td>75</td>\n",
       "      <td>ultra</td>\n",
       "      <td>Краснодар</td>\n",
       "      <td>1950</td>\n",
       "    </tr>\n",
       "    <tr>\n",
       "      <th>3</th>\n",
       "      <td>1000</td>\n",
       "      <td>8</td>\n",
       "      <td>14055</td>\n",
       "      <td>389</td>\n",
       "      <td>42.0</td>\n",
       "      <td>81</td>\n",
       "      <td>ultra</td>\n",
       "      <td>Краснодар</td>\n",
       "      <td>1950</td>\n",
       "    </tr>\n",
       "    <tr>\n",
       "      <th>4</th>\n",
       "      <td>1000</td>\n",
       "      <td>9</td>\n",
       "      <td>14568</td>\n",
       "      <td>440</td>\n",
       "      <td>46.0</td>\n",
       "      <td>57</td>\n",
       "      <td>ultra</td>\n",
       "      <td>Краснодар</td>\n",
       "      <td>1950</td>\n",
       "    </tr>\n",
       "  </tbody>\n",
       "</table>\n",
       "</div>"
      ],
      "text/plain": [
       "   user_id  month  mb_used  duration  users_month_calls  messages tariff  \\\n",
       "0     1000      5     2253       150               17.0        22  ultra   \n",
       "1     1000      6    23233       158               28.0        60  ultra   \n",
       "2     1000      7    14003       318               41.0        75  ultra   \n",
       "3     1000      8    14055       389               42.0        81  ultra   \n",
       "4     1000      9    14568       440               46.0        57  ultra   \n",
       "\n",
       "        city  revenu  \n",
       "0  Краснодар    1950  \n",
       "1  Краснодар    1950  \n",
       "2  Краснодар    1950  \n",
       "3  Краснодар    1950  \n",
       "4  Краснодар    1950  "
      ]
     },
     "execution_count": 39,
     "metadata": {},
     "output_type": "execute_result"
    }
   ],
   "source": [
    "data.head()"
   ]
  },
  {
   "cell_type": "code",
   "execution_count": 40,
   "metadata": {},
   "outputs": [
    {
     "data": {
      "text/html": [
       "<div>\n",
       "<style scoped>\n",
       "    .dataframe tbody tr th:only-of-type {\n",
       "        vertical-align: middle;\n",
       "    }\n",
       "\n",
       "    .dataframe tbody tr th {\n",
       "        vertical-align: top;\n",
       "    }\n",
       "\n",
       "    .dataframe thead th {\n",
       "        text-align: right;\n",
       "    }\n",
       "</style>\n",
       "<table border=\"1\" class=\"dataframe\">\n",
       "  <thead>\n",
       "    <tr style=\"text-align: right;\">\n",
       "      <th></th>\n",
       "      <th>mean</th>\n",
       "      <th>median</th>\n",
       "      <th>deviation</th>\n",
       "    </tr>\n",
       "    <tr>\n",
       "      <th>month</th>\n",
       "      <th></th>\n",
       "      <th></th>\n",
       "      <th></th>\n",
       "    </tr>\n",
       "  </thead>\n",
       "  <tbody>\n",
       "    <tr>\n",
       "      <th>1</th>\n",
       "      <td>404.333333</td>\n",
       "      <td>359.0</td>\n",
       "      <td>254.725833</td>\n",
       "    </tr>\n",
       "    <tr>\n",
       "      <th>2</th>\n",
       "      <td>297.545455</td>\n",
       "      <td>156.5</td>\n",
       "      <td>286.588925</td>\n",
       "    </tr>\n",
       "    <tr>\n",
       "      <th>3</th>\n",
       "      <td>461.972973</td>\n",
       "      <td>380.0</td>\n",
       "      <td>315.652894</td>\n",
       "    </tr>\n",
       "    <tr>\n",
       "      <th>4</th>\n",
       "      <td>431.400000</td>\n",
       "      <td>427.0</td>\n",
       "      <td>253.022148</td>\n",
       "    </tr>\n",
       "    <tr>\n",
       "      <th>5</th>\n",
       "      <td>491.307692</td>\n",
       "      <td>492.0</td>\n",
       "      <td>271.157584</td>\n",
       "    </tr>\n",
       "    <tr>\n",
       "      <th>6</th>\n",
       "      <td>455.361446</td>\n",
       "      <td>451.0</td>\n",
       "      <td>286.963607</td>\n",
       "    </tr>\n",
       "    <tr>\n",
       "      <th>7</th>\n",
       "      <td>517.833333</td>\n",
       "      <td>523.5</td>\n",
       "      <td>290.181936</td>\n",
       "    </tr>\n",
       "    <tr>\n",
       "      <th>8</th>\n",
       "      <td>483.830189</td>\n",
       "      <td>474.0</td>\n",
       "      <td>295.634378</td>\n",
       "    </tr>\n",
       "    <tr>\n",
       "      <th>9</th>\n",
       "      <td>511.263158</td>\n",
       "      <td>494.0</td>\n",
       "      <td>306.728269</td>\n",
       "    </tr>\n",
       "    <tr>\n",
       "      <th>10</th>\n",
       "      <td>528.254098</td>\n",
       "      <td>503.0</td>\n",
       "      <td>308.515040</td>\n",
       "    </tr>\n",
       "    <tr>\n",
       "      <th>11</th>\n",
       "      <td>512.308271</td>\n",
       "      <td>515.0</td>\n",
       "      <td>293.747912</td>\n",
       "    </tr>\n",
       "    <tr>\n",
       "      <th>12</th>\n",
       "      <td>561.420290</td>\n",
       "      <td>550.5</td>\n",
       "      <td>322.957406</td>\n",
       "    </tr>\n",
       "  </tbody>\n",
       "</table>\n",
       "</div>"
      ],
      "text/plain": [
       "             mean  median   deviation\n",
       "month                                \n",
       "1      404.333333   359.0  254.725833\n",
       "2      297.545455   156.5  286.588925\n",
       "3      461.972973   380.0  315.652894\n",
       "4      431.400000   427.0  253.022148\n",
       "5      491.307692   492.0  271.157584\n",
       "6      455.361446   451.0  286.963607\n",
       "7      517.833333   523.5  290.181936\n",
       "8      483.830189   474.0  295.634378\n",
       "9      511.263158   494.0  306.728269\n",
       "10     528.254098   503.0  308.515040\n",
       "11     512.308271   515.0  293.747912\n",
       "12     561.420290   550.5  322.957406"
      ]
     },
     "execution_count": 40,
     "metadata": {},
     "output_type": "execute_result"
    }
   ],
   "source": [
    "mean_ultra = data.query('tariff == \"ultra\"').pivot_table(index='month', values='duration', aggfunc='mean')\n",
    "mean_ultra.rename(columns={'duration': 'mean'}, inplace=True)\n",
    "\n",
    "median_ultra = data.query('tariff == \"ultra\"').pivot_table(index='month', values='duration', aggfunc='median')\n",
    "median_ultra.rename(columns={'duration': 'median'}, inplace=True)\n",
    "mean_ultra = mean_ultra.merge(median_ultra, on='month', how='left')\n",
    "\n",
    "\n",
    "devation_ultra = data.query('tariff == \"ultra\"').pivot_table(index='month', values='duration', aggfunc=np.std)\n",
    "devation_ultra.rename(columns={'duration': 'deviation'}, inplace=True)\n",
    "ultra = mean_ultra.merge(devation_ultra, on='month', how='left')\n",
    "\n",
    "ultra"
   ]
  },
  {
   "cell_type": "code",
   "execution_count": 40,
   "metadata": {},
   "outputs": [
    {
     "data": {
      "text/plain": [
       "<matplotlib.axes._subplots.AxesSubplot at 0x7fc07a198f28>"
      ]
     },
     "execution_count": 40,
     "metadata": {},
     "output_type": "execute_result"
    },
    {
     "data": {
      "image/png": "[encoded data removed]",
      "text/plain": [
       "<Figure size 720x360 with 1 Axes>"
      ]
     },
     "metadata": {
      "needs_background": "light"
     },
     "output_type": "display_data"
    }
   ],
   "source": [
    "ultra.plot(grid=True,figsize=(10,5))"
   ]
  },
  {
   "cell_type": "markdown",
   "metadata": {},
   "source": [
    "## Вывод.\n",
    "<b>По графику видно, что среднее и медана за год выросли и имеют тенденцию к росту дальше.</b>"
   ]
  },
  {
   "cell_type": "markdown",
   "metadata": {},
   "source": [
    "## Посмотрим метрики пользователей тарифа \"Ультра\" по сообщениям в месяц.\n"
   ]
  },
  {
   "cell_type": "code",
   "execution_count": 41,
   "metadata": {},
   "outputs": [
    {
     "data": {
      "text/html": [
       "<div>\n",
       "<style scoped>\n",
       "    .dataframe tbody tr th:only-of-type {\n",
       "        vertical-align: middle;\n",
       "    }\n",
       "\n",
       "    .dataframe tbody tr th {\n",
       "        vertical-align: top;\n",
       "    }\n",
       "\n",
       "    .dataframe thead th {\n",
       "        text-align: right;\n",
       "    }\n",
       "</style>\n",
       "<table border=\"1\" class=\"dataframe\">\n",
       "  <thead>\n",
       "    <tr style=\"text-align: right;\">\n",
       "      <th></th>\n",
       "      <th>mean</th>\n",
       "      <th>median</th>\n",
       "      <th>deviation</th>\n",
       "    </tr>\n",
       "    <tr>\n",
       "      <th>month</th>\n",
       "      <th></th>\n",
       "      <th></th>\n",
       "      <th></th>\n",
       "    </tr>\n",
       "  </thead>\n",
       "  <tbody>\n",
       "    <tr>\n",
       "      <th>1</th>\n",
       "      <td>33.777778</td>\n",
       "      <td>32.0</td>\n",
       "      <td>30.670742</td>\n",
       "    </tr>\n",
       "    <tr>\n",
       "      <th>2</th>\n",
       "      <td>23.727273</td>\n",
       "      <td>11.0</td>\n",
       "      <td>27.308087</td>\n",
       "    </tr>\n",
       "    <tr>\n",
       "      <th>3</th>\n",
       "      <td>32.297297</td>\n",
       "      <td>20.0</td>\n",
       "      <td>41.621886</td>\n",
       "    </tr>\n",
       "    <tr>\n",
       "      <th>4</th>\n",
       "      <td>31.563636</td>\n",
       "      <td>17.0</td>\n",
       "      <td>37.513831</td>\n",
       "    </tr>\n",
       "    <tr>\n",
       "      <th>5</th>\n",
       "      <td>38.646154</td>\n",
       "      <td>26.0</td>\n",
       "      <td>40.636895</td>\n",
       "    </tr>\n",
       "    <tr>\n",
       "      <th>6</th>\n",
       "      <td>41.771084</td>\n",
       "      <td>27.0</td>\n",
       "      <td>44.836920</td>\n",
       "    </tr>\n",
       "    <tr>\n",
       "      <th>7</th>\n",
       "      <td>49.988889</td>\n",
       "      <td>39.0</td>\n",
       "      <td>48.957329</td>\n",
       "    </tr>\n",
       "    <tr>\n",
       "      <th>8</th>\n",
       "      <td>48.509434</td>\n",
       "      <td>38.5</td>\n",
       "      <td>46.817629</td>\n",
       "    </tr>\n",
       "    <tr>\n",
       "      <th>9</th>\n",
       "      <td>52.464912</td>\n",
       "      <td>44.5</td>\n",
       "      <td>46.564292</td>\n",
       "    </tr>\n",
       "    <tr>\n",
       "      <th>10</th>\n",
       "      <td>58.622951</td>\n",
       "      <td>50.0</td>\n",
       "      <td>52.104683</td>\n",
       "    </tr>\n",
       "    <tr>\n",
       "      <th>11</th>\n",
       "      <td>55.992481</td>\n",
       "      <td>43.0</td>\n",
       "      <td>49.902252</td>\n",
       "    </tr>\n",
       "    <tr>\n",
       "      <th>12</th>\n",
       "      <td>60.768116</td>\n",
       "      <td>51.5</td>\n",
       "      <td>51.943441</td>\n",
       "    </tr>\n",
       "  </tbody>\n",
       "</table>\n",
       "</div>"
      ],
      "text/plain": [
       "            mean  median  deviation\n",
       "month                              \n",
       "1      33.777778    32.0  30.670742\n",
       "2      23.727273    11.0  27.308087\n",
       "3      32.297297    20.0  41.621886\n",
       "4      31.563636    17.0  37.513831\n",
       "5      38.646154    26.0  40.636895\n",
       "6      41.771084    27.0  44.836920\n",
       "7      49.988889    39.0  48.957329\n",
       "8      48.509434    38.5  46.817629\n",
       "9      52.464912    44.5  46.564292\n",
       "10     58.622951    50.0  52.104683\n",
       "11     55.992481    43.0  49.902252\n",
       "12     60.768116    51.5  51.943441"
      ]
     },
     "execution_count": 41,
     "metadata": {},
     "output_type": "execute_result"
    }
   ],
   "source": [
    "mean_ultra = data.query('tariff == \"ultra\"').pivot_table(index='month', values='messages', aggfunc='mean')\n",
    "mean_ultra.rename(columns={'messages': 'mean'}, inplace=True)\n",
    "\n",
    "median_ultra = data.query('tariff == \"ultra\"').pivot_table(index='month', values='messages', aggfunc='median')\n",
    "median_ultra.rename(columns={'messages': 'median'}, inplace=True)\n",
    "mean_ultra = mean_ultra.merge(median_ultra, on='month', how='left')\n",
    "\n",
    "\n",
    "devation_ultra = data.query('tariff == \"ultra\"').pivot_table(index='month', values='messages', aggfunc=np.std)\n",
    "devation_ultra.rename(columns={'messages': 'deviation'}, inplace=True)\n",
    "ultra = mean_ultra.merge(devation_ultra, on='month', how='left')\n",
    "\n",
    "ultra"
   ]
  },
  {
   "cell_type": "code",
   "execution_count": 42,
   "metadata": {},
   "outputs": [
    {
     "data": {
      "text/plain": [
       "<matplotlib.axes._subplots.AxesSubplot at 0x7f036b1fda58>"
      ]
     },
     "execution_count": 42,
     "metadata": {},
     "output_type": "execute_result"
    },
    {
     "data": {
      "image/png": "[encoded data removed]",
      "text/plain": [
       "<Figure size 720x360 with 1 Axes>"
      ]
     },
     "metadata": {
      "needs_background": "light"
     },
     "output_type": "display_data"
    }
   ],
   "source": [
    "ultra.plot(grid=True,figsize=(10,5))"
   ]
  },
  {
   "cell_type": "markdown",
   "metadata": {},
   "source": [
    "## Вывод.\n",
    "<b>По графику видно, что среднее и медана за год выросли и имеют тенденцию к росту дальше.</b>"
   ]
  },
  {
   "cell_type": "markdown",
   "metadata": {},
   "source": [
    "## Посмотрим метрики пользователей тарифа \"Ультра\" по интернет траффику в месяц."
   ]
  },
  {
   "cell_type": "code",
   "execution_count": 43,
   "metadata": {},
   "outputs": [
    {
     "data": {
      "text/html": [
       "<div>\n",
       "<style scoped>\n",
       "    .dataframe tbody tr th:only-of-type {\n",
       "        vertical-align: middle;\n",
       "    }\n",
       "\n",
       "    .dataframe tbody tr th {\n",
       "        vertical-align: top;\n",
       "    }\n",
       "\n",
       "    .dataframe thead th {\n",
       "        text-align: right;\n",
       "    }\n",
       "</style>\n",
       "<table border=\"1\" class=\"dataframe\">\n",
       "  <thead>\n",
       "    <tr style=\"text-align: right;\">\n",
       "      <th></th>\n",
       "      <th>mean</th>\n",
       "      <th>median</th>\n",
       "      <th>deviation</th>\n",
       "    </tr>\n",
       "    <tr>\n",
       "      <th>month</th>\n",
       "      <th></th>\n",
       "      <th></th>\n",
       "      <th></th>\n",
       "    </tr>\n",
       "  </thead>\n",
       "  <tbody>\n",
       "    <tr>\n",
       "      <th>1</th>\n",
       "      <td>13140.333333</td>\n",
       "      <td>14791.0</td>\n",
       "      <td>6865.558699</td>\n",
       "    </tr>\n",
       "    <tr>\n",
       "      <th>2</th>\n",
       "      <td>12845.909091</td>\n",
       "      <td>9654.5</td>\n",
       "      <td>10473.549423</td>\n",
       "    </tr>\n",
       "    <tr>\n",
       "      <th>3</th>\n",
       "      <td>17535.081081</td>\n",
       "      <td>17495.0</td>\n",
       "      <td>10951.862029</td>\n",
       "    </tr>\n",
       "    <tr>\n",
       "      <th>4</th>\n",
       "      <td>16827.636364</td>\n",
       "      <td>16645.0</td>\n",
       "      <td>9718.694942</td>\n",
       "    </tr>\n",
       "    <tr>\n",
       "      <th>5</th>\n",
       "      <td>19958.492308</td>\n",
       "      <td>19131.0</td>\n",
       "      <td>9591.693552</td>\n",
       "    </tr>\n",
       "    <tr>\n",
       "      <th>6</th>\n",
       "      <td>19152.433735</td>\n",
       "      <td>19660.0</td>\n",
       "      <td>9109.858636</td>\n",
       "    </tr>\n",
       "    <tr>\n",
       "      <th>7</th>\n",
       "      <td>20722.888889</td>\n",
       "      <td>20016.0</td>\n",
       "      <td>9883.012348</td>\n",
       "    </tr>\n",
       "    <tr>\n",
       "      <th>8</th>\n",
       "      <td>19760.254717</td>\n",
       "      <td>19010.0</td>\n",
       "      <td>10349.871448</td>\n",
       "    </tr>\n",
       "    <tr>\n",
       "      <th>9</th>\n",
       "      <td>19372.245614</td>\n",
       "      <td>19951.0</td>\n",
       "      <td>9353.625148</td>\n",
       "    </tr>\n",
       "    <tr>\n",
       "      <th>10</th>\n",
       "      <td>20209.163934</td>\n",
       "      <td>20355.0</td>\n",
       "      <td>9671.954906</td>\n",
       "    </tr>\n",
       "    <tr>\n",
       "      <th>11</th>\n",
       "      <td>19935.090226</td>\n",
       "      <td>18512.0</td>\n",
       "      <td>9793.590646</td>\n",
       "    </tr>\n",
       "    <tr>\n",
       "      <th>12</th>\n",
       "      <td>21950.615942</td>\n",
       "      <td>21997.0</td>\n",
       "      <td>10247.246942</td>\n",
       "    </tr>\n",
       "  </tbody>\n",
       "</table>\n",
       "</div>"
      ],
      "text/plain": [
       "               mean   median     deviation\n",
       "month                                     \n",
       "1      13140.333333  14791.0   6865.558699\n",
       "2      12845.909091   9654.5  10473.549423\n",
       "3      17535.081081  17495.0  10951.862029\n",
       "4      16827.636364  16645.0   9718.694942\n",
       "5      19958.492308  19131.0   9591.693552\n",
       "6      19152.433735  19660.0   9109.858636\n",
       "7      20722.888889  20016.0   9883.012348\n",
       "8      19760.254717  19010.0  10349.871448\n",
       "9      19372.245614  19951.0   9353.625148\n",
       "10     20209.163934  20355.0   9671.954906\n",
       "11     19935.090226  18512.0   9793.590646\n",
       "12     21950.615942  21997.0  10247.246942"
      ]
     },
     "execution_count": 43,
     "metadata": {},
     "output_type": "execute_result"
    }
   ],
   "source": [
    "mean_ultra = data.query('tariff == \"ultra\"').pivot_table(index='month', values='mb_used', aggfunc='mean')\n",
    "mean_ultra.rename(columns={'mb_used': 'mean'}, inplace=True)\n",
    "\n",
    "median_ultra = data.query('tariff == \"ultra\"').pivot_table(index='month', values='mb_used', aggfunc='median')\n",
    "median_ultra.rename(columns={'mb_used': 'median'}, inplace=True)\n",
    "mean_ultra = mean_ultra.merge(median_ultra, on='month', how='left')\n",
    "\n",
    "\n",
    "devation_ultra = data.query('tariff == \"ultra\"').pivot_table(index='month', values='mb_used', aggfunc=np.std)\n",
    "devation_ultra.rename(columns={'mb_used': 'deviation'}, inplace=True)\n",
    "ultra = mean_ultra.merge(devation_ultra, on='month', how='left')\n",
    "\n",
    "ultra"
   ]
  },
  {
   "cell_type": "code",
   "execution_count": 44,
   "metadata": {},
   "outputs": [
    {
     "data": {
      "text/plain": [
       "<matplotlib.axes._subplots.AxesSubplot at 0x7f036b1457b8>"
      ]
     },
     "execution_count": 44,
     "metadata": {},
     "output_type": "execute_result"
    },
    {
     "data": {
      "image/png": "[encoded data removed]",
      "text/plain": [
       "<Figure size 720x360 with 1 Axes>"
      ]
     },
     "metadata": {
      "needs_background": "light"
     },
     "output_type": "display_data"
    }
   ],
   "source": [
    "ultra.plot(grid=True,figsize=(10,5))"
   ]
  },
  {
   "cell_type": "markdown",
   "metadata": {},
   "source": [
    "## Вывод.\n",
    "<b>По графику видно, что среднее и медана за год выросли и имеют тенденцию к росту дальше.</b>"
   ]
  },
  {
   "cell_type": "markdown",
   "metadata": {},
   "source": [
    "## Посмотрим метрики пользователей тарифа \"Смарт\" по минутам разговоров в месяц."
   ]
  },
  {
   "cell_type": "code",
   "execution_count": 45,
   "metadata": {},
   "outputs": [
    {
     "data": {
      "text/html": [
       "<div>\n",
       "<style scoped>\n",
       "    .dataframe tbody tr th:only-of-type {\n",
       "        vertical-align: middle;\n",
       "    }\n",
       "\n",
       "    .dataframe tbody tr th {\n",
       "        vertical-align: top;\n",
       "    }\n",
       "\n",
       "    .dataframe thead th {\n",
       "        text-align: right;\n",
       "    }\n",
       "</style>\n",
       "<table border=\"1\" class=\"dataframe\">\n",
       "  <thead>\n",
       "    <tr style=\"text-align: right;\">\n",
       "      <th></th>\n",
       "      <th>mean</th>\n",
       "      <th>median</th>\n",
       "      <th>deviation</th>\n",
       "    </tr>\n",
       "    <tr>\n",
       "      <th>month</th>\n",
       "      <th></th>\n",
       "      <th></th>\n",
       "      <th></th>\n",
       "    </tr>\n",
       "  </thead>\n",
       "  <tbody>\n",
       "    <tr>\n",
       "      <th>1</th>\n",
       "      <td>192.558824</td>\n",
       "      <td>156.0</td>\n",
       "      <td>146.278728</td>\n",
       "    </tr>\n",
       "    <tr>\n",
       "      <th>2</th>\n",
       "      <td>282.413793</td>\n",
       "      <td>242.5</td>\n",
       "      <td>180.973783</td>\n",
       "    </tr>\n",
       "    <tr>\n",
       "      <th>3</th>\n",
       "      <td>367.350649</td>\n",
       "      <td>386.0</td>\n",
       "      <td>181.531769</td>\n",
       "    </tr>\n",
       "    <tr>\n",
       "      <th>4</th>\n",
       "      <td>345.776786</td>\n",
       "      <td>349.0</td>\n",
       "      <td>176.117421</td>\n",
       "    </tr>\n",
       "    <tr>\n",
       "      <th>5</th>\n",
       "      <td>364.709220</td>\n",
       "      <td>407.0</td>\n",
       "      <td>176.560210</td>\n",
       "    </tr>\n",
       "    <tr>\n",
       "      <th>6</th>\n",
       "      <td>372.689024</td>\n",
       "      <td>378.0</td>\n",
       "      <td>165.670846</td>\n",
       "    </tr>\n",
       "    <tr>\n",
       "      <th>7</th>\n",
       "      <td>385.004975</td>\n",
       "      <td>388.0</td>\n",
       "      <td>169.742879</td>\n",
       "    </tr>\n",
       "    <tr>\n",
       "      <th>8</th>\n",
       "      <td>398.876068</td>\n",
       "      <td>408.5</td>\n",
       "      <td>175.331365</td>\n",
       "    </tr>\n",
       "    <tr>\n",
       "      <th>9</th>\n",
       "      <td>404.019231</td>\n",
       "      <td>409.5</td>\n",
       "      <td>173.281467</td>\n",
       "    </tr>\n",
       "    <tr>\n",
       "      <th>10</th>\n",
       "      <td>403.006826</td>\n",
       "      <td>404.0</td>\n",
       "      <td>177.019463</td>\n",
       "    </tr>\n",
       "    <tr>\n",
       "      <th>11</th>\n",
       "      <td>410.104430</td>\n",
       "      <td>403.5</td>\n",
       "      <td>168.098210</td>\n",
       "    </tr>\n",
       "    <tr>\n",
       "      <th>12</th>\n",
       "      <td>451.204748</td>\n",
       "      <td>445.0</td>\n",
       "      <td>188.478643</td>\n",
       "    </tr>\n",
       "  </tbody>\n",
       "</table>\n",
       "</div>"
      ],
      "text/plain": [
       "             mean  median   deviation\n",
       "month                                \n",
       "1      192.558824   156.0  146.278728\n",
       "2      282.413793   242.5  180.973783\n",
       "3      367.350649   386.0  181.531769\n",
       "4      345.776786   349.0  176.117421\n",
       "5      364.709220   407.0  176.560210\n",
       "6      372.689024   378.0  165.670846\n",
       "7      385.004975   388.0  169.742879\n",
       "8      398.876068   408.5  175.331365\n",
       "9      404.019231   409.5  173.281467\n",
       "10     403.006826   404.0  177.019463\n",
       "11     410.104430   403.5  168.098210\n",
       "12     451.204748   445.0  188.478643"
      ]
     },
     "execution_count": 45,
     "metadata": {},
     "output_type": "execute_result"
    }
   ],
   "source": [
    "mean_smart = data.query('tariff == \"smart\"').pivot_table(index='month', values='duration', aggfunc='mean')\n",
    "mean_smart.rename(columns={'duration': 'mean'}, inplace=True)\n",
    "\n",
    "median_smart = data.query('tariff == \"smart\"').pivot_table(index='month', values='duration', aggfunc='median')\n",
    "median_smart.rename(columns={'duration': 'median'}, inplace=True)\n",
    "mean_smart = mean_smart.merge(median_smart, on='month', how='left')\n",
    "\n",
    "\n",
    "devation_smart = data.query('tariff == \"smart\"').pivot_table(index='month', values='duration', aggfunc=np.std)\n",
    "devation_smart.rename(columns={'duration': 'deviation'}, inplace=True)\n",
    "smart = mean_smart.merge(devation_smart, on='month', how='left')\n",
    "\n",
    "smart"
   ]
  },
  {
   "cell_type": "code",
   "execution_count": 46,
   "metadata": {},
   "outputs": [
    {
     "data": {
      "text/plain": [
       "<matplotlib.axes._subplots.AxesSubplot at 0x7f036b0c7390>"
      ]
     },
     "execution_count": 46,
     "metadata": {},
     "output_type": "execute_result"
    },
    {
     "data": {
      "image/png": "[encoded data removed]",
      "text/plain": [
       "<Figure size 720x360 with 1 Axes>"
      ]
     },
     "metadata": {
      "needs_background": "light"
     },
     "output_type": "display_data"
    }
   ],
   "source": [
    "smart.plot(grid=True,figsize=(10,5))"
   ]
  },
  {
   "cell_type": "markdown",
   "metadata": {},
   "source": [
    "## Вывод.\n",
    "<b>По графику видно, что среднее и медана за год выросли и имеют тенденцию к росту дальше.</b>"
   ]
  },
  {
   "cell_type": "markdown",
   "metadata": {},
   "source": [
    "## Посмотрим метрики пользователей тарифа \"Смарт\" по сообщениям в месяц."
   ]
  },
  {
   "cell_type": "code",
   "execution_count": 47,
   "metadata": {},
   "outputs": [
    {
     "data": {
      "text/html": [
       "<div>\n",
       "<style scoped>\n",
       "    .dataframe tbody tr th:only-of-type {\n",
       "        vertical-align: middle;\n",
       "    }\n",
       "\n",
       "    .dataframe tbody tr th {\n",
       "        vertical-align: top;\n",
       "    }\n",
       "\n",
       "    .dataframe thead th {\n",
       "        text-align: right;\n",
       "    }\n",
       "</style>\n",
       "<table border=\"1\" class=\"dataframe\">\n",
       "  <thead>\n",
       "    <tr style=\"text-align: right;\">\n",
       "      <th></th>\n",
       "      <th>mean</th>\n",
       "      <th>median</th>\n",
       "      <th>deviation</th>\n",
       "    </tr>\n",
       "    <tr>\n",
       "      <th>month</th>\n",
       "      <th></th>\n",
       "      <th></th>\n",
       "      <th></th>\n",
       "    </tr>\n",
       "  </thead>\n",
       "  <tbody>\n",
       "    <tr>\n",
       "      <th>1</th>\n",
       "      <td>18.235294</td>\n",
       "      <td>15.0</td>\n",
       "      <td>16.197753</td>\n",
       "    </tr>\n",
       "    <tr>\n",
       "      <th>2</th>\n",
       "      <td>24.086207</td>\n",
       "      <td>20.0</td>\n",
       "      <td>21.750809</td>\n",
       "    </tr>\n",
       "    <tr>\n",
       "      <th>3</th>\n",
       "      <td>31.857143</td>\n",
       "      <td>23.0</td>\n",
       "      <td>26.804710</td>\n",
       "    </tr>\n",
       "    <tr>\n",
       "      <th>4</th>\n",
       "      <td>30.741071</td>\n",
       "      <td>28.0</td>\n",
       "      <td>24.538532</td>\n",
       "    </tr>\n",
       "    <tr>\n",
       "      <th>5</th>\n",
       "      <td>33.773050</td>\n",
       "      <td>30.0</td>\n",
       "      <td>27.036845</td>\n",
       "    </tr>\n",
       "    <tr>\n",
       "      <th>6</th>\n",
       "      <td>33.402439</td>\n",
       "      <td>28.0</td>\n",
       "      <td>28.404337</td>\n",
       "    </tr>\n",
       "    <tr>\n",
       "      <th>7</th>\n",
       "      <td>33.751244</td>\n",
       "      <td>29.0</td>\n",
       "      <td>28.282288</td>\n",
       "    </tr>\n",
       "    <tr>\n",
       "      <th>8</th>\n",
       "      <td>33.777778</td>\n",
       "      <td>27.5</td>\n",
       "      <td>28.935510</td>\n",
       "    </tr>\n",
       "    <tr>\n",
       "      <th>9</th>\n",
       "      <td>33.638462</td>\n",
       "      <td>30.0</td>\n",
       "      <td>28.117927</td>\n",
       "    </tr>\n",
       "    <tr>\n",
       "      <th>10</th>\n",
       "      <td>33.877133</td>\n",
       "      <td>30.0</td>\n",
       "      <td>28.552018</td>\n",
       "    </tr>\n",
       "    <tr>\n",
       "      <th>11</th>\n",
       "      <td>34.075949</td>\n",
       "      <td>28.0</td>\n",
       "      <td>28.389031</td>\n",
       "    </tr>\n",
       "    <tr>\n",
       "      <th>12</th>\n",
       "      <td>35.994065</td>\n",
       "      <td>29.0</td>\n",
       "      <td>30.576990</td>\n",
       "    </tr>\n",
       "  </tbody>\n",
       "</table>\n",
       "</div>"
      ],
      "text/plain": [
       "            mean  median  deviation\n",
       "month                              \n",
       "1      18.235294    15.0  16.197753\n",
       "2      24.086207    20.0  21.750809\n",
       "3      31.857143    23.0  26.804710\n",
       "4      30.741071    28.0  24.538532\n",
       "5      33.773050    30.0  27.036845\n",
       "6      33.402439    28.0  28.404337\n",
       "7      33.751244    29.0  28.282288\n",
       "8      33.777778    27.5  28.935510\n",
       "9      33.638462    30.0  28.117927\n",
       "10     33.877133    30.0  28.552018\n",
       "11     34.075949    28.0  28.389031\n",
       "12     35.994065    29.0  30.576990"
      ]
     },
     "execution_count": 47,
     "metadata": {},
     "output_type": "execute_result"
    }
   ],
   "source": [
    "mean_smart = data.query('tariff == \"smart\"').pivot_table(index='month', values='messages', aggfunc='mean')\n",
    "mean_smart.rename(columns={'messages': 'mean'}, inplace=True)\n",
    "\n",
    "median_smart = data.query('tariff == \"smart\"').pivot_table(index='month', values='messages', aggfunc='median')\n",
    "median_smart.rename(columns={'messages': 'median'}, inplace=True)\n",
    "mean_smart = mean_smart.merge(median_smart, on='month', how='left')\n",
    "\n",
    "\n",
    "devation_smart = data.query('tariff == \"smart\"').pivot_table(index='month', values='messages', aggfunc=np.std)\n",
    "devation_smart.rename(columns={'messages': 'deviation'}, inplace=True)\n",
    "smart = mean_smart.merge(devation_smart, on='month', how='left')\n",
    "\n",
    "smart"
   ]
  },
  {
   "cell_type": "code",
   "execution_count": 48,
   "metadata": {},
   "outputs": [
    {
     "data": {
      "text/plain": [
       "<matplotlib.axes._subplots.AxesSubplot at 0x7f036a57b908>"
      ]
     },
     "execution_count": 48,
     "metadata": {},
     "output_type": "execute_result"
    },
    {
     "data": {
      "image/png": "[encoded data removed]",
      "text/plain": [
       "<Figure size 720x360 with 1 Axes>"
      ]
     },
     "metadata": {
      "needs_background": "light"
     },
     "output_type": "display_data"
    }
   ],
   "source": [
    "smart.plot(grid=True,figsize=(10,5))"
   ]
  },
  {
   "cell_type": "markdown",
   "metadata": {},
   "source": [
    "## Вывод.\n",
    "<b>По графику видно, что среднее и медана за год выросли и имеют тенденцию к росту дальше. \n",
    "Но наблюдается так же большое стандартное отклонение.</b>"
   ]
  },
  {
   "cell_type": "markdown",
   "metadata": {},
   "source": [
    "## Посмотрим метрики пользователей тарифа \"Смарт\" по интернет траффику в месяц."
   ]
  },
  {
   "cell_type": "code",
   "execution_count": 49,
   "metadata": {},
   "outputs": [
    {
     "data": {
      "text/html": [
       "<div>\n",
       "<style scoped>\n",
       "    .dataframe tbody tr th:only-of-type {\n",
       "        vertical-align: middle;\n",
       "    }\n",
       "\n",
       "    .dataframe tbody tr th {\n",
       "        vertical-align: top;\n",
       "    }\n",
       "\n",
       "    .dataframe thead th {\n",
       "        text-align: right;\n",
       "    }\n",
       "</style>\n",
       "<table border=\"1\" class=\"dataframe\">\n",
       "  <thead>\n",
       "    <tr style=\"text-align: right;\">\n",
       "      <th></th>\n",
       "      <th>mean</th>\n",
       "      <th>median</th>\n",
       "      <th>deviation</th>\n",
       "    </tr>\n",
       "    <tr>\n",
       "      <th>month</th>\n",
       "      <th></th>\n",
       "      <th></th>\n",
       "      <th></th>\n",
       "    </tr>\n",
       "  </thead>\n",
       "  <tbody>\n",
       "    <tr>\n",
       "      <th>1</th>\n",
       "      <td>8513.176471</td>\n",
       "      <td>7096.0</td>\n",
       "      <td>6444.688602</td>\n",
       "    </tr>\n",
       "    <tr>\n",
       "      <th>2</th>\n",
       "      <td>11596.517241</td>\n",
       "      <td>12553.5</td>\n",
       "      <td>6247.328777</td>\n",
       "    </tr>\n",
       "    <tr>\n",
       "      <th>3</th>\n",
       "      <td>15103.675325</td>\n",
       "      <td>15670.0</td>\n",
       "      <td>5828.243609</td>\n",
       "    </tr>\n",
       "    <tr>\n",
       "      <th>4</th>\n",
       "      <td>13461.660714</td>\n",
       "      <td>14087.0</td>\n",
       "      <td>5698.201013</td>\n",
       "    </tr>\n",
       "    <tr>\n",
       "      <th>5</th>\n",
       "      <td>15804.666667</td>\n",
       "      <td>16323.0</td>\n",
       "      <td>5978.264732</td>\n",
       "    </tr>\n",
       "    <tr>\n",
       "      <th>6</th>\n",
       "      <td>15794.152439</td>\n",
       "      <td>16077.0</td>\n",
       "      <td>5791.133143</td>\n",
       "    </tr>\n",
       "    <tr>\n",
       "      <th>7</th>\n",
       "      <td>15742.631841</td>\n",
       "      <td>15925.0</td>\n",
       "      <td>5897.185941</td>\n",
       "    </tr>\n",
       "    <tr>\n",
       "      <th>8</th>\n",
       "      <td>16681.196581</td>\n",
       "      <td>16834.0</td>\n",
       "      <td>5498.382706</td>\n",
       "    </tr>\n",
       "    <tr>\n",
       "      <th>9</th>\n",
       "      <td>16303.103846</td>\n",
       "      <td>16028.0</td>\n",
       "      <td>5196.126464</td>\n",
       "    </tr>\n",
       "    <tr>\n",
       "      <th>10</th>\n",
       "      <td>16813.781570</td>\n",
       "      <td>17259.0</td>\n",
       "      <td>5786.621577</td>\n",
       "    </tr>\n",
       "    <tr>\n",
       "      <th>11</th>\n",
       "      <td>16895.193038</td>\n",
       "      <td>17013.5</td>\n",
       "      <td>5340.291831</td>\n",
       "    </tr>\n",
       "    <tr>\n",
       "      <th>12</th>\n",
       "      <td>18113.157270</td>\n",
       "      <td>17713.0</td>\n",
       "      <td>5573.684026</td>\n",
       "    </tr>\n",
       "  </tbody>\n",
       "</table>\n",
       "</div>"
      ],
      "text/plain": [
       "               mean   median    deviation\n",
       "month                                    \n",
       "1       8513.176471   7096.0  6444.688602\n",
       "2      11596.517241  12553.5  6247.328777\n",
       "3      15103.675325  15670.0  5828.243609\n",
       "4      13461.660714  14087.0  5698.201013\n",
       "5      15804.666667  16323.0  5978.264732\n",
       "6      15794.152439  16077.0  5791.133143\n",
       "7      15742.631841  15925.0  5897.185941\n",
       "8      16681.196581  16834.0  5498.382706\n",
       "9      16303.103846  16028.0  5196.126464\n",
       "10     16813.781570  17259.0  5786.621577\n",
       "11     16895.193038  17013.5  5340.291831\n",
       "12     18113.157270  17713.0  5573.684026"
      ]
     },
     "execution_count": 49,
     "metadata": {},
     "output_type": "execute_result"
    }
   ],
   "source": [
    "mean_smart = data.query('tariff == \"smart\"').pivot_table(index='month', values='mb_used', aggfunc='mean')\n",
    "mean_smart.rename(columns={'mb_used': 'mean'}, inplace=True)\n",
    "\n",
    "median_smart = data.query('tariff == \"smart\"').pivot_table(index='month', values='mb_used', aggfunc='median')\n",
    "median_smart.rename(columns={'mb_used': 'median'}, inplace=True)\n",
    "mean_smart = mean_smart.merge(median_smart, on='month', how='left')\n",
    "\n",
    "\n",
    "devation_smart = data.query('tariff == \"smart\"').pivot_table(index='month', values='mb_used', aggfunc=np.std)\n",
    "devation_smart.rename(columns={'mb_used': 'deviation'}, inplace=True)\n",
    "smart = mean_smart.merge(devation_smart, on='month', how='left')\n",
    "\n",
    "smart"
   ]
  },
  {
   "cell_type": "code",
   "execution_count": 50,
   "metadata": {},
   "outputs": [
    {
     "data": {
      "text/plain": [
       "<matplotlib.axes._subplots.AxesSubplot at 0x7f036a4f96a0>"
      ]
     },
     "execution_count": 50,
     "metadata": {},
     "output_type": "execute_result"
    },
    {
     "data": {
      "image/png": "[encoded data removed]",
      "text/plain": [
       "<Figure size 720x360 with 1 Axes>"
      ]
     },
     "metadata": {
      "needs_background": "light"
     },
     "output_type": "display_data"
    }
   ],
   "source": [
    "smart.plot(grid=True,figsize=(10,5))"
   ]
  },
  {
   "cell_type": "markdown",
   "metadata": {},
   "source": [
    "## Вывод.\n",
    "<b>По графику видно, что среднее и медана за год выросли и имеют тенденцию к росту дальше.</b>"
   ]
  },
  {
   "cell_type": "markdown",
   "metadata": {},
   "source": [
    "## Шаг 4. Проверка гипотез."
   ]
  },
  {
   "cell_type": "markdown",
   "metadata": {},
   "source": [
    "### Первая гипотеза.\n",
    "<b>Средняя выручка пользователей тарифов \"Ультра\" и \"Смарт\" различается.</b>"
   ]
  },
  {
   "cell_type": "markdown",
   "metadata": {},
   "source": [
    "Формируем наши датасеты. Проводим срезы по тарифу."
   ]
  },
  {
   "cell_type": "code",
   "execution_count": 61,
   "metadata": {},
   "outputs": [],
   "source": [
    "sample_ultra = data.query('tariff == \"ultra\"').loc[:,'revenu']\n",
    "sample_smart = data.query('tariff == \"smart\"').loc[:,'revenu']"
   ]
  },
  {
   "cell_type": "markdown",
   "metadata": {},
   "source": [
    "Задаем урвоень критической важности, если р-value окажется меньше него - отвергаем гипотезу."
   ]
  },
  {
   "cell_type": "code",
   "execution_count": 62,
   "metadata": {},
   "outputs": [],
   "source": [
    "alpha = .05"
   ]
  },
  {
   "cell_type": "markdown",
   "metadata": {},
   "source": [
    "Проверяем гипотезу о равенстве средних двух независимых совокупностей."
   ]
  },
  {
   "cell_type": "markdown",
   "metadata": {},
   "source": [
    "## Наша гипотеза - средняя выручка пользователей тарифов \"Ультра\" и \"Смарт\" равна."
   ]
  },
  {
   "cell_type": "code",
   "execution_count": 63,
   "metadata": {},
   "outputs": [
    {
     "name": "stdout",
     "output_type": "stream",
     "text": [
      "p-значение: 1.986961942507112e-177\n",
      "Отвергаем нулевую гипотезу\n"
     ]
    }
   ],
   "source": [
    "results = st.ttest_ind(\n",
    "    sample_ultra, \n",
    "    sample_smart)\n",
    "\n",
    "print('p-значение:', results.pvalue)\n",
    "\n",
    "if (results.pvalue < alpha):\n",
    "    print(\"Отвергаем нулевую гипотезу\")\n",
    "else:\n",
    "    print(\"Не получилось отвергнуть нулевую гипотезу\")"
   ]
  },
  {
   "cell_type": "markdown",
   "metadata": {},
   "source": [
    "## Вывод"
   ]
  },
  {
   "cell_type": "code",
   "execution_count": 64,
   "metadata": {},
   "outputs": [
    {
     "name": "stdout",
     "output_type": "stream",
     "text": [
      "Средний чек пользователей разных тарифов отличается и с вероятностью 0.000000% это будет случайно.\n"
     ]
    }
   ],
   "source": [
    "print('Средний чек пользователей разных тарифов отличается и с вероятностью {:%} это будет случайно.'.format(results.pvalue))"
   ]
  },
  {
   "cell_type": "markdown",
   "metadata": {},
   "source": [
    "<font color='magenta'> <b>Комментарий наставника:</b> Добавь, пожалуйста, формулировку самих гипотез.</font>"
   ]
  },
  {
   "cell_type": "markdown",
   "metadata": {},
   "source": [
    "### Вторая гипотеза.\n",
    "<b>Средняя выручка пользователей из Москвы отличается от выручки пользователей из других регионов.</b>"
   ]
  },
  {
   "cell_type": "markdown",
   "metadata": {},
   "source": [
    "Формируем наши датасеты. Проводим срезы по городу."
   ]
  },
  {
   "cell_type": "code",
   "execution_count": 65,
   "metadata": {},
   "outputs": [],
   "source": [
    "sample_Moscow = data.query('city == \"Москва\"').loc[:,'revenu']\n",
    "sample_Russia = data.query('city != \"Москва\"').loc[:,'revenu']"
   ]
  },
  {
   "cell_type": "markdown",
   "metadata": {},
   "source": [
    "Задаем урвоень критической важности, если р-value окажется меньше него - отвергаем гипотезу."
   ]
  },
  {
   "cell_type": "code",
   "execution_count": 66,
   "metadata": {},
   "outputs": [],
   "source": [
    "alpha = .05"
   ]
  },
  {
   "cell_type": "markdown",
   "metadata": {},
   "source": [
    "Проверяем гипотезу о равенстве средних двух независимых совокупностей."
   ]
  },
  {
   "cell_type": "markdown",
   "metadata": {},
   "source": [
    "## Наша гипотеза - средняя выручка пользователей Москвы равна средней выручке пользователей из других регионов"
   ]
  },
  {
   "cell_type": "code",
   "execution_count": 67,
   "metadata": {},
   "outputs": [
    {
     "name": "stdout",
     "output_type": "stream",
     "text": [
      "p-значение: 0.46291765750778235\n",
      "Не получилось отвергнуть нулевую гипотезу\n"
     ]
    }
   ],
   "source": [
    "results = st.ttest_ind(\n",
    "    sample_Moscow, \n",
    "    sample_Russia)\n",
    "\n",
    "print('p-значение:', results.pvalue)\n",
    "\n",
    "if (results.pvalue < alpha):\n",
    "    print(\"Отвергаем нулевую гипотезу\")\n",
    "else:\n",
    "    print(\"Не получилось отвергнуть нулевую гипотезу\")"
   ]
  },
  {
   "cell_type": "markdown",
   "metadata": {},
   "source": [
    "## Вывод"
   ]
  },
  {
   "cell_type": "code",
   "execution_count": 68,
   "metadata": {},
   "outputs": [
    {
     "name": "stdout",
     "output_type": "stream",
     "text": [
      "Средняя выручка с пользователей Москвы равна средней выручке пользователей других городов, с вероятностью в 46.291766% это будет случайно.\n"
     ]
    }
   ],
   "source": [
    "print('Средняя выручка с пользователей Москвы равна средней выручке пользователей других городов, с вероятностью в {:%} это будет случайно.'.format(results.pvalue))"
   ]
  },
  {
   "cell_type": "markdown",
   "metadata": {},
   "source": [
    "<font color='magenta'> <b>Комментарий наставника: </b> Чуть побольше стоит сделать вывод. И, главное - какой тариф все-таки выгодней для сотового оператора? </font>"
   ]
  },
  {
   "cell_type": "markdown",
   "metadata": {},
   "source": [
    "## Так как средняя выручка пользователей тарифов \"Ультра\" и \"Смарт\" не равна, посмотрим какая из них выше и решим, что выгоднй для оператора."
   ]
  },
  {
   "cell_type": "code",
   "execution_count": 59,
   "metadata": {},
   "outputs": [
    {
     "data": {
      "text/html": [
       "<div>\n",
       "<style scoped>\n",
       "    .dataframe tbody tr th:only-of-type {\n",
       "        vertical-align: middle;\n",
       "    }\n",
       "\n",
       "    .dataframe tbody tr th {\n",
       "        vertical-align: top;\n",
       "    }\n",
       "\n",
       "    .dataframe thead th {\n",
       "        text-align: right;\n",
       "    }\n",
       "</style>\n",
       "<table border=\"1\" class=\"dataframe\">\n",
       "  <thead>\n",
       "    <tr style=\"text-align: right;\">\n",
       "      <th></th>\n",
       "      <th>smart</th>\n",
       "      <th>ultra</th>\n",
       "    </tr>\n",
       "    <tr>\n",
       "      <th>month</th>\n",
       "      <th></th>\n",
       "      <th></th>\n",
       "    </tr>\n",
       "  </thead>\n",
       "  <tbody>\n",
       "    <tr>\n",
       "      <th>1</th>\n",
       "      <td>719.205882</td>\n",
       "      <td>1950.000000</td>\n",
       "    </tr>\n",
       "    <tr>\n",
       "      <th>2</th>\n",
       "      <td>810.741379</td>\n",
       "      <td>1977.272727</td>\n",
       "    </tr>\n",
       "    <tr>\n",
       "      <th>3</th>\n",
       "      <td>1134.077922</td>\n",
       "      <td>2014.864865</td>\n",
       "    </tr>\n",
       "    <tr>\n",
       "      <th>4</th>\n",
       "      <td>939.142857</td>\n",
       "      <td>2001.818182</td>\n",
       "    </tr>\n",
       "    <tr>\n",
       "      <th>5</th>\n",
       "      <td>1171.936170</td>\n",
       "      <td>2063.076923</td>\n",
       "    </tr>\n",
       "    <tr>\n",
       "      <th>6</th>\n",
       "      <td>1175.810976</td>\n",
       "      <td>2040.361446</td>\n",
       "    </tr>\n",
       "    <tr>\n",
       "      <th>7</th>\n",
       "      <td>1192.099502</td>\n",
       "      <td>2120.000000</td>\n",
       "    </tr>\n",
       "    <tr>\n",
       "      <th>8</th>\n",
       "      <td>1291.786325</td>\n",
       "      <td>2084.433962</td>\n",
       "    </tr>\n",
       "    <tr>\n",
       "      <th>9</th>\n",
       "      <td>1215.250000</td>\n",
       "      <td>2025.000000</td>\n",
       "    </tr>\n",
       "    <tr>\n",
       "      <th>10</th>\n",
       "      <td>1333.109215</td>\n",
       "      <td>2066.803279</td>\n",
       "    </tr>\n",
       "    <tr>\n",
       "      <th>11</th>\n",
       "      <td>1307.569620</td>\n",
       "      <td>2093.233083</td>\n",
       "    </tr>\n",
       "    <tr>\n",
       "      <th>12</th>\n",
       "      <td>1532.605341</td>\n",
       "      <td>2140.217391</td>\n",
       "    </tr>\n",
       "  </tbody>\n",
       "</table>\n",
       "</div>"
      ],
      "text/plain": [
       "             smart        ultra\n",
       "month                          \n",
       "1       719.205882  1950.000000\n",
       "2       810.741379  1977.272727\n",
       "3      1134.077922  2014.864865\n",
       "4       939.142857  2001.818182\n",
       "5      1171.936170  2063.076923\n",
       "6      1175.810976  2040.361446\n",
       "7      1192.099502  2120.000000\n",
       "8      1291.786325  2084.433962\n",
       "9      1215.250000  2025.000000\n",
       "10     1333.109215  2066.803279\n",
       "11     1307.569620  2093.233083\n",
       "12     1532.605341  2140.217391"
      ]
     },
     "execution_count": 59,
     "metadata": {},
     "output_type": "execute_result"
    }
   ],
   "source": [
    "revenu_smart = data.query('tariff == \"smart\"').pivot_table(index='month', values='revenu', aggfunc='mean')\n",
    "revenu_smart.rename(columns={'revenu': 'smart'}, inplace=True)\n",
    "\n",
    "revenu_ultra = data.query('tariff == \"ultra\"').pivot_table(index='month', values='revenu', aggfunc='mean')\n",
    "revenu_ultra.rename(columns={'revenu': 'ultra'}, inplace=True)\n",
    "\n",
    "revenu = revenu_smart.merge(revenu_ultra, on='month', how='left')\n",
    "\n",
    "revenu"
   ]
  },
  {
   "cell_type": "code",
   "execution_count": 60,
   "metadata": {},
   "outputs": [
    {
     "data": {
      "text/plain": [
       "<matplotlib.axes._subplots.AxesSubplot at 0x7f036a4c0cf8>"
      ]
     },
     "execution_count": 60,
     "metadata": {},
     "output_type": "execute_result"
    },
    {
     "data": {
      "image/png": "[encoded data removed]",
      "text/plain": [
       "<Figure size 720x360 with 1 Axes>"
      ]
     },
     "metadata": {
      "needs_background": "light"
     },
     "output_type": "display_data"
    }
   ],
   "source": [
    "revenu.plot(grid=True,figsize=(10,5))"
   ]
  },
  {
   "cell_type": "markdown",
   "metadata": {},
   "source": [
    "# Вывод\n",
    "Для оператора выгоднее тариф Ультра, он приносит больше денег, но роста выручки с него нет. Тогда как тариф Смарт используют больше людей и выручка с него растет."
   ]
  },
  {
   "cell_type": "code",
   "execution_count": null,
   "metadata": {},
   "outputs": [],
   "source": []
  }
 ],
 "metadata": {
  "kernelspec": {
   "display_name": "Python 3",
   "language": "python",
   "name": "python3"
  },
  "language_info": {
   "codemirror_mode": {
    "name": "ipython",
    "version": 3
   },
   "file_extension": ".py",
   "mimetype": "text/x-python",
   "name": "python",
   "nbconvert_exporter": "python",
   "pygments_lexer": "ipython3",
   "version": "3.8.8"
  }
 },
 "nbformat": 4,
 "nbformat_minor": 2
}
